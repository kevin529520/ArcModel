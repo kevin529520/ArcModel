{
 "cells": [
  {
   "cell_type": "code",
   "execution_count": 7,
   "metadata": {},
   "outputs": [],
   "source": [
    "import os\n",
    "for i in range(1, 201):\n",
    "    if not os.path.exists(f'data_classified/section{i}'):\n",
    "        os.makedirs(f'data_classified/section{i}')"
   ]
  },
  {
   "cell_type": "code",
   "execution_count": 8,
   "metadata": {},
   "outputs": [],
   "source": [
    "import shutil\n",
    "for i in range(1, 201):\n",
    "    destination_folder = f'data_classified/section{i}'\n",
    "    for file in os.listdir('./cropped_binary_resized_mirror_minisize/cropped_binary_resized_mirror_minisize_p1'):\n",
    "        shutil.copy(os.path.join('./cropped_binary_resized_mirror_minisize/cropped_binary_resized_mirror_minisize_p1', file), destination_folder)"
   ]
  },
  {
   "cell_type": "code",
   "execution_count": 9,
   "metadata": {},
   "outputs": [],
   "source": [
    "for i, file in enumerate(os.listdir('./cropped_binary_resized_mirror_minisize/cropped_binary_resized_mirror_minisize_p2')):\n",
    "    if i < 201:\n",
    "        destination_folder = f'data_classified/section{i + 1}'\n",
    "        shutil.copy(os.path.join('./cropped_binary_resized_mirror_minisize/cropped_binary_resized_mirror_minisize_p2', file), destination_folder)"
   ]
  },
  {
   "cell_type": "code",
   "execution_count": 10,
   "metadata": {},
   "outputs": [],
   "source": [
    "for j in range(3, 8):\n",
    "    for i, file in enumerate(os.listdir(f'./cropped_binary_resized_mirror_minisize/cropped_binary_resized_mirror_minisize_p{j}')):\n",
    "        if i < 201:\n",
    "            destination_folder = f'data_classified/section{i + 1}'\n",
    "            shutil.copy(os.path.join(f'./cropped_binary_resized_mirror_miniLsize/cropped_binary_resized_mirror_minisize_p{j}', file), destination_folder)"
   ]
  },
  {
   "cell_type": "code",
   "execution_count": 1,
   "metadata": {},
   "outputs": [],
   "source": [
    "import os\n",
    "import cv2\n",
    "import numpy as np\n",
    "# for img in os.listdir('./data_classified/section1'):\n",
    "images = [cv2.imread(os.path.join('./data_classified/section1', img)) for img in os.listdir('./data_classified/section1')]\n",
    "stitched_image = np.hstack(images)\n",
    "cv2.imshow('stitched_image', stitched_image)\n",
    "cv2.waitKey(0)  # 等待按键\n",
    "cv2.destroyAllWindows()  # 关闭窗口\n",
    "# cv2.imwrite('stitched_image.jpg', stitched_image)"
   ]
  },
  {
   "cell_type": "code",
   "execution_count": null,
   "metadata": {},
   "outputs": [],
   "source": [
    "import os\n",
    "import cv2\n",
    "import numpy as np\n",
    "import matplotlib.pyplot as plt\n",
    "\n",
    "for j in range(1, 11):\n",
    "\n",
    "    # 定义图像目录\n",
    "    image_dir = f'./data_classified/section{j}'\n",
    "\n",
    "    # 获取图像文件列表\n",
    "    image_files = [f for f in os.listdir(image_dir) if f.endswith(('.jpg', '.png', '.jpeg', '.bmp'))]\n",
    "\n",
    "    # plt.figure(figsize=(10, 10))\n",
    "\n",
    "    # 遍历图像文件并显示\n",
    "    for i, img_file in enumerate(image_files):\n",
    "        plt.subplot(3, 3, i + 1)\n",
    "        img_path = os.path.join(image_dir, img_file)\n",
    "        image = cv2.imread(img_path)\n",
    "        plt.imshow(cv2.cvtColor(image, cv2.COLOR_BGR2RGB))\n",
    "        plt.axis('off')\n",
    "\n",
    "    plt.tight_layout()\n",
    "\n",
    "    # 保存整个子图网格\n",
    "    output_path = f'./data_classified/section{j}.jpg'\n",
    "    plt.savefig(output_path, bbox_inches='tight', dpi=300)  # 保存为高分辨率图片\n",
    "    print(f\"子图网格已保存到为'./data_classified/section{j}.jpg'\")\n",
    "\n",
    "    # 显示图像\n",
    "    plt.show()"
   ]
  }
 ],
 "metadata": {
  "kernelspec": {
   "display_name": "Draw",
   "language": "python",
   "name": "python3"
  },
  "language_info": {
   "codemirror_mode": {
    "name": "ipython",
    "version": 3
   },
   "file_extension": ".py",
   "mimetype": "text/x-python",
   "name": "python",
   "nbconvert_exporter": "python",
   "pygments_lexer": "ipython3",
   "version": "3.12.7"
  }
 },
 "nbformat": 4,
 "nbformat_minor": 2
}
