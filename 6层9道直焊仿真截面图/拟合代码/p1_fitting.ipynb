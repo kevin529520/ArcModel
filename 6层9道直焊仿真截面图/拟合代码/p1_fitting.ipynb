{
 "cells": [
  {
   "cell_type": "code",
   "execution_count": 19,
   "metadata": {},
   "outputs": [
    {
     "name": "stdout",
     "output_type": "stream",
     "text": [
      "820\n",
      "焊接位置/mm： 0 3\n",
      "[560.0, 400.0]\n"
     ]
    },
    {
     "name": "stderr",
     "output_type": "stream",
     "text": [
      "C:\\Users\\Kevin\\AppData\\Local\\Temp\\ipykernel_6268\\308932824.py:12: RuntimeWarning: invalid value encountered in sqrt\n",
      "  return np.sqrt(r**2 - (x - cx)**2) + cy\n"
     ]
    },
    {
     "name": "stdout",
     "output_type": "stream",
     "text": [
      "圆半径 140.33885806613324 pix\n",
      "y_loss: 0.6862737621295001\n"
     ]
    },
    {
     "name": "stderr",
     "output_type": "stream",
     "text": [
      "C:\\Users\\Kevin\\AppData\\Local\\Temp\\ipykernel_6268\\308932824.py:12: RuntimeWarning: invalid value encountered in sqrt\n",
      "  return np.sqrt(r**2 - (x - cx)**2) + cy\n"
     ]
    },
    {
     "data": {
      "image/png": "[encoded data removed]",
      "text/plain": [
       "<Figure size 640x480 with 1 Axes>"
      ]
     },
     "metadata": {},
     "output_type": "display_data"
    }
   ],
   "source": [
    "# 拟合并且保存图片\n",
    "import csv\n",
    "import cv2\n",
    "import numpy as np\n",
    "import matplotlib.pyplot as plt\n",
    "from scipy.optimize import curve_fit\n",
    "from matplotlib.patches import Circle\n",
    "import os\n",
    "# from scipy.optimize import curve_fit\n",
    "\n",
    "def circle(x, cx, cy, r):\n",
    "    return np.sqrt(r**2 - (x - cx)**2) + cy\n",
    "\n",
    "# 读取黑白图片\n",
    "filename = 'p1-1.bmp'\n",
    "folder_path = './resized_images/'\n",
    "# os.path.join(output_path, 'fitted_'+filename)\n",
    "image = cv2.imread(os.path.join(folder_path, filename), cv2.IMREAD_GRAYSCALE)\n",
    "# image = cv2.imread('./cropped/cropped_p2-1_0015.bmp', cv2.IMREAD_GRAYSCALE)\n",
    "width, length = image.shape\n",
    "print(length)\n",
    "\n",
    "# 定义特定区域的边界框 [start_row:end_row, start_col:end_col]\n",
    "\n",
    "start_row, end_row = 50, 250  # 请根据实际情况调整\n",
    "start_col, end_col = 290, 399\n",
    "\n",
    "scale_factor = 820/528\n",
    "\n",
    "start_row = int(start_row * scale_factor)\n",
    "end_row = int(end_row * scale_factor)\n",
    "start_col = int(start_col * scale_factor)\n",
    "end_col = int(end_col * scale_factor)\n",
    "\n",
    "# 裁剪图像\n",
    "cropped_image = image[start_row:end_row, start_col:end_col]\n",
    "\n",
    "\n",
    "# 获取裁剪后图像的形状\n",
    "rows, cols = cropped_image.shape\n",
    "\n",
    "# # 如果行数不足710行，则填充白色像素\n",
    "# if rows < 710:\n",
    "#     padding_rows = 710 - rows\n",
    "#     padding = np.ones((padding_rows, cols)) * 255  # 255表示白色像素\n",
    "#     image = np.vstack((image, padding))\n",
    "\n",
    "\n",
    "# 获取裁剪后图像的形状\n",
    "rows, cols = cropped_image.shape\n",
    "\n",
    "# 存储每列的第一个黑色点的坐标\n",
    "first_black_pixels = []\n",
    "\n",
    "# 遍历每一列\n",
    "for col in range(cols):\n",
    "    # 找到当前列中第一个黑色点的行坐标\n",
    "    black_pixel_row = np.argmax(cropped_image[:, col] == 0)\n",
    "    \n",
    "    # 如果找到了黑色点，则记录坐标\n",
    "    if black_pixel_row > 0:  # 0 表示未找到黑色点\n",
    "        # 转换坐标为完整图像坐标\n",
    "        full_image_row =width - (start_row + black_pixel_row)\n",
    "        first_black_pixels.append((start_col + col, full_image_row))\n",
    "\n",
    "# 将坐标转换为 NumPy 数组\n",
    "first_black_pixels = np.array(first_black_pixels)\n",
    "# print(first_black_pixels)\n",
    "\n",
    "# 进行圆形拟合\n",
    "p0 = [np.mean(first_black_pixels[:, 0]), np.mean(first_black_pixels[:, 1])-200, 200.0]  # 初始猜测值\n",
    "# p0 = [150, 100, 100.0]  # 初始猜测值\n",
    "params, covariance = curve_fit(circle, first_black_pixels[:, 0], first_black_pixels[:, 1], p0=p0)\n",
    "fit_errors = np.sqrt(np.diag(covariance))\n",
    "\n",
    "# 提取拟合结果\n",
    "cx, cy, r = params\n",
    "\n",
    "# 生成拟合曲线的 x 值范围\n",
    "fit_x = np.linspace(min(first_black_pixels[:, 0]), max(first_black_pixels[:, 0]), 100)\n",
    "\n",
    "# 计算拟合曲线的 y 值\n",
    "fit_y = circle(fit_x, cx, cy, r)\n",
    "\n",
    "# 显示图像\n",
    "output_path = './fitted/'\n",
    "\n",
    "output_filename = os.path.join(output_path, 'fitted_'+filename.replace('bmp','jpg'))\n",
    "\n",
    "\n",
    "\n",
    "plt.imshow(image, cmap='gray')\n",
    "# plt.imshow(image, cmap='gray', extent=[0, image.shape[1], 0, 700])\n",
    "\n",
    "# 在坐标轴上画出每列的第一个黑色点的位置\n",
    "plt.scatter(first_black_pixels[:, 0], width-first_black_pixels[:, 1], color='red', s=5)\n",
    "# 画出拟合圆\n",
    "# plt.plot(fit_x, fit_y, color='blue')\n",
    "circle_patch = Circle((cx, width-cy), r, color='green', fill=False)\n",
    "plt.gca().add_patch(circle_patch)\n",
    "\n",
    "\n",
    "scale_factor = 41 / length  # 将369像素映射到29mm\n",
    "\n",
    "# 标记圆心位置\n",
    "plt.scatter(cx, width-cy, color='green', marker='.')\n",
    "\n",
    "p1= [0, 3]\n",
    "p1_scaled=[0,0]\n",
    "p1_scaled[0] = (-p1[0]+28)/scale_factor\n",
    "p1_scaled[1] = width - (p1[1]+6)/scale_factor \n",
    "print( \"焊接位置/mm：\", p1[0], p1[1]) \n",
    "\n",
    "print(p1_scaled)\n",
    "plt.scatter(p1_scaled[0], p1_scaled[1], color='red', marker='.')\n",
    "\n",
    "# # 显示图像、黑色像素位置和拟合圆\n",
    "# plt.axis('equal')\n",
    "# plt.show()\n",
    "plt.savefig(output_filename)\n",
    "print(\"圆半径\",r,\"pix\")\n",
    "\n",
    "\n",
    "scaled_first_black_pixels = first_black_pixels * scale_factor\n",
    "# p0_scaled = [175 * scale_factor, 60 * scale_factor, 150.0 * scale_factor]  # 初始猜测值\n",
    "p0_scaled = [p * scale_factor for p in p0]\n",
    "params_scaled, covariance_scaled = curve_fit(circle, scaled_first_black_pixels[:, 0], scaled_first_black_pixels[:, 1], p0=p0_scaled)\n",
    "\n",
    "# # 计算标准偏差作为拟合误差的估计\n",
    "# fit_errors_scaled = np.sqrt(np.diag(covariance_scaled))\n",
    "\n",
    "# print(f\"Circle center (cx/pix, cy/pix): ({cx:.3f} ± {fit_errors[0]:.3f}, {580 - cy:.3f} ± {fit_errors[1]:.3f})\")\n",
    "# print(f\"Circle radius (r/pix): {r:.3f} ± {fit_errors[2]:.3f}\")\n",
    "\n",
    "# print(f\"Circle center (cx_scaled/mm, cy_scaled/mm): ({28-cx*scale_factor:.3f} ± {fit_errors_scaled[0]:.3f}, {cy*scale_factor-6:.3f} ± {fit_errors_scaled[1]:.3f})\")\n",
    "# print(f\"Circle radius (r_scaled/mm): {r*scale_factor:.3f} ± {fit_errors_scaled[2]:.3f}\")\n",
    "\n",
    "# print(f\"relative error: {100 * fit_errors_scaled[0]/(28-cx*scale_factor):.3f}, {100 * fit_errors_scaled[1]/(cy*scale_factor-6):.3f}, {100 * fit_errors_scaled[2]/(r*scale_factor):.3f}\")\n",
    "\n",
    "predicted_y = circle(first_black_pixels[:, 0], *params)\n",
    "\n",
    "# 计算拟合误差\n",
    "y_loss = np.sqrt(np.mean((first_black_pixels[:, 1] - predicted_y)**2))\n",
    "print('y_loss:', y_loss)\n",
    "\n",
    "# cv2.imwrite(output_filename, image)\n",
    "\n",
    "\n",
    "\n",
    "# with open('predict.txt', 'r') as f:\n",
    "#     reader = csv.reader(f)\n",
    "#     data = list(reader)\n",
    "\n",
    "# # 添加新的数据\n",
    "# # for i in range(len(data)):\n",
    "# #     # 如果原有的列数不足6列，用空字符串填充\n",
    "# #     while len(data[i]) < 6:\n",
    "# #         data[i].append('')\n",
    "#     # 添加新的数据\n",
    "    \n",
    "# # 找到第一个第四、五、六列为空的行的索引\n",
    "# start_index = next((i for i, row in enumerate(data) if all(x == '' for x in row[1:4])), len(data))\n",
    "\n",
    "# # 添加新的数据\n",
    "# for i in range(start_index, start_index + len(circle_data)):\n",
    "#     if i < len(data):\n",
    "#         data[i][3:6] = circle_data[i - start_index]\n",
    "#     else:\n",
    "#         data.append(circle_data[i - start_index] + [''] * (len(data[0]) - 6))\n",
    "\n",
    "# # 写回文件\n",
    "# with open('predict.txt', 'w', newline='') as f:\n",
    "#     writer = csv.writer(f)\n",
    "#     writer.writerows(data)\n",
    "# cv2.imwrite(output_filename, image)"
   ]
  },
  {
   "cell_type": "code",
   "execution_count": 20,
   "metadata": {},
   "outputs": [
    {
     "name": "stdout",
     "output_type": "stream",
     "text": [
      "580\n"
     ]
    },
    {
     "data": {
      "text/plain": [
       "<matplotlib.image.AxesImage at 0x1dac928ddf0>"
      ]
     },
     "execution_count": 20,
     "metadata": {},
     "output_type": "execute_result"
    },
    {
     "data": {
      "image/png": "[encoded data removed]",
      "text/plain": [
       "<Figure size 640x480 with 1 Axes>"
      ]
     },
     "metadata": {},
     "output_type": "display_data"
    }
   ],
   "source": [
    "import cv2\n",
    "import numpy as np\n",
    "import matplotlib.pyplot as plt\n",
    "from scipy.optimize import curve_fit\n",
    "from matplotlib.patches import Circle\n",
    "# from scipy.optimize import curve_fit\n",
    "\n",
    "def circle(x, cx, cy, r):\n",
    "    return np.sqrt(r**2 - (x - cx)**2) + cy\n",
    "\n",
    "# 读取黑白图片\n",
    "image = cv2.imread('./ppt_2/p1-1.bmp', cv2.IMREAD_GRAYSCALE)\n",
    "plt.imshow(image)\n",
    "width, length = image.shape\n",
    "print(width)\n",
    "\n",
    "# 定义特定区域的边界框 [start_row:end_row, start_col:end_col]\n",
    "\n",
    "# start_row, end_row = 200, 280  # 请根据实际情况调整\n",
    "# start_col, end_col = 135, 275\n",
    "\n",
    "start_row, end_row = 50, 250  # 请根据实际情况调整\n",
    "start_col, end_col = 290, 390\n",
    "# imgcrop = image.crop((start_row, start_col, end_row, end_col))\n",
    "# plt.imshow(imgcrop)\n",
    "\n",
    "# 裁剪图像\n",
    "cropped_image = image[start_row:end_row, start_col:end_col]\n",
    "plt.imshow(cropped_image)"
   ]
  },
  {
   "cell_type": "code",
   "execution_count": 26,
   "metadata": {},
   "outputs": [
    {
     "name": "stdout",
     "output_type": "stream",
     "text": [
      "820\n",
      "焊接位置/mm： 0 3\n",
      "[560.0, 471.0]\n",
      "圆半径 138.8743329799072 pix\n",
      "Circle center (cx/pix, cy/pix): (552.811 ± 0.200, 481.304 ± 0.809)\n",
      "Circle radius (r/pix): 138.874 ± 0.769\n",
      "Circle center (cx_scaled/mm, cy_scaled/mm): (0.359 ± 0.010, -1.065 ± 0.040)\n",
      "Circle radius (r_scaled/mm): 6.944 ± 0.038\n",
      "relative error: 2.788, -3.796, 0.554\n"
     ]
    },
    {
     "name": "stderr",
     "output_type": "stream",
     "text": [
      "C:\\Users\\Kevin\\AppData\\Local\\Temp\\ipykernel_6268\\3837469563.py:12: RuntimeWarning: invalid value encountered in sqrt\n",
      "  return np.sqrt(r**2 - (x - cx)**2) + cy\n",
      "C:\\Users\\Kevin\\AppData\\Local\\Temp\\ipykernel_6268\\3837469563.py:12: RuntimeWarning: invalid value encountered in sqrt\n",
      "  return np.sqrt(r**2 - (x - cx)**2) + cy\n"
     ]
    },
    {
     "data": {
      "image/png": "[encoded data removed]",
      "text/plain": [
       "<Figure size 640x480 with 1 Axes>"
      ]
     },
     "metadata": {},
     "output_type": "display_data"
    }
   ],
   "source": [
    "# 拟合并且保存图片\n",
    "import csv\n",
    "import cv2\n",
    "import numpy as np\n",
    "import matplotlib.pyplot as plt\n",
    "from scipy.optimize import curve_fit\n",
    "from matplotlib.patches import Circle\n",
    "import os\n",
    "# from scipy.optimize import curve_fit\n",
    "\n",
    "def circle(x, cx, cy, r):\n",
    "    return np.sqrt(r**2 - (x - cx)**2) + cy\n",
    "\n",
    "# 读取黑白图片\n",
    "filename = 'p1-1.bmp'\n",
    "folder_path = './resized_images/'\n",
    "# os.path.join(output_path, 'fitted_'+filename)\n",
    "image = cv2.imread(os.path.join(folder_path, filename), cv2.IMREAD_GRAYSCALE)\n",
    "# image = cv2.imread('./cropped/cropped_p2-1_0015.bmp', cv2.IMREAD_GRAYSCALE)\n",
    "width, length = image.shape\n",
    "print(length)\n",
    "\n",
    "# 定义特定区域的边界框 [start_row:end_row, start_col:end_col]\n",
    "\n",
    "start_row, end_row = 50, 250  # 请根据实际情况调整\n",
    "start_col, end_col = 290, 395\n",
    "\n",
    "scale_factor = 820/528\n",
    "\n",
    "start_row = int(start_row * scale_factor)\n",
    "end_row = int(end_row * scale_factor)\n",
    "start_col = int(start_col * scale_factor)\n",
    "end_col = int(end_col * scale_factor)\n",
    "\n",
    "# 裁剪图像\n",
    "cropped_image = image[start_row:end_row, start_col:end_col]\n",
    "\n",
    "# 获取裁剪后图像的形状\n",
    "rows, cols = cropped_image.shape\n",
    "\n",
    "# 存储每列的第一个黑色点的坐标\n",
    "first_black_pixels = []\n",
    "\n",
    "# 遍历每一列\n",
    "for col in range(cols):\n",
    "    # 找到当前列中第一个黑色点的行坐标\n",
    "    black_pixel_row = np.argmax(cropped_image[:, col] == 0)\n",
    "    \n",
    "    # 如果找到了黑色点，则记录坐标\n",
    "    if black_pixel_row > 0:  # 0 表示未找到黑色点\n",
    "        # 转换坐标为完整图像坐标\n",
    "        full_image_row =width - (start_row + black_pixel_row)\n",
    "        first_black_pixels.append((start_col + col, full_image_row))\n",
    "\n",
    "# 将坐标转换为 NumPy 数组\n",
    "first_black_pixels = np.array(first_black_pixels)\n",
    "# print(first_black_pixels)\n",
    "\n",
    "# 进行圆形拟合\n",
    "p0 = [np.mean(first_black_pixels[:, 0]), np.mean(first_black_pixels[:, 1])-200, 200.0]  # 初始猜测值\n",
    "# p0 = [150, 100, 100.0]  # 初始猜测值\n",
    "params, covariance = curve_fit(circle, first_black_pixels[:, 0], first_black_pixels[:, 1], p0=p0)\n",
    "fit_errors = np.sqrt(np.diag(covariance))\n",
    "\n",
    "# 提取拟合结果\n",
    "cx, cy, r = params\n",
    "\n",
    "# 生成拟合曲线的 x 值范围\n",
    "fit_x = np.linspace(min(first_black_pixels[:, 0]), max(first_black_pixels[:, 0]), 100)\n",
    "\n",
    "# 计算拟合曲线的 y 值\n",
    "fit_y = circle(fit_x, cx, cy, r)\n",
    "\n",
    "# 显示图像\n",
    "output_path = './fitted/'\n",
    "\n",
    "output_filename = os.path.join(output_path, 'fitted_'+filename.replace('bmp','jpg'))\n",
    "\n",
    "plt.imshow(image, cmap='gray')\n",
    "\n",
    "# 在坐标轴上画出每列的第一个黑色点的位置\n",
    "plt.scatter(first_black_pixels[:, 0], width-first_black_pixels[:, 1], color='red', s=20)\n",
    "# 画出拟合圆\n",
    "# plt.plot(fit_x, fit_y, color='red')\n",
    "# circle_patch = Circle((cx, width-cy), r, color='green', fill=False)\n",
    "circle_patch = Circle((cx, width-cy), r, color='green', fill=False, linewidth=3)\n",
    "plt.gca().add_patch(circle_patch)\n",
    "\n",
    "\n",
    "scale_factor = 41 / length  # 将369像素映射到29mm\n",
    "\n",
    "# 标记圆心位置\n",
    "plt.scatter(cx, width-cy, color='green', marker='.', s=150)\n",
    "\n",
    "p1= [0, 3]\n",
    "p1_scaled=[0,0]\n",
    "p1_scaled[0] = (-p1[0]+28)/scale_factor\n",
    "p1_scaled[1] = width + 71 - (p1[1]+6)/scale_factor \n",
    "print( \"焊接位置/mm：\", p1[0], p1[1]) \n",
    "\n",
    "print(p1_scaled)\n",
    "\n",
    "plt.scatter(p1_scaled[0], p1_scaled[1], color='red', marker='x', s=75)\n",
    "# plt.axis('off') \n",
    "# # 显示图像、黑色像素位置和拟合圆\n",
    "# plt.axis('equal')\n",
    "# plt.show()\n",
    "plt.savefig(output_filename)\n",
    "print(\"圆半径\",r,\"pix\")\n",
    "\n",
    "\n",
    "scaled_first_black_pixels = first_black_pixels * scale_factor\n",
    "\n",
    "p0_scaled = [p * scale_factor for p in p0]\n",
    "params_scaled, covariance_scaled = curve_fit(circle, scaled_first_black_pixels[:, 0], scaled_first_black_pixels[:, 1], p0=p0_scaled)\n",
    "\n",
    "# 计算标准偏差作为拟合误差的估计\n",
    "fit_errors_scaled = np.sqrt(np.diag(covariance_scaled))\n",
    "\n",
    "print(f\"Circle center (cx/pix, cy/pix): ({cx:.3f} ± {fit_errors[0]:.3f}, {580 - cy:.3f} ± {fit_errors[1]:.3f})\")\n",
    "print(f\"Circle radius (r/pix): {r:.3f} ± {fit_errors[2]:.3f}\")\n",
    "\n",
    "print(f\"Circle center (cx_scaled/mm, cy_scaled/mm): ({28-cx*scale_factor:.3f} ± {fit_errors_scaled[0]:.3f}, {cy*scale_factor-6:.3f} ± {fit_errors_scaled[1]:.3f})\")\n",
    "print(f\"Circle radius (r_scaled/mm): {r*scale_factor:.3f} ± {fit_errors_scaled[2]:.3f}\")\n",
    "\n",
    "print(f\"relative error: {100 * fit_errors_scaled[0]/(28-cx*scale_factor):.3f}, {100 * fit_errors_scaled[1]/(cy*scale_factor-6):.3f}, {100 * fit_errors_scaled[2]/(r*scale_factor):.3f}\")\n",
    "\n",
    "\n",
    "# cv2.imwrite(output_filename, image)"
   ]
  },
  {
   "cell_type": "code",
   "execution_count": 27,
   "metadata": {},
   "outputs": [
    {
     "name": "stdout",
     "output_type": "stream",
     "text": [
      "820\n",
      "y_loss: 0.6356138051035236\n",
      "r_squared: 0.996495100689388\n"
     ]
    },
    {
     "data": {
      "text/plain": [
       "<matplotlib.collections.PathCollection at 0x1dac65050a0>"
      ]
     },
     "execution_count": 27,
     "metadata": {},
     "output_type": "execute_result"
    },
    {
     "data": {
      "image/png": "[encoded data removed]",
      "text/plain": [
       "<Figure size 630x600 with 1 Axes>"
      ]
     },
     "metadata": {},
     "output_type": "display_data"
    }
   ],
   "source": [
    "import matplotlib.pyplot as plt\n",
    "plt.rc('font',family='Times New Roman')\n",
    "\n",
    "plt.rcParams.update({'font.size': 9})\n",
    "# plt.figure(figsize=(2.1, 2), dpi=300)\n",
    "# plt.gca().set_aspect('equal', adjustable='box')\n",
    "fig, axes = plt.subplots(figsize=(2.1, 2), dpi=300)\n",
    "\n",
    "\n",
    "\n",
    "height, width = image.shape\n",
    "print(width)  # 打印图像的宽度\n",
    "\n",
    "new_height = height + 71\n",
    "\n",
    "# 创建一个新的行，填充为255，长度为图像的宽度\n",
    "new_row = np.ones((71, width)) * 255  \n",
    "\n",
    "# 添加新的行到图像数组的顶部\n",
    "image = np.vstack((new_row, image))  \n",
    "\n",
    "# 创建一个新的行，填充为255，长度为图像的宽度\n",
    "new_row2 = np.ones((710 - height, width)) * 255  \n",
    "\n",
    "# 添加新的行到图像数组的底部\n",
    "image = np.vstack((image, new_row2))\n",
    "\n",
    "\n",
    "\n",
    "plt.imshow(image, cmap='gray')\n",
    "\n",
    "# 在坐标轴上画出每列的第一个黑色点的位置\n",
    "plt.scatter(first_black_pixels[:, 0], new_height - first_black_pixels[:, 1], color='red', s=1)\n",
    "# 画出拟合圆\n",
    "# plt.plot(fit_x, fit_y, color='red')\n",
    "# circle_patch = Circle((cx, width-cy), r, color='green', fill=False)\n",
    "circle_patch = Circle((cx, new_height - cy), r, color='green', fill=False, linewidth=1)\n",
    "plt.gca().add_patch(circle_patch)\n",
    "\n",
    "\n",
    "# 画出拟合圆\n",
    "# plt.plot(fit_x, fit_y, color='blue')\n",
    "circle_patch = Circle((p1_scaled[0], p1_scaled[1]), radius=15, color='red', fill=False, linewidth=0.5)\n",
    "plt.gca().add_patch(circle_patch)\n",
    "\n",
    "plt.scatter(p1_scaled[0], p1_scaled[1], color='red', marker='x', s=7, linewidth=0.5)\n",
    "\n",
    "\n",
    "predicted_y = circle(first_black_pixels[:, 0], *params)\n",
    "\n",
    "# 计算拟合误差\n",
    "y_loss = np.sqrt(np.mean((first_black_pixels[:, 1] - predicted_y)**2))\n",
    "print('y_loss:', y_loss)\n",
    "\n",
    "r_squared = 1 - (np.sum((first_black_pixels[:, 1] - circle(first_black_pixels[:, 0], *params))**2) / np.sum((first_black_pixels[:, 1] - np.mean(first_black_pixels[:, 1]))**2))\n",
    "print('r_squared:', r_squared)\n",
    "\n",
    "# 标记圆心位置\n",
    "plt.scatter(cx, new_height - cy, color='green', marker='.', s=5,)\n",
    "\n"
   ]
  },
  {
   "cell_type": "code",
   "execution_count": 23,
   "metadata": {},
   "outputs": [
    {
     "data": {
      "text/plain": [
       "(71, 820)"
      ]
     },
     "execution_count": 23,
     "metadata": {},
     "output_type": "execute_result"
    }
   ],
   "source": [
    "# Creating a new image array filled with 255\n",
    "list = [255] * image.shape[1]\n",
    "image2 = np.array([list] * 71)\n",
    "image2.shape"
   ]
  },
  {
   "cell_type": "code",
   "execution_count": 24,
   "metadata": {},
   "outputs": [
    {
     "data": {
      "text/plain": [
       "[1, 1, 1, 1, 1, 1, 1, 1, 1, 1]"
      ]
     },
     "execution_count": 24,
     "metadata": {},
     "output_type": "execute_result"
    }
   ],
   "source": [
    "a = [1] * 10\n",
    "a"
   ]
  }
 ],
 "metadata": {
  "kernelspec": {
   "display_name": "base",
   "language": "python",
   "name": "python3"
  },
  "language_info": {
   "codemirror_mode": {
    "name": "ipython",
    "version": 3
   },
   "file_extension": ".py",
   "mimetype": "text/x-python",
   "name": "python",
   "nbconvert_exporter": "python",
   "pygments_lexer": "ipython3",
   "version": "3.9.13"
  },
  "orig_nbformat": 4
 },
 "nbformat": 4,
 "nbformat_minor": 2
}
