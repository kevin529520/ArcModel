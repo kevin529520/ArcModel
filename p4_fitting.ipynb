{
 "cells": [
  {
   "cell_type": "code",
   "execution_count": 1,
   "metadata": {},
   "outputs": [
    {
     "name": "stdout",
     "output_type": "stream",
     "text": [
      "1\n",
      "580\n",
      "y_loss: 1.3654120669794074\n",
      "r_squared: 0.904225320657604\n",
      "2\n",
      "580\n",
      "y_loss: 1.294820646149352\n",
      "r_squared: 0.9012485120466303\n",
      "3\n",
      "580\n",
      "y_loss: 1.0672160085077111\n",
      "r_squared: 0.925675351289094\n",
      "4\n",
      "580\n",
      "y_loss: 1.036809819101753\n",
      "r_squared: 0.9215673760960339\n",
      "5\n",
      "580\n",
      "y_loss: 1.226541427226955\n",
      "r_squared: 0.89702476165449\n",
      "6\n",
      "580\n",
      "y_loss: 1.4698814427470406\n",
      "r_squared: 0.8880325236420153\n",
      "7\n",
      "580\n",
      "y_loss: 1.655725639571835\n",
      "r_squared: 0.8764315573445207\n",
      "8\n",
      "580\n",
      "y_loss: 1.480057684540105\n",
      "r_squared: 0.8995470766384556\n",
      "9\n",
      "580\n",
      "y_loss: 1.5361831404968445\n",
      "r_squared: 0.8800400162499655\n",
      "10\n",
      "580\n",
      "y_loss: 1.3395913089025542\n",
      "r_squared: 0.925081055061437\n",
      "11\n",
      "580\n",
      "y_loss: 1.2195520275631957\n",
      "r_squared: 0.9409148698010472\n",
      "12\n",
      "580\n",
      "y_loss: 1.1501053327466577\n",
      "r_squared: 0.9541345930756922\n",
      "13\n",
      "580\n",
      "y_loss: 1.0567783403070148\n",
      "r_squared: 0.9605493244552111\n",
      "14\n",
      "580\n",
      "y_loss: 1.043192027692761\n",
      "r_squared: 0.964661981825305\n",
      "15\n",
      "580\n",
      "y_loss: 1.1214322027289971\n",
      "r_squared: 0.9632504465850872\n",
      "16\n",
      "580\n",
      "y_loss: 1.1281407800494823\n",
      "r_squared: 0.9659568754855803\n",
      "17\n",
      "580\n",
      "y_loss: 1.1616990820074473\n",
      "r_squared: 0.9665970436683139\n",
      "18\n",
      "580\n",
      "y_loss: 1.2540226522054092\n",
      "r_squared: 0.9604809035136884\n",
      "19\n",
      "580\n",
      "y_loss: 1.4530866032771714\n",
      "r_squared: 0.9581177327696409\n",
      "20\n",
      "580\n",
      "y_loss: 1.5194181866883314\n",
      "r_squared: 0.9580021077532667\n",
      "21\n",
      "580\n",
      "y_loss: 1.4855608371658588\n",
      "r_squared: 0.9634249339074986\n",
      "22\n",
      "580\n",
      "y_loss: 1.4608047039222627\n",
      "r_squared: 0.9673097457824633\n",
      "23\n",
      "580\n",
      "y_loss: 1.473134462165066\n",
      "r_squared: 0.9691031753144014\n",
      "24\n",
      "580\n",
      "y_loss: 1.391556216084661\n",
      "r_squared: 0.9735431415367682\n",
      "25\n",
      "580\n",
      "y_loss: 1.440293940061359\n",
      "r_squared: 0.973868787948717\n",
      "26\n",
      "580\n",
      "y_loss: 1.4875043303589235\n",
      "r_squared: 0.9752262363071744\n",
      "27\n",
      "580\n",
      "y_loss: 1.4468540997742612\n",
      "r_squared: 0.9778055228793422\n",
      "28\n",
      "580\n",
      "y_loss: 1.434504291257734\n",
      "r_squared: 0.979607809113988\n",
      "29\n",
      "580\n",
      "y_loss: 1.3947721448720842\n",
      "r_squared: 0.9810479665300585\n",
      "30\n",
      "580\n",
      "y_loss: 1.3613476571754488\n",
      "r_squared: 0.9826152658141312\n",
      "31\n",
      "580\n",
      "y_loss: 1.3188982015599258\n",
      "r_squared: 0.9829207780662319\n",
      "32\n",
      "580\n",
      "y_loss: 1.2621957840716023\n",
      "r_squared: 0.9837083175021093\n",
      "33\n",
      "580\n",
      "y_loss: 1.811433151137746\n",
      "r_squared: 0.9616805064884735\n",
      "34\n",
      "580\n",
      "y_loss: 1.558964698289421\n",
      "r_squared: 0.9681492829510651\n",
      "35\n",
      "580\n",
      "y_loss: 1.6852115843874806\n",
      "r_squared: 0.9689633959592335\n",
      "36\n",
      "580\n",
      "y_loss: 1.411219961556113\n",
      "r_squared: 0.9749645523875173\n",
      "37\n"
     ]
    },
    {
     "name": "stderr",
     "output_type": "stream",
     "text": [
      "C:\\Users\\Kevin\\AppData\\Local\\Temp\\ipykernel_8760\\2218890742.py:32: RuntimeWarning: More than 20 figures have been opened. Figures created through the pyplot interface (`matplotlib.pyplot.figure`) are retained until explicitly closed and may consume too much memory. (To control this warning, see the rcParam `figure.max_open_warning`). Consider using `matplotlib.pyplot.close()`.\n",
      "  plt.figure()\n",
      "C:\\Users\\Kevin\\AppData\\Local\\Temp\\ipykernel_8760\\2218890742.py:13: RuntimeWarning: invalid value encountered in sqrt\n",
      "  return np.sqrt(r**2 - (x - cx)**2) + cy\n"
     ]
    },
    {
     "name": "stdout",
     "output_type": "stream",
     "text": [
      "580\n",
      "y_loss: 1.2912880623518193\n",
      "r_squared: 0.9775865181529992\n",
      "38\n",
      "580\n",
      "y_loss: 1.2770690820955093\n",
      "r_squared: 0.9772210243151072\n",
      "39\n",
      "580\n",
      "y_loss: 1.4472089478386114\n",
      "r_squared: 0.9712292882863488\n",
      "40\n",
      "580\n",
      "y_loss: 1.3866770237146808\n",
      "r_squared: 0.9742014440779994\n",
      "41\n",
      "580\n",
      "y_loss: 1.5467878330980591\n",
      "r_squared: 0.9734124199479931\n",
      "42\n",
      "580\n",
      "y_loss: 1.4163655303070497\n",
      "r_squared: 0.9751970092223778\n",
      "43\n",
      "580\n",
      "y_loss: 1.55237475334648\n",
      "r_squared: 0.9717696549416046\n",
      "44\n",
      "580\n",
      "y_loss: 1.6340157659946288\n",
      "r_squared: 0.9716441369956598\n",
      "45\n",
      "580\n",
      "y_loss: 1.3294690550705028\n",
      "r_squared: 0.9841191795744869\n",
      "46\n",
      "580\n",
      "y_loss: 1.069458210025929\n",
      "r_squared: 0.9898793041261893\n",
      "47\n",
      "580\n",
      "y_loss: 1.1957505386348155\n",
      "r_squared: 0.9874451062088154\n",
      "48\n",
      "580\n",
      "y_loss: 1.2617090217549596\n",
      "r_squared: 0.9868317507190185\n",
      "49\n",
      "580\n",
      "y_loss: 1.1954026907803386\n",
      "r_squared: 0.9896723278206502\n",
      "50\n",
      "580\n",
      "y_loss: 1.2374156843389197\n",
      "r_squared: 0.9884773489015296\n",
      "51\n",
      "580\n",
      "y_loss: 1.3825012556489196\n",
      "r_squared: 0.9868637565355677\n",
      "52\n",
      "580\n",
      "y_loss: 1.3382953705409777\n",
      "r_squared: 0.9887104856479259\n",
      "53\n",
      "580\n",
      "y_loss: 1.255016159672864\n",
      "r_squared: 0.9896284358281898\n",
      "54\n",
      "580\n",
      "y_loss: 1.537514990814592\n",
      "r_squared: 0.9845314378666519\n",
      "55\n",
      "580\n",
      "y_loss: 1.6425767352469012\n",
      "r_squared: 0.9813958691729698\n",
      "56\n",
      "580\n",
      "y_loss: 1.672312086763977\n",
      "r_squared: 0.982586727286775\n",
      "57\n",
      "580\n",
      "y_loss: 1.6171194484563778\n",
      "r_squared: 0.9830841401967036\n",
      "58\n",
      "580\n",
      "y_loss: 2.033376836123399\n",
      "r_squared: 0.9736734667808565\n",
      "59\n",
      "580\n",
      "y_loss: 2.6653023156240025\n",
      "r_squared: 0.9543128117228648\n",
      "60\n",
      "580\n",
      "y_loss: 2.5006669751562707\n",
      "r_squared: 0.9605243649484659\n",
      "61\n",
      "580\n",
      "y_loss: 2.2474408936200465\n",
      "r_squared: 0.9670832680398412\n",
      "62\n",
      "580\n",
      "y_loss: 2.254698570944822\n",
      "r_squared: 0.9770065543609069\n",
      "63\n",
      "580\n",
      "y_loss: 1.9770160221899664\n",
      "r_squared: 0.9826478790635466\n",
      "64\n",
      "580\n",
      "y_loss: 2.1782137298090496\n",
      "r_squared: 0.9815735948452213\n",
      "65\n",
      "580\n",
      "y_loss: 2.0697402152175868\n",
      "r_squared: 0.9854816534482672\n",
      "66\n",
      "580\n",
      "y_loss: 1.274379742395241\n",
      "r_squared: 0.9947672133143898\n",
      "67\n",
      "580\n",
      "y_loss: 1.4382861256455655\n",
      "r_squared: 0.9922702900109139\n",
      "68\n",
      "580\n",
      "y_loss: 1.636503216836118\n",
      "r_squared: 0.9882689151679495\n",
      "69\n",
      "580\n",
      "y_loss: 1.6863294473651196\n",
      "r_squared: 0.9860791955409586\n",
      "70\n",
      "580\n",
      "y_loss: 1.7201848760364105\n",
      "r_squared: 0.9842599662600643\n",
      "71\n",
      "580\n",
      "y_loss: 1.732083636421565\n",
      "r_squared: 0.983058995849639\n",
      "72\n",
      "580\n",
      "y_loss: 1.6476933796854454\n",
      "r_squared: 0.9837320512152539\n",
      "73\n",
      "580\n",
      "y_loss: 1.9172423084005796\n",
      "r_squared: 0.9771196805143231\n",
      "74\n",
      "580\n",
      "y_loss: 1.6561384200246634\n",
      "r_squared: 0.9822322795002512\n",
      "75\n",
      "580\n",
      "y_loss: 1.5910566839458946\n",
      "r_squared: 0.9831242534060668\n",
      "76\n",
      "580\n",
      "y_loss: 1.438242104226167\n",
      "r_squared: 0.9865298016767736\n",
      "77\n",
      "580\n",
      "y_loss: 1.2881702620800173\n",
      "r_squared: 0.9886758182037366\n",
      "78\n",
      "580\n",
      "y_loss: 1.535356135060519\n",
      "r_squared: 0.9854342891448097\n",
      "79\n",
      "580\n",
      "y_loss: 1.5023846149207378\n",
      "r_squared: 0.9857671681688938\n",
      "80\n",
      "580\n",
      "y_loss: 1.4739744313276602\n",
      "r_squared: 0.9865405624432975\n",
      "81\n",
      "580\n",
      "y_loss: 1.3018078723250301\n",
      "r_squared: 0.9899722160624904\n",
      "82\n",
      "580\n",
      "y_loss: 1.4041090976656887\n",
      "r_squared: 0.9874939442852865\n",
      "83\n",
      "580\n",
      "y_loss: 1.3153003041807034\n",
      "r_squared: 0.9887983859060758\n",
      "84\n",
      "580\n",
      "y_loss: 2.0287535333438362\n",
      "r_squared: 0.9732324661892345\n",
      "85\n",
      "580\n",
      "y_loss: 1.905475272912041\n",
      "r_squared: 0.9769427426909312\n",
      "86\n",
      "580\n",
      "y_loss: 1.8527236008640253\n",
      "r_squared: 0.9772072267521454\n",
      "87\n",
      "580\n",
      "y_loss: 2.0549716205771364\n",
      "r_squared: 0.9728479363088571\n",
      "88\n",
      "580\n",
      "y_loss: 1.72279397147097\n",
      "r_squared: 0.9817504527127128\n",
      "89\n",
      "580\n",
      "y_loss: 1.661790291881059\n",
      "r_squared: 0.9825862445069454\n",
      "90\n",
      "580\n",
      "y_loss: 1.5181855643010649\n",
      "r_squared: 0.9857182696451464\n",
      "91\n",
      "580\n",
      "y_loss: 1.2269856133492028\n",
      "r_squared: 0.9909687835067322\n",
      "92\n",
      "580\n",
      "y_loss: 1.1206068212685707\n",
      "r_squared: 0.9927116642331041\n",
      "93\n",
      "580\n",
      "y_loss: 0.8717239234849263\n",
      "r_squared: 0.99576527152114\n",
      "94\n",
      "580\n",
      "y_loss: 0.62250192521465\n",
      "r_squared: 0.9979713629359066\n",
      "95\n",
      "580\n",
      "y_loss: 0.788324794002938\n",
      "r_squared: 0.99675152792845\n",
      "96\n",
      "580\n",
      "y_loss: 0.9882755795709396\n",
      "r_squared: 0.9949927471951828\n",
      "97\n",
      "580\n",
      "y_loss: 1.0272387727628713\n",
      "r_squared: 0.9942658666777084\n",
      "98\n",
      "580\n",
      "y_loss: 0.9228467032649699\n",
      "r_squared: 0.9949534799138451\n",
      "99\n",
      "580\n",
      "y_loss: 0.9625682063696233\n",
      "r_squared: 0.9942893513781654\n",
      "100\n",
      "580\n",
      "y_loss: 1.1095298595646415\n",
      "r_squared: 0.992000503533154\n",
      "101\n",
      "580\n",
      "y_loss: 1.1312124225356963\n",
      "r_squared: 0.9914457029006025\n",
      "102\n",
      "580\n",
      "y_loss: 1.3568728642553705\n",
      "r_squared: 0.987024858360811\n",
      "103\n",
      "580\n",
      "y_loss: 1.1954481666223424\n",
      "r_squared: 0.9897611503331475\n",
      "104\n",
      "580\n",
      "y_loss: 1.3055404273816362\n",
      "r_squared: 0.9885360630098214\n",
      "105\n",
      "580\n",
      "y_loss: 1.11013473738855\n",
      "r_squared: 0.9916290768716078\n",
      "106\n",
      "580\n",
      "y_loss: 1.05296232987249\n",
      "r_squared: 0.9923937313929613\n",
      "107\n",
      "580\n",
      "y_loss: 1.160838969055144\n",
      "r_squared: 0.9906642855162111\n",
      "108\n",
      "580\n",
      "y_loss: 1.1374213506450574\n",
      "r_squared: 0.9909175213090143\n",
      "109\n",
      "580\n",
      "y_loss: 1.014968764004838\n",
      "r_squared: 0.9931500406187066\n",
      "110\n",
      "580\n",
      "y_loss: 1.0725466558451584\n",
      "r_squared: 0.9921457427281823\n",
      "111\n",
      "580\n",
      "y_loss: 0.9705081959896867\n",
      "r_squared: 0.9930351650501464\n",
      "112\n",
      "580\n",
      "y_loss: 0.9278354350654231\n",
      "r_squared: 0.9933686698657666\n",
      "113\n",
      "580\n",
      "y_loss: 0.9220397418528793\n",
      "r_squared: 0.993199616042146\n",
      "114\n",
      "580\n",
      "y_loss: 0.7577210336586085\n",
      "r_squared: 0.9950147164693073\n",
      "115\n",
      "580\n",
      "y_loss: 0.7871967602860288\n",
      "r_squared: 0.9945021657509592\n",
      "116\n",
      "580\n",
      "y_loss: 0.8641989575780589\n",
      "r_squared: 0.9934136135694421\n",
      "117\n",
      "580\n",
      "y_loss: 0.8371916215532692\n",
      "r_squared: 0.9938921897119166\n",
      "118\n",
      "580\n",
      "y_loss: 0.9130824684395517\n",
      "r_squared: 0.9925993314782913\n",
      "119\n",
      "580\n",
      "y_loss: 0.8820678740368091\n",
      "r_squared: 0.9927316556516386\n",
      "120\n",
      "580\n",
      "y_loss: 0.9763922896425531\n",
      "r_squared: 0.991437814966778\n",
      "121\n",
      "580\n",
      "y_loss: 1.165776872327241\n",
      "r_squared: 0.9878831114402146\n",
      "122\n",
      "580\n",
      "y_loss: 1.2625527768378677\n",
      "r_squared: 0.9860870553625876\n",
      "123\n",
      "580\n",
      "y_loss: 1.0401101694511556\n",
      "r_squared: 0.9910383594331803\n",
      "124\n",
      "580\n",
      "y_loss: 1.0038152401218308\n",
      "r_squared: 0.9913775320319566\n",
      "125\n",
      "580\n",
      "y_loss: 1.4868508457050544\n",
      "r_squared: 0.9789652386008676\n",
      "126\n",
      "580\n",
      "y_loss: 1.2638756724292142\n",
      "r_squared: 0.985962839415271\n",
      "127\n",
      "580\n",
      "y_loss: 1.3182092270327195\n",
      "r_squared: 0.9854806068821845\n",
      "128\n",
      "580\n",
      "y_loss: 2.8410315380808315\n",
      "r_squared: 0.9269175995953202\n",
      "129\n",
      "580\n",
      "y_loss: 2.5781327516029275\n",
      "r_squared: 0.9433881038452895\n",
      "130\n",
      "580\n",
      "y_loss: 2.3706281038630443\n",
      "r_squared: 0.9518127801610483\n",
      "131\n",
      "580\n",
      "y_loss: 2.4102868828719877\n",
      "r_squared: 0.9509699032691644\n",
      "132\n",
      "580\n",
      "y_loss: 2.6297766765103483\n",
      "r_squared: 0.9462769710126199\n",
      "133\n",
      "580\n",
      "y_loss: 2.7620912309521013\n",
      "r_squared: 0.9437390331464494\n",
      "134\n",
      "580\n",
      "y_loss: 2.168083380249447\n",
      "r_squared: 0.9685792916956713\n",
      "135\n",
      "580\n",
      "y_loss: 2.0008495975768588\n",
      "r_squared: 0.9731084397852064\n",
      "136\n",
      "580\n",
      "y_loss: 1.8877176207806394\n",
      "r_squared: 0.9778883814184439\n",
      "137\n",
      "580\n",
      "y_loss: 2.198361132049944\n",
      "r_squared: 0.9721695891492144\n",
      "138\n",
      "580\n",
      "y_loss: 2.4035029842868427\n",
      "r_squared: 0.9673883537798316\n",
      "139\n",
      "580\n",
      "y_loss: 2.2834111050769534\n",
      "r_squared: 0.9705975099933333\n",
      "140\n",
      "580\n",
      "y_loss: 2.195705131260318\n",
      "r_squared: 0.9728703030028428\n",
      "141\n",
      "580\n",
      "y_loss: 2.1265489344769444\n",
      "r_squared: 0.9745036439290153\n",
      "142\n",
      "580\n",
      "y_loss: 1.8081528310912582\n",
      "r_squared: 0.9817758998301561\n",
      "143\n",
      "580\n",
      "y_loss: 1.805372390524443\n",
      "r_squared: 0.9819174087103909\n",
      "144\n",
      "580\n",
      "y_loss: 1.7844799424484534\n",
      "r_squared: 0.9820144040597497\n",
      "145\n",
      "580\n",
      "y_loss: 1.8772287393632108\n",
      "r_squared: 0.9797810828657474\n",
      "146\n",
      "580\n",
      "y_loss: 1.8823481325374607\n",
      "r_squared: 0.9795808255097955\n",
      "147\n",
      "580\n",
      "y_loss: 1.7007735842347493\n",
      "r_squared: 0.9818983483618551\n",
      "148\n",
      "580\n",
      "y_loss: 1.857031732148671\n",
      "r_squared: 0.9775986527944809\n",
      "149\n",
      "580\n",
      "y_loss: 1.947916655417637\n",
      "r_squared: 0.9730457315219467\n",
      "150\n",
      "580\n",
      "y_loss: 1.9263139738639081\n",
      "r_squared: 0.9727158026436481\n",
      "151\n",
      "580\n",
      "y_loss: 1.8093025443017645\n",
      "r_squared: 0.9737789969194368\n",
      "152\n",
      "580\n",
      "y_loss: 1.8793822144817158\n",
      "r_squared: 0.9738692168233358\n",
      "153\n",
      "580\n",
      "y_loss: 2.0895969787734967\n",
      "r_squared: 0.9657969990439396\n",
      "154\n",
      "580\n",
      "y_loss: 2.175959648249756\n",
      "r_squared: 0.9604139392747814\n",
      "155\n",
      "580\n",
      "y_loss: 2.3714008474689225\n",
      "r_squared: 0.9496275484840366\n",
      "156\n",
      "580\n",
      "y_loss: 2.5279819826288175\n",
      "r_squared: 0.9384724163481845\n",
      "157\n",
      "580\n",
      "y_loss: 2.741516683575256\n",
      "r_squared: 0.9255116169465467\n",
      "158\n",
      "580\n",
      "y_loss: 2.8304003721011997\n",
      "r_squared: 0.9203560236275934\n",
      "159\n",
      "580\n",
      "y_loss: 2.834264551972072\n",
      "r_squared: 0.9105517622188235\n",
      "160\n",
      "580\n",
      "y_loss: 2.7269901725272887\n",
      "r_squared: 0.8982120793138639\n",
      "161\n",
      "580\n",
      "y_loss: 2.404438719919448\n",
      "r_squared: 0.9267734980698562\n",
      "162\n",
      "580\n",
      "y_loss: 2.800810291293237\n",
      "r_squared: 0.9088628455378451\n",
      "163\n",
      "580\n",
      "y_loss: 2.5584889829499597\n",
      "r_squared: 0.9198194883190144\n",
      "164\n",
      "580\n",
      "y_loss: 2.605398544945255\n",
      "r_squared: 0.9063605617138075\n",
      "165\n",
      "580\n",
      "y_loss: 2.691659642048448\n",
      "r_squared: 0.9052691758232754\n",
      "166\n",
      "580\n",
      "y_loss: 2.6680455722219514\n",
      "r_squared: 0.9039348954486893\n",
      "167\n",
      "580\n",
      "y_loss: 2.641983700708497\n",
      "r_squared: 0.9110188416299609\n",
      "168\n",
      "580\n",
      "y_loss: 2.9743723129889688\n",
      "r_squared: 0.8925743802335225\n",
      "169\n",
      "580\n",
      "y_loss: 2.8269246484223816\n",
      "r_squared: 0.8869383593767971\n",
      "170\n",
      "580\n",
      "y_loss: 1.8343963013249633\n",
      "r_squared: 0.9470103549277397\n",
      "171\n",
      "580\n",
      "y_loss: 1.910101331862577\n",
      "r_squared: 0.9424196517873124\n",
      "172\n",
      "580\n",
      "y_loss: 1.5540136013008368\n",
      "r_squared: 0.9632972803330624\n",
      "173\n",
      "580\n",
      "y_loss: 1.4421994266450084\n",
      "r_squared: 0.9681281914279806\n",
      "174\n",
      "580\n",
      "y_loss: 1.6351101030619042\n",
      "r_squared: 0.9613513595094301\n",
      "175\n",
      "580\n",
      "y_loss: 1.4506201765809101\n",
      "r_squared: 0.9683057460083523\n",
      "176\n",
      "580\n",
      "y_loss: 1.208966223748757\n",
      "r_squared: 0.9796653995661623\n",
      "177\n",
      "580\n",
      "y_loss: 1.1286422668326606\n",
      "r_squared: 0.9853403166241242\n",
      "178\n",
      "580\n",
      "y_loss: 1.8255210289857564\n",
      "r_squared: 0.9746174238052587\n",
      "179\n",
      "580\n",
      "y_loss: 2.219500707543426\n",
      "r_squared: 0.9706678068866916\n",
      "180\n",
      "580\n",
      "y_loss: 2.6472028301194093\n",
      "r_squared: 0.9468796785509183\n",
      "181\n",
      "580\n",
      "y_loss: 1.6920817321477888\n",
      "r_squared: 0.9752458453681775\n",
      "182\n",
      "580\n",
      "y_loss: 1.500256986538278\n",
      "r_squared: 0.980272097304256\n",
      "183\n",
      "580\n",
      "y_loss: 1.3227958995908469\n",
      "r_squared: 0.9837803042193176\n",
      "184\n",
      "580\n",
      "y_loss: 1.341918561792\n",
      "r_squared: 0.9854762686537438\n",
      "185\n",
      "580\n",
      "y_loss: 2.3846648614200494\n",
      "r_squared: 0.9638100635327742\n",
      "186\n",
      "580\n",
      "y_loss: 2.3755070024404072\n",
      "r_squared: 0.9638807487433082\n",
      "187\n",
      "580\n",
      "y_loss: 2.169080832743123\n",
      "r_squared: 0.9674702267283785\n",
      "188\n",
      "580\n",
      "y_loss: 2.38126254194368\n",
      "r_squared: 0.9495273301560723\n",
      "189\n",
      "580\n",
      "y_loss: 2.2475086649682074\n",
      "r_squared: 0.9557287479844534\n",
      "190\n",
      "580\n",
      "y_loss: 2.35350695237267\n",
      "r_squared: 0.9548274571335476\n",
      "191\n",
      "580\n",
      "y_loss: 2.322372780719473\n",
      "r_squared: 0.9537517057714547\n",
      "192\n",
      "580\n",
      "y_loss: 2.147156450233015\n",
      "r_squared: 0.9608486967028546\n",
      "193\n",
      "580\n",
      "y_loss: 2.052982042462287\n",
      "r_squared: 0.9638678210456999\n",
      "194\n",
      "580\n",
      "y_loss: 1.9595769040561994\n",
      "r_squared: 0.968845221592755\n",
      "195\n",
      "580\n",
      "y_loss: 2.1073602523531485\n",
      "r_squared: 0.9669642606885749\n",
      "196\n",
      "580\n",
      "y_loss: 2.1105258026915727\n",
      "r_squared: 0.9653831828304548\n",
      "197\n",
      "580\n",
      "y_loss: 1.9468842730653224\n",
      "r_squared: 0.967260935793148\n",
      "198\n",
      "580\n",
      "y_loss: 2.1694749070055996\n",
      "r_squared: 0.9616495050793319\n",
      "199\n",
      "580\n",
      "y_loss: 2.0898447145366403\n",
      "r_squared: 0.9640974871585792\n",
      "200\n",
      "580\n",
      "y_loss: 1.9595217308060289\n",
      "r_squared: 0.9656197774608947\n",
      "201\n",
      "580\n",
      "y_loss: 1.9575753904755868\n",
      "r_squared: 0.9675126880587172\n",
      "202\n",
      "580\n",
      "y_loss: 1.9579050362879558\n",
      "r_squared: 0.9670765940536122\n",
      "203\n",
      "580\n",
      "y_loss: 1.8479315025151455\n",
      "r_squared: 0.9717672561469831\n",
      "204\n",
      "580\n",
      "y_loss: 1.599659217644968\n",
      "r_squared: 0.9761287731267316\n",
      "205\n",
      "580\n",
      "y_loss: 1.6016257928268975\n",
      "r_squared: 0.9761056955203562\n",
      "206\n",
      "580\n",
      "y_loss: 1.6123314934078523\n",
      "r_squared: 0.9780917111038251\n",
      "207\n",
      "580\n",
      "y_loss: 1.6919998814396626\n",
      "r_squared: 0.9779216187129813\n",
      "208\n",
      "580\n",
      "y_loss: 1.66485084703897\n",
      "r_squared: 0.9802198393185532\n",
      "209\n",
      "580\n",
      "y_loss: 1.5610684346249761\n",
      "r_squared: 0.9835368465874593\n",
      "210\n",
      "580\n",
      "y_loss: 1.4151139072293266\n",
      "r_squared: 0.9869196920482928\n",
      "211\n",
      "580\n",
      "y_loss: 1.2563948507405556\n",
      "r_squared: 0.9895930512236812\n",
      "212\n",
      "580\n",
      "y_loss: 1.234749744353187\n",
      "r_squared: 0.9893785152146954\n",
      "213\n",
      "580\n",
      "y_loss: 1.0738191136714814\n",
      "r_squared: 0.9931514203556266\n",
      "214\n",
      "580\n",
      "y_loss: 0.9863118484506503\n",
      "r_squared: 0.9946748414456628\n",
      "215\n",
      "580\n",
      "y_loss: 1.1218023292243078\n",
      "r_squared: 0.9933440330509481\n",
      "216\n",
      "580\n",
      "y_loss: 1.2552231930004076\n",
      "r_squared: 0.9910767320917416\n",
      "217\n",
      "580\n",
      "y_loss: 1.3744439527604286\n",
      "r_squared: 0.9896636096848249\n",
      "218\n",
      "580\n",
      "y_loss: 1.3771292551284895\n",
      "r_squared: 0.9900046000606462\n",
      "219\n",
      "580\n",
      "y_loss: 1.2433621247536681\n",
      "r_squared: 0.9923783677801902\n",
      "220\n",
      "580\n",
      "y_loss: 1.1095265195094237\n",
      "r_squared: 0.9945679650104289\n",
      "221\n",
      "580\n",
      "y_loss: 1.059937009970987\n",
      "r_squared: 0.9952083829713718\n",
      "222\n",
      "580\n",
      "y_loss: 1.0553472589405066\n",
      "r_squared: 0.9953412237634184\n",
      "223\n",
      "580\n",
      "y_loss: 0.8864686630705637\n",
      "r_squared: 0.9964941934861837\n",
      "224\n",
      "580\n",
      "y_loss: 0.8269575783472105\n",
      "r_squared: 0.9968067718559929\n",
      "225\n",
      "580\n",
      "y_loss: 0.8399548065640244\n",
      "r_squared: 0.9967409882999914\n",
      "226\n",
      "580\n",
      "y_loss: 0.8436608677606124\n",
      "r_squared: 0.9970032091673644\n",
      "227\n",
      "580\n",
      "y_loss: 0.8487129438288927\n",
      "r_squared: 0.9971622459342991\n",
      "228\n",
      "580\n",
      "y_loss: 1.0373301595144866\n",
      "r_squared: 0.9957889950814118\n",
      "229\n",
      "580\n",
      "y_loss: 1.1585558312238378\n",
      "r_squared: 0.9949478202730568\n",
      "230\n",
      "580\n",
      "y_loss: 3.6715198509040587\n",
      "r_squared: 0.9515081813815097\n",
      "231\n",
      "580\n",
      "y_loss: 1.4321874815966622\n",
      "r_squared: 0.9919109308920744\n",
      "232\n",
      "580\n",
      "y_loss: 1.4494101361114047\n",
      "r_squared: 0.9921145753551766\n",
      "233\n",
      "580\n",
      "y_loss: 1.6184671845811147\n",
      "r_squared: 0.9895414678636858\n",
      "234\n",
      "580\n",
      "y_loss: 1.649093078240854\n",
      "r_squared: 0.989257268560329\n",
      "235\n",
      "580\n",
      "y_loss: 1.568755834787026\n",
      "r_squared: 0.9903475789452086\n",
      "236\n",
      "580\n",
      "y_loss: 1.3833545502329934\n",
      "r_squared: 0.9928630931497995\n",
      "237\n",
      "580\n",
      "y_loss: 1.2681947375126665\n",
      "r_squared: 0.9940694814816678\n",
      "238\n",
      "580\n",
      "y_loss: 1.3940901865786994\n",
      "r_squared: 0.9929218571759153\n",
      "239\n",
      "580\n",
      "y_loss: 5.687479805182122\n",
      "r_squared: 0.9016416335858425\n",
      "240\n",
      "580\n",
      "y_loss: 1.4042606581458388\n",
      "r_squared: 0.9928108951647825\n",
      "241\n",
      "580\n",
      "y_loss: 1.534127951809397\n",
      "r_squared: 0.990966036622968\n",
      "242\n",
      "580\n",
      "y_loss: 6.617137578889559\n",
      "r_squared: 0.8393163596505563\n",
      "243\n",
      "580\n",
      "y_loss: 6.303875108620647\n",
      "r_squared: 0.8939041717047528\n",
      "244\n",
      "580\n",
      "y_loss: 1.289798023975748\n",
      "r_squared: 0.9936993889540574\n",
      "245\n",
      "580\n",
      "y_loss: 6.314049572392695\n",
      "r_squared: 0.9047171224992905\n",
      "246\n",
      "580\n",
      "y_loss: 7.115701392709\n",
      "r_squared: 0.9075988981051135\n",
      "247\n",
      "580\n",
      "y_loss: 6.980325049439636\n",
      "r_squared: 0.8956456455271542\n",
      "248\n",
      "580\n",
      "y_loss: 6.396528561695062\n",
      "r_squared: 0.8609713918445743\n",
      "249\n",
      "580\n",
      "y_loss: 7.717657119196502\n",
      "r_squared: 0.7738737779000868\n",
      "250\n",
      "580\n",
      "y_loss: 5.1553764137698\n",
      "r_squared: 0.860169219877388\n",
      "251\n",
      "580\n",
      "y_loss: 8.75201765140036\n",
      "r_squared: 0.749507937952149\n",
      "252\n",
      "580\n",
      "y_loss: 6.944978082619041\n",
      "r_squared: 0.7206877604783444\n",
      "253\n",
      "580\n",
      "y_loss: 7.069489231980042\n",
      "r_squared: 0.8473639466816527\n",
      "254\n",
      "580\n",
      "y_loss: 7.686965228363161\n",
      "r_squared: 0.7324176871823482\n",
      "255\n",
      "580\n",
      "y_loss: 7.340824287997685\n",
      "r_squared: 0.6117646908601982\n",
      "256\n",
      "580\n",
      "y_loss: 7.151599232614914\n",
      "r_squared: 0.6347636905265941\n",
      "257\n",
      "580\n",
      "y_loss: 7.018775207876857\n",
      "r_squared: 0.8893260539054993\n",
      "258\n",
      "580\n",
      "y_loss: 7.75314119626832\n",
      "r_squared: 0.850294046046822\n"
     ]
    },
    {
     "data": {
      "text/plain": [
       "<Figure size 640x480 with 0 Axes>"
      ]
     },
     "metadata": {},
     "output_type": "display_data"
    },
    {
     "data": {
      "text/plain": [
       "<Figure size 640x480 with 0 Axes>"
      ]
     },
     "metadata": {},
     "output_type": "display_data"
    },
    {
     "data": {
      "text/plain": [
       "<Figure size 640x480 with 0 Axes>"
      ]
     },
     "metadata": {},
     "output_type": "display_data"
    },
    {
     "data": {
      "text/plain": [
       "<Figure size 640x480 with 0 Axes>"
      ]
     },
     "metadata": {},
     "output_type": "display_data"
    },
    {
     "data": {
      "text/plain": [
       "<Figure size 640x480 with 0 Axes>"
      ]
     },
     "metadata": {},
     "output_type": "display_data"
    },
    {
     "data": {
      "text/plain": [
       "<Figure size 640x480 with 0 Axes>"
      ]
     },
     "metadata": {},
     "output_type": "display_data"
    },
    {
     "data": {
      "text/plain": [
       "<Figure size 640x480 with 0 Axes>"
      ]
     },
     "metadata": {},
     "output_type": "display_data"
    },
    {
     "data": {
      "text/plain": [
       "<Figure size 640x480 with 0 Axes>"
      ]
     },
     "metadata": {},
     "output_type": "display_data"
    },
    {
     "data": {
      "text/plain": [
       "<Figure size 640x480 with 0 Axes>"
      ]
     },
     "metadata": {},
     "output_type": "display_data"
    },
    {
     "data": {
      "text/plain": [
       "<Figure size 640x480 with 0 Axes>"
      ]
     },
     "metadata": {},
     "output_type": "display_data"
    },
    {
     "data": {
      "text/plain": [
       "<Figure size 640x480 with 0 Axes>"
      ]
     },
     "metadata": {},
     "output_type": "display_data"
    },
    {
     "data": {
      "text/plain": [
       "<Figure size 640x480 with 0 Axes>"
      ]
     },
     "metadata": {},
     "output_type": "display_data"
    },
    {
     "data": {
      "text/plain": [
       "<Figure size 640x480 with 0 Axes>"
      ]
     },
     "metadata": {},
     "output_type": "display_data"
    },
    {
     "data": {
      "text/plain": [
       "<Figure size 640x480 with 0 Axes>"
      ]
     },
     "metadata": {},
     "output_type": "display_data"
    },
    {
     "data": {
      "text/plain": [
       "<Figure size 640x480 with 0 Axes>"
      ]
     },
     "metadata": {},
     "output_type": "display_data"
    },
    {
     "data": {
      "text/plain": [
       "<Figure size 640x480 with 0 Axes>"
      ]
     },
     "metadata": {},
     "output_type": "display_data"
    },
    {
     "data": {
      "text/plain": [
       "<Figure size 640x480 with 0 Axes>"
      ]
     },
     "metadata": {},
     "output_type": "display_data"
    },
    {
     "data": {
      "text/plain": [
       "<Figure size 640x480 with 0 Axes>"
      ]
     },
     "metadata": {},
     "output_type": "display_data"
    },
    {
     "data": {
      "text/plain": [
       "<Figure size 640x480 with 0 Axes>"
      ]
     },
     "metadata": {},
     "output_type": "display_data"
    },
    {
     "data": {
      "text/plain": [
       "<Figure size 640x480 with 0 Axes>"
      ]
     },
     "metadata": {},
     "output_type": "display_data"
    },
    {
     "data": {
      "text/plain": [
       "<Figure size 640x480 with 0 Axes>"
      ]
     },
     "metadata": {},
     "output_type": "display_data"
    },
    {
     "data": {
      "text/plain": [
       "<Figure size 640x480 with 0 Axes>"
      ]
     },
     "metadata": {},
     "output_type": "display_data"
    },
    {
     "data": {
      "text/plain": [
       "<Figure size 640x480 with 0 Axes>"
      ]
     },
     "metadata": {},
     "output_type": "display_data"
    },
    {
     "data": {
      "text/plain": [
       "<Figure size 640x480 with 0 Axes>"
      ]
     },
     "metadata": {},
     "output_type": "display_data"
    },
    {
     "data": {
      "text/plain": [
       "<Figure size 640x480 with 0 Axes>"
      ]
     },
     "metadata": {},
     "output_type": "display_data"
    },
    {
     "data": {
      "text/plain": [
       "<Figure size 640x480 with 0 Axes>"
      ]
     },
     "metadata": {},
     "output_type": "display_data"
    },
    {
     "data": {
      "text/plain": [
       "<Figure size 640x480 with 0 Axes>"
      ]
     },
     "metadata": {},
     "output_type": "display_data"
    },
    {
     "data": {
      "text/plain": [
       "<Figure size 640x480 with 0 Axes>"
      ]
     },
     "metadata": {},
     "output_type": "display_data"
    },
    {
     "data": {
      "text/plain": [
       "<Figure size 640x480 with 0 Axes>"
      ]
     },
     "metadata": {},
     "output_type": "display_data"
    },
    {
     "data": {
      "text/plain": [
       "<Figure size 640x480 with 0 Axes>"
      ]
     },
     "metadata": {},
     "output_type": "display_data"
    },
    {
     "data": {
      "text/plain": [
       "<Figure size 640x480 with 0 Axes>"
      ]
     },
     "metadata": {},
     "output_type": "display_data"
    },
    {
     "data": {
      "text/plain": [
       "<Figure size 640x480 with 0 Axes>"
      ]
     },
     "metadata": {},
     "output_type": "display_data"
    },
    {
     "data": {
      "text/plain": [
       "<Figure size 640x480 with 0 Axes>"
      ]
     },
     "metadata": {},
     "output_type": "display_data"
    },
    {
     "data": {
      "text/plain": [
       "<Figure size 640x480 with 0 Axes>"
      ]
     },
     "metadata": {},
     "output_type": "display_data"
    },
    {
     "data": {
      "text/plain": [
       "<Figure size 640x480 with 0 Axes>"
      ]
     },
     "metadata": {},
     "output_type": "display_data"
    },
    {
     "data": {
      "text/plain": [
       "<Figure size 640x480 with 0 Axes>"
      ]
     },
     "metadata": {},
     "output_type": "display_data"
    },
    {
     "data": {
      "text/plain": [
       "<Figure size 640x480 with 0 Axes>"
      ]
     },
     "metadata": {},
     "output_type": "display_data"
    },
    {
     "data": {
      "text/plain": [
       "<Figure size 640x480 with 0 Axes>"
      ]
     },
     "metadata": {},
     "output_type": "display_data"
    },
    {
     "data": {
      "text/plain": [
       "<Figure size 640x480 with 0 Axes>"
      ]
     },
     "metadata": {},
     "output_type": "display_data"
    },
    {
     "data": {
      "text/plain": [
       "<Figure size 640x480 with 0 Axes>"
      ]
     },
     "metadata": {},
     "output_type": "display_data"
    },
    {
     "data": {
      "text/plain": [
       "<Figure size 640x480 with 0 Axes>"
      ]
     },
     "metadata": {},
     "output_type": "display_data"
    },
    {
     "data": {
      "text/plain": [
       "<Figure size 640x480 with 0 Axes>"
      ]
     },
     "metadata": {},
     "output_type": "display_data"
    },
    {
     "data": {
      "text/plain": [
       "<Figure size 640x480 with 0 Axes>"
      ]
     },
     "metadata": {},
     "output_type": "display_data"
    },
    {
     "data": {
      "text/plain": [
       "<Figure size 640x480 with 0 Axes>"
      ]
     },
     "metadata": {},
     "output_type": "display_data"
    },
    {
     "data": {
      "text/plain": [
       "<Figure size 640x480 with 0 Axes>"
      ]
     },
     "metadata": {},
     "output_type": "display_data"
    },
    {
     "data": {
      "text/plain": [
       "<Figure size 640x480 with 0 Axes>"
      ]
     },
     "metadata": {},
     "output_type": "display_data"
    },
    {
     "data": {
      "text/plain": [
       "<Figure size 640x480 with 0 Axes>"
      ]
     },
     "metadata": {},
     "output_type": "display_data"
    },
    {
     "data": {
      "text/plain": [
       "<Figure size 640x480 with 0 Axes>"
      ]
     },
     "metadata": {},
     "output_type": "display_data"
    },
    {
     "data": {
      "text/plain": [
       "<Figure size 640x480 with 0 Axes>"
      ]
     },
     "metadata": {},
     "output_type": "display_data"
    },
    {
     "data": {
      "text/plain": [
       "<Figure size 640x480 with 0 Axes>"
      ]
     },
     "metadata": {},
     "output_type": "display_data"
    },
    {
     "data": {
      "text/plain": [
       "<Figure size 640x480 with 0 Axes>"
      ]
     },
     "metadata": {},
     "output_type": "display_data"
    },
    {
     "data": {
      "text/plain": [
       "<Figure size 640x480 with 0 Axes>"
      ]
     },
     "metadata": {},
     "output_type": "display_data"
    },
    {
     "data": {
      "text/plain": [
       "<Figure size 640x480 with 0 Axes>"
      ]
     },
     "metadata": {},
     "output_type": "display_data"
    },
    {
     "data": {
      "text/plain": [
       "<Figure size 640x480 with 0 Axes>"
      ]
     },
     "metadata": {},
     "output_type": "display_data"
    },
    {
     "data": {
      "text/plain": [
       "<Figure size 640x480 with 0 Axes>"
      ]
     },
     "metadata": {},
     "output_type": "display_data"
    },
    {
     "data": {
      "text/plain": [
       "<Figure size 640x480 with 0 Axes>"
      ]
     },
     "metadata": {},
     "output_type": "display_data"
    },
    {
     "data": {
      "text/plain": [
       "<Figure size 640x480 with 0 Axes>"
      ]
     },
     "metadata": {},
     "output_type": "display_data"
    },
    {
     "data": {
      "text/plain": [
       "<Figure size 640x480 with 0 Axes>"
      ]
     },
     "metadata": {},
     "output_type": "display_data"
    },
    {
     "data": {
      "text/plain": [
       "<Figure size 640x480 with 0 Axes>"
      ]
     },
     "metadata": {},
     "output_type": "display_data"
    },
    {
     "data": {
      "text/plain": [
       "<Figure size 640x480 with 0 Axes>"
      ]
     },
     "metadata": {},
     "output_type": "display_data"
    },
    {
     "data": {
      "text/plain": [
       "<Figure size 640x480 with 0 Axes>"
      ]
     },
     "metadata": {},
     "output_type": "display_data"
    },
    {
     "data": {
      "text/plain": [
       "<Figure size 640x480 with 0 Axes>"
      ]
     },
     "metadata": {},
     "output_type": "display_data"
    },
    {
     "data": {
      "text/plain": [
       "<Figure size 640x480 with 0 Axes>"
      ]
     },
     "metadata": {},
     "output_type": "display_data"
    },
    {
     "data": {
      "text/plain": [
       "<Figure size 640x480 with 0 Axes>"
      ]
     },
     "metadata": {},
     "output_type": "display_data"
    },
    {
     "data": {
      "text/plain": [
       "<Figure size 640x480 with 0 Axes>"
      ]
     },
     "metadata": {},
     "output_type": "display_data"
    },
    {
     "data": {
      "text/plain": [
       "<Figure size 640x480 with 0 Axes>"
      ]
     },
     "metadata": {},
     "output_type": "display_data"
    },
    {
     "data": {
      "text/plain": [
       "<Figure size 640x480 with 0 Axes>"
      ]
     },
     "metadata": {},
     "output_type": "display_data"
    },
    {
     "data": {
      "text/plain": [
       "<Figure size 640x480 with 0 Axes>"
      ]
     },
     "metadata": {},
     "output_type": "display_data"
    },
    {
     "data": {
      "text/plain": [
       "<Figure size 640x480 with 0 Axes>"
      ]
     },
     "metadata": {},
     "output_type": "display_data"
    },
    {
     "data": {
      "text/plain": [
       "<Figure size 640x480 with 0 Axes>"
      ]
     },
     "metadata": {},
     "output_type": "display_data"
    },
    {
     "data": {
      "text/plain": [
       "<Figure size 640x480 with 0 Axes>"
      ]
     },
     "metadata": {},
     "output_type": "display_data"
    },
    {
     "data": {
      "text/plain": [
       "<Figure size 640x480 with 0 Axes>"
      ]
     },
     "metadata": {},
     "output_type": "display_data"
    },
    {
     "data": {
      "text/plain": [
       "<Figure size 640x480 with 0 Axes>"
      ]
     },
     "metadata": {},
     "output_type": "display_data"
    },
    {
     "data": {
      "text/plain": [
       "<Figure size 640x480 with 0 Axes>"
      ]
     },
     "metadata": {},
     "output_type": "display_data"
    },
    {
     "data": {
      "text/plain": [
       "<Figure size 640x480 with 0 Axes>"
      ]
     },
     "metadata": {},
     "output_type": "display_data"
    },
    {
     "data": {
      "text/plain": [
       "<Figure size 640x480 with 0 Axes>"
      ]
     },
     "metadata": {},
     "output_type": "display_data"
    },
    {
     "data": {
      "text/plain": [
       "<Figure size 640x480 with 0 Axes>"
      ]
     },
     "metadata": {},
     "output_type": "display_data"
    },
    {
     "data": {
      "text/plain": [
       "<Figure size 640x480 with 0 Axes>"
      ]
     },
     "metadata": {},
     "output_type": "display_data"
    },
    {
     "data": {
      "text/plain": [
       "<Figure size 640x480 with 0 Axes>"
      ]
     },
     "metadata": {},
     "output_type": "display_data"
    },
    {
     "data": {
      "text/plain": [
       "<Figure size 640x480 with 0 Axes>"
      ]
     },
     "metadata": {},
     "output_type": "display_data"
    },
    {
     "data": {
      "text/plain": [
       "<Figure size 640x480 with 0 Axes>"
      ]
     },
     "metadata": {},
     "output_type": "display_data"
    },
    {
     "data": {
      "text/plain": [
       "<Figure size 640x480 with 0 Axes>"
      ]
     },
     "metadata": {},
     "output_type": "display_data"
    },
    {
     "data": {
      "text/plain": [
       "<Figure size 640x480 with 0 Axes>"
      ]
     },
     "metadata": {},
     "output_type": "display_data"
    },
    {
     "data": {
      "text/plain": [
       "<Figure size 640x480 with 0 Axes>"
      ]
     },
     "metadata": {},
     "output_type": "display_data"
    },
    {
     "data": {
      "text/plain": [
       "<Figure size 640x480 with 0 Axes>"
      ]
     },
     "metadata": {},
     "output_type": "display_data"
    },
    {
     "data": {
      "text/plain": [
       "<Figure size 640x480 with 0 Axes>"
      ]
     },
     "metadata": {},
     "output_type": "display_data"
    },
    {
     "data": {
      "text/plain": [
       "<Figure size 640x480 with 0 Axes>"
      ]
     },
     "metadata": {},
     "output_type": "display_data"
    },
    {
     "data": {
      "text/plain": [
       "<Figure size 640x480 with 0 Axes>"
      ]
     },
     "metadata": {},
     "output_type": "display_data"
    },
    {
     "data": {
      "text/plain": [
       "<Figure size 640x480 with 0 Axes>"
      ]
     },
     "metadata": {},
     "output_type": "display_data"
    },
    {
     "data": {
      "text/plain": [
       "<Figure size 640x480 with 0 Axes>"
      ]
     },
     "metadata": {},
     "output_type": "display_data"
    },
    {
     "data": {
      "text/plain": [
       "<Figure size 640x480 with 0 Axes>"
      ]
     },
     "metadata": {},
     "output_type": "display_data"
    },
    {
     "data": {
      "text/plain": [
       "<Figure size 640x480 with 0 Axes>"
      ]
     },
     "metadata": {},
     "output_type": "display_data"
    },
    {
     "data": {
      "text/plain": [
       "<Figure size 640x480 with 0 Axes>"
      ]
     },
     "metadata": {},
     "output_type": "display_data"
    },
    {
     "data": {
      "text/plain": [
       "<Figure size 640x480 with 0 Axes>"
      ]
     },
     "metadata": {},
     "output_type": "display_data"
    },
    {
     "data": {
      "text/plain": [
       "<Figure size 640x480 with 0 Axes>"
      ]
     },
     "metadata": {},
     "output_type": "display_data"
    },
    {
     "data": {
      "text/plain": [
       "<Figure size 640x480 with 0 Axes>"
      ]
     },
     "metadata": {},
     "output_type": "display_data"
    },
    {
     "data": {
      "text/plain": [
       "<Figure size 640x480 with 0 Axes>"
      ]
     },
     "metadata": {},
     "output_type": "display_data"
    },
    {
     "data": {
      "text/plain": [
       "<Figure size 640x480 with 0 Axes>"
      ]
     },
     "metadata": {},
     "output_type": "display_data"
    },
    {
     "data": {
      "text/plain": [
       "<Figure size 640x480 with 0 Axes>"
      ]
     },
     "metadata": {},
     "output_type": "display_data"
    },
    {
     "data": {
      "text/plain": [
       "<Figure size 640x480 with 0 Axes>"
      ]
     },
     "metadata": {},
     "output_type": "display_data"
    },
    {
     "data": {
      "text/plain": [
       "<Figure size 640x480 with 0 Axes>"
      ]
     },
     "metadata": {},
     "output_type": "display_data"
    },
    {
     "data": {
      "text/plain": [
       "<Figure size 640x480 with 0 Axes>"
      ]
     },
     "metadata": {},
     "output_type": "display_data"
    },
    {
     "data": {
      "text/plain": [
       "<Figure size 640x480 with 0 Axes>"
      ]
     },
     "metadata": {},
     "output_type": "display_data"
    },
    {
     "data": {
      "text/plain": [
       "<Figure size 640x480 with 0 Axes>"
      ]
     },
     "metadata": {},
     "output_type": "display_data"
    },
    {
     "data": {
      "text/plain": [
       "<Figure size 640x480 with 0 Axes>"
      ]
     },
     "metadata": {},
     "output_type": "display_data"
    },
    {
     "data": {
      "text/plain": [
       "<Figure size 640x480 with 0 Axes>"
      ]
     },
     "metadata": {},
     "output_type": "display_data"
    },
    {
     "data": {
      "text/plain": [
       "<Figure size 640x480 with 0 Axes>"
      ]
     },
     "metadata": {},
     "output_type": "display_data"
    },
    {
     "data": {
      "text/plain": [
       "<Figure size 640x480 with 0 Axes>"
      ]
     },
     "metadata": {},
     "output_type": "display_data"
    },
    {
     "data": {
      "text/plain": [
       "<Figure size 640x480 with 0 Axes>"
      ]
     },
     "metadata": {},
     "output_type": "display_data"
    },
    {
     "data": {
      "text/plain": [
       "<Figure size 640x480 with 0 Axes>"
      ]
     },
     "metadata": {},
     "output_type": "display_data"
    },
    {
     "data": {
      "text/plain": [
       "<Figure size 640x480 with 0 Axes>"
      ]
     },
     "metadata": {},
     "output_type": "display_data"
    },
    {
     "data": {
      "text/plain": [
       "<Figure size 640x480 with 0 Axes>"
      ]
     },
     "metadata": {},
     "output_type": "display_data"
    },
    {
     "data": {
      "text/plain": [
       "<Figure size 640x480 with 0 Axes>"
      ]
     },
     "metadata": {},
     "output_type": "display_data"
    },
    {
     "data": {
      "text/plain": [
       "<Figure size 640x480 with 0 Axes>"
      ]
     },
     "metadata": {},
     "output_type": "display_data"
    },
    {
     "data": {
      "text/plain": [
       "<Figure size 640x480 with 0 Axes>"
      ]
     },
     "metadata": {},
     "output_type": "display_data"
    },
    {
     "data": {
      "text/plain": [
       "<Figure size 640x480 with 0 Axes>"
      ]
     },
     "metadata": {},
     "output_type": "display_data"
    },
    {
     "data": {
      "text/plain": [
       "<Figure size 640x480 with 0 Axes>"
      ]
     },
     "metadata": {},
     "output_type": "display_data"
    },
    {
     "data": {
      "text/plain": [
       "<Figure size 640x480 with 0 Axes>"
      ]
     },
     "metadata": {},
     "output_type": "display_data"
    },
    {
     "data": {
      "text/plain": [
       "<Figure size 640x480 with 0 Axes>"
      ]
     },
     "metadata": {},
     "output_type": "display_data"
    },
    {
     "data": {
      "text/plain": [
       "<Figure size 640x480 with 0 Axes>"
      ]
     },
     "metadata": {},
     "output_type": "display_data"
    },
    {
     "data": {
      "text/plain": [
       "<Figure size 640x480 with 0 Axes>"
      ]
     },
     "metadata": {},
     "output_type": "display_data"
    },
    {
     "data": {
      "text/plain": [
       "<Figure size 640x480 with 0 Axes>"
      ]
     },
     "metadata": {},
     "output_type": "display_data"
    },
    {
     "data": {
      "text/plain": [
       "<Figure size 640x480 with 0 Axes>"
      ]
     },
     "metadata": {},
     "output_type": "display_data"
    },
    {
     "data": {
      "text/plain": [
       "<Figure size 640x480 with 0 Axes>"
      ]
     },
     "metadata": {},
     "output_type": "display_data"
    },
    {
     "data": {
      "text/plain": [
       "<Figure size 640x480 with 0 Axes>"
      ]
     },
     "metadata": {},
     "output_type": "display_data"
    },
    {
     "data": {
      "text/plain": [
       "<Figure size 640x480 with 0 Axes>"
      ]
     },
     "metadata": {},
     "output_type": "display_data"
    },
    {
     "data": {
      "text/plain": [
       "<Figure size 640x480 with 0 Axes>"
      ]
     },
     "metadata": {},
     "output_type": "display_data"
    },
    {
     "data": {
      "text/plain": [
       "<Figure size 640x480 with 0 Axes>"
      ]
     },
     "metadata": {},
     "output_type": "display_data"
    },
    {
     "data": {
      "text/plain": [
       "<Figure size 640x480 with 0 Axes>"
      ]
     },
     "metadata": {},
     "output_type": "display_data"
    },
    {
     "data": {
      "text/plain": [
       "<Figure size 640x480 with 0 Axes>"
      ]
     },
     "metadata": {},
     "output_type": "display_data"
    },
    {
     "data": {
      "text/plain": [
       "<Figure size 640x480 with 0 Axes>"
      ]
     },
     "metadata": {},
     "output_type": "display_data"
    },
    {
     "data": {
      "text/plain": [
       "<Figure size 640x480 with 0 Axes>"
      ]
     },
     "metadata": {},
     "output_type": "display_data"
    },
    {
     "data": {
      "text/plain": [
       "<Figure size 640x480 with 0 Axes>"
      ]
     },
     "metadata": {},
     "output_type": "display_data"
    },
    {
     "data": {
      "text/plain": [
       "<Figure size 640x480 with 0 Axes>"
      ]
     },
     "metadata": {},
     "output_type": "display_data"
    },
    {
     "data": {
      "text/plain": [
       "<Figure size 640x480 with 0 Axes>"
      ]
     },
     "metadata": {},
     "output_type": "display_data"
    },
    {
     "data": {
      "text/plain": [
       "<Figure size 640x480 with 0 Axes>"
      ]
     },
     "metadata": {},
     "output_type": "display_data"
    },
    {
     "data": {
      "text/plain": [
       "<Figure size 640x480 with 0 Axes>"
      ]
     },
     "metadata": {},
     "output_type": "display_data"
    },
    {
     "data": {
      "text/plain": [
       "<Figure size 640x480 with 0 Axes>"
      ]
     },
     "metadata": {},
     "output_type": "display_data"
    },
    {
     "data": {
      "text/plain": [
       "<Figure size 640x480 with 0 Axes>"
      ]
     },
     "metadata": {},
     "output_type": "display_data"
    },
    {
     "data": {
      "text/plain": [
       "<Figure size 640x480 with 0 Axes>"
      ]
     },
     "metadata": {},
     "output_type": "display_data"
    },
    {
     "data": {
      "text/plain": [
       "<Figure size 640x480 with 0 Axes>"
      ]
     },
     "metadata": {},
     "output_type": "display_data"
    },
    {
     "data": {
      "text/plain": [
       "<Figure size 640x480 with 0 Axes>"
      ]
     },
     "metadata": {},
     "output_type": "display_data"
    },
    {
     "data": {
      "text/plain": [
       "<Figure size 640x480 with 0 Axes>"
      ]
     },
     "metadata": {},
     "output_type": "display_data"
    },
    {
     "data": {
      "text/plain": [
       "<Figure size 640x480 with 0 Axes>"
      ]
     },
     "metadata": {},
     "output_type": "display_data"
    },
    {
     "data": {
      "text/plain": [
       "<Figure size 640x480 with 0 Axes>"
      ]
     },
     "metadata": {},
     "output_type": "display_data"
    },
    {
     "data": {
      "text/plain": [
       "<Figure size 640x480 with 0 Axes>"
      ]
     },
     "metadata": {},
     "output_type": "display_data"
    },
    {
     "data": {
      "text/plain": [
       "<Figure size 640x480 with 0 Axes>"
      ]
     },
     "metadata": {},
     "output_type": "display_data"
    },
    {
     "data": {
      "text/plain": [
       "<Figure size 640x480 with 0 Axes>"
      ]
     },
     "metadata": {},
     "output_type": "display_data"
    },
    {
     "data": {
      "text/plain": [
       "<Figure size 640x480 with 0 Axes>"
      ]
     },
     "metadata": {},
     "output_type": "display_data"
    },
    {
     "data": {
      "text/plain": [
       "<Figure size 640x480 with 0 Axes>"
      ]
     },
     "metadata": {},
     "output_type": "display_data"
    },
    {
     "data": {
      "text/plain": [
       "<Figure size 640x480 with 0 Axes>"
      ]
     },
     "metadata": {},
     "output_type": "display_data"
    },
    {
     "data": {
      "text/plain": [
       "<Figure size 640x480 with 0 Axes>"
      ]
     },
     "metadata": {},
     "output_type": "display_data"
    },
    {
     "data": {
      "text/plain": [
       "<Figure size 640x480 with 0 Axes>"
      ]
     },
     "metadata": {},
     "output_type": "display_data"
    },
    {
     "data": {
      "text/plain": [
       "<Figure size 640x480 with 0 Axes>"
      ]
     },
     "metadata": {},
     "output_type": "display_data"
    },
    {
     "data": {
      "text/plain": [
       "<Figure size 640x480 with 0 Axes>"
      ]
     },
     "metadata": {},
     "output_type": "display_data"
    },
    {
     "data": {
      "text/plain": [
       "<Figure size 640x480 with 0 Axes>"
      ]
     },
     "metadata": {},
     "output_type": "display_data"
    },
    {
     "data": {
      "text/plain": [
       "<Figure size 640x480 with 0 Axes>"
      ]
     },
     "metadata": {},
     "output_type": "display_data"
    },
    {
     "data": {
      "text/plain": [
       "<Figure size 640x480 with 0 Axes>"
      ]
     },
     "metadata": {},
     "output_type": "display_data"
    },
    {
     "data": {
      "text/plain": [
       "<Figure size 640x480 with 0 Axes>"
      ]
     },
     "metadata": {},
     "output_type": "display_data"
    },
    {
     "data": {
      "text/plain": [
       "<Figure size 640x480 with 0 Axes>"
      ]
     },
     "metadata": {},
     "output_type": "display_data"
    },
    {
     "data": {
      "text/plain": [
       "<Figure size 640x480 with 0 Axes>"
      ]
     },
     "metadata": {},
     "output_type": "display_data"
    },
    {
     "data": {
      "text/plain": [
       "<Figure size 640x480 with 0 Axes>"
      ]
     },
     "metadata": {},
     "output_type": "display_data"
    },
    {
     "data": {
      "text/plain": [
       "<Figure size 640x480 with 0 Axes>"
      ]
     },
     "metadata": {},
     "output_type": "display_data"
    },
    {
     "data": {
      "text/plain": [
       "<Figure size 640x480 with 0 Axes>"
      ]
     },
     "metadata": {},
     "output_type": "display_data"
    },
    {
     "data": {
      "text/plain": [
       "<Figure size 640x480 with 0 Axes>"
      ]
     },
     "metadata": {},
     "output_type": "display_data"
    },
    {
     "data": {
      "text/plain": [
       "<Figure size 640x480 with 0 Axes>"
      ]
     },
     "metadata": {},
     "output_type": "display_data"
    },
    {
     "data": {
      "text/plain": [
       "<Figure size 640x480 with 0 Axes>"
      ]
     },
     "metadata": {},
     "output_type": "display_data"
    },
    {
     "data": {
      "text/plain": [
       "<Figure size 640x480 with 0 Axes>"
      ]
     },
     "metadata": {},
     "output_type": "display_data"
    },
    {
     "data": {
      "text/plain": [
       "<Figure size 640x480 with 0 Axes>"
      ]
     },
     "metadata": {},
     "output_type": "display_data"
    },
    {
     "data": {
      "text/plain": [
       "<Figure size 640x480 with 0 Axes>"
      ]
     },
     "metadata": {},
     "output_type": "display_data"
    },
    {
     "data": {
      "text/plain": [
       "<Figure size 640x480 with 0 Axes>"
      ]
     },
     "metadata": {},
     "output_type": "display_data"
    },
    {
     "data": {
      "text/plain": [
       "<Figure size 640x480 with 0 Axes>"
      ]
     },
     "metadata": {},
     "output_type": "display_data"
    },
    {
     "data": {
      "text/plain": [
       "<Figure size 640x480 with 0 Axes>"
      ]
     },
     "metadata": {},
     "output_type": "display_data"
    },
    {
     "data": {
      "text/plain": [
       "<Figure size 640x480 with 0 Axes>"
      ]
     },
     "metadata": {},
     "output_type": "display_data"
    },
    {
     "data": {
      "text/plain": [
       "<Figure size 640x480 with 0 Axes>"
      ]
     },
     "metadata": {},
     "output_type": "display_data"
    },
    {
     "data": {
      "text/plain": [
       "<Figure size 640x480 with 0 Axes>"
      ]
     },
     "metadata": {},
     "output_type": "display_data"
    },
    {
     "data": {
      "text/plain": [
       "<Figure size 640x480 with 0 Axes>"
      ]
     },
     "metadata": {},
     "output_type": "display_data"
    },
    {
     "data": {
      "text/plain": [
       "<Figure size 640x480 with 0 Axes>"
      ]
     },
     "metadata": {},
     "output_type": "display_data"
    },
    {
     "data": {
      "text/plain": [
       "<Figure size 640x480 with 0 Axes>"
      ]
     },
     "metadata": {},
     "output_type": "display_data"
    },
    {
     "data": {
      "text/plain": [
       "<Figure size 640x480 with 0 Axes>"
      ]
     },
     "metadata": {},
     "output_type": "display_data"
    },
    {
     "data": {
      "text/plain": [
       "<Figure size 640x480 with 0 Axes>"
      ]
     },
     "metadata": {},
     "output_type": "display_data"
    },
    {
     "data": {
      "text/plain": [
       "<Figure size 640x480 with 0 Axes>"
      ]
     },
     "metadata": {},
     "output_type": "display_data"
    },
    {
     "data": {
      "text/plain": [
       "<Figure size 640x480 with 0 Axes>"
      ]
     },
     "metadata": {},
     "output_type": "display_data"
    },
    {
     "data": {
      "text/plain": [
       "<Figure size 640x480 with 0 Axes>"
      ]
     },
     "metadata": {},
     "output_type": "display_data"
    },
    {
     "data": {
      "text/plain": [
       "<Figure size 640x480 with 0 Axes>"
      ]
     },
     "metadata": {},
     "output_type": "display_data"
    },
    {
     "data": {
      "text/plain": [
       "<Figure size 640x480 with 0 Axes>"
      ]
     },
     "metadata": {},
     "output_type": "display_data"
    },
    {
     "data": {
      "text/plain": [
       "<Figure size 640x480 with 0 Axes>"
      ]
     },
     "metadata": {},
     "output_type": "display_data"
    },
    {
     "data": {
      "text/plain": [
       "<Figure size 640x480 with 0 Axes>"
      ]
     },
     "metadata": {},
     "output_type": "display_data"
    },
    {
     "data": {
      "text/plain": [
       "<Figure size 640x480 with 0 Axes>"
      ]
     },
     "metadata": {},
     "output_type": "display_data"
    },
    {
     "data": {
      "text/plain": [
       "<Figure size 640x480 with 0 Axes>"
      ]
     },
     "metadata": {},
     "output_type": "display_data"
    },
    {
     "data": {
      "text/plain": [
       "<Figure size 640x480 with 0 Axes>"
      ]
     },
     "metadata": {},
     "output_type": "display_data"
    },
    {
     "data": {
      "text/plain": [
       "<Figure size 640x480 with 0 Axes>"
      ]
     },
     "metadata": {},
     "output_type": "display_data"
    },
    {
     "data": {
      "text/plain": [
       "<Figure size 640x480 with 0 Axes>"
      ]
     },
     "metadata": {},
     "output_type": "display_data"
    },
    {
     "data": {
      "text/plain": [
       "<Figure size 640x480 with 0 Axes>"
      ]
     },
     "metadata": {},
     "output_type": "display_data"
    },
    {
     "data": {
      "text/plain": [
       "<Figure size 640x480 with 0 Axes>"
      ]
     },
     "metadata": {},
     "output_type": "display_data"
    },
    {
     "data": {
      "text/plain": [
       "<Figure size 640x480 with 0 Axes>"
      ]
     },
     "metadata": {},
     "output_type": "display_data"
    },
    {
     "data": {
      "text/plain": [
       "<Figure size 640x480 with 0 Axes>"
      ]
     },
     "metadata": {},
     "output_type": "display_data"
    },
    {
     "data": {
      "text/plain": [
       "<Figure size 640x480 with 0 Axes>"
      ]
     },
     "metadata": {},
     "output_type": "display_data"
    },
    {
     "data": {
      "text/plain": [
       "<Figure size 640x480 with 0 Axes>"
      ]
     },
     "metadata": {},
     "output_type": "display_data"
    },
    {
     "data": {
      "text/plain": [
       "<Figure size 640x480 with 0 Axes>"
      ]
     },
     "metadata": {},
     "output_type": "display_data"
    },
    {
     "data": {
      "text/plain": [
       "<Figure size 640x480 with 0 Axes>"
      ]
     },
     "metadata": {},
     "output_type": "display_data"
    },
    {
     "data": {
      "text/plain": [
       "<Figure size 640x480 with 0 Axes>"
      ]
     },
     "metadata": {},
     "output_type": "display_data"
    },
    {
     "data": {
      "text/plain": [
       "<Figure size 640x480 with 0 Axes>"
      ]
     },
     "metadata": {},
     "output_type": "display_data"
    },
    {
     "data": {
      "text/plain": [
       "<Figure size 640x480 with 0 Axes>"
      ]
     },
     "metadata": {},
     "output_type": "display_data"
    },
    {
     "data": {
      "text/plain": [
       "<Figure size 640x480 with 0 Axes>"
      ]
     },
     "metadata": {},
     "output_type": "display_data"
    },
    {
     "data": {
      "text/plain": [
       "<Figure size 640x480 with 0 Axes>"
      ]
     },
     "metadata": {},
     "output_type": "display_data"
    },
    {
     "data": {
      "text/plain": [
       "<Figure size 640x480 with 0 Axes>"
      ]
     },
     "metadata": {},
     "output_type": "display_data"
    },
    {
     "data": {
      "text/plain": [
       "<Figure size 640x480 with 0 Axes>"
      ]
     },
     "metadata": {},
     "output_type": "display_data"
    },
    {
     "data": {
      "text/plain": [
       "<Figure size 640x480 with 0 Axes>"
      ]
     },
     "metadata": {},
     "output_type": "display_data"
    },
    {
     "data": {
      "text/plain": [
       "<Figure size 640x480 with 0 Axes>"
      ]
     },
     "metadata": {},
     "output_type": "display_data"
    },
    {
     "data": {
      "text/plain": [
       "<Figure size 640x480 with 0 Axes>"
      ]
     },
     "metadata": {},
     "output_type": "display_data"
    },
    {
     "data": {
      "text/plain": [
       "<Figure size 640x480 with 0 Axes>"
      ]
     },
     "metadata": {},
     "output_type": "display_data"
    },
    {
     "data": {
      "text/plain": [
       "<Figure size 640x480 with 0 Axes>"
      ]
     },
     "metadata": {},
     "output_type": "display_data"
    },
    {
     "data": {
      "text/plain": [
       "<Figure size 640x480 with 0 Axes>"
      ]
     },
     "metadata": {},
     "output_type": "display_data"
    },
    {
     "data": {
      "text/plain": [
       "<Figure size 640x480 with 0 Axes>"
      ]
     },
     "metadata": {},
     "output_type": "display_data"
    },
    {
     "data": {
      "text/plain": [
       "<Figure size 640x480 with 0 Axes>"
      ]
     },
     "metadata": {},
     "output_type": "display_data"
    },
    {
     "data": {
      "text/plain": [
       "<Figure size 640x480 with 0 Axes>"
      ]
     },
     "metadata": {},
     "output_type": "display_data"
    },
    {
     "data": {
      "text/plain": [
       "<Figure size 640x480 with 0 Axes>"
      ]
     },
     "metadata": {},
     "output_type": "display_data"
    },
    {
     "data": {
      "text/plain": [
       "<Figure size 640x480 with 0 Axes>"
      ]
     },
     "metadata": {},
     "output_type": "display_data"
    },
    {
     "data": {
      "text/plain": [
       "<Figure size 640x480 with 0 Axes>"
      ]
     },
     "metadata": {},
     "output_type": "display_data"
    },
    {
     "data": {
      "text/plain": [
       "<Figure size 640x480 with 0 Axes>"
      ]
     },
     "metadata": {},
     "output_type": "display_data"
    },
    {
     "data": {
      "text/plain": [
       "<Figure size 640x480 with 0 Axes>"
      ]
     },
     "metadata": {},
     "output_type": "display_data"
    },
    {
     "data": {
      "text/plain": [
       "<Figure size 640x480 with 0 Axes>"
      ]
     },
     "metadata": {},
     "output_type": "display_data"
    },
    {
     "data": {
      "text/plain": [
       "<Figure size 640x480 with 0 Axes>"
      ]
     },
     "metadata": {},
     "output_type": "display_data"
    },
    {
     "data": {
      "text/plain": [
       "<Figure size 640x480 with 0 Axes>"
      ]
     },
     "metadata": {},
     "output_type": "display_data"
    },
    {
     "data": {
      "text/plain": [
       "<Figure size 640x480 with 0 Axes>"
      ]
     },
     "metadata": {},
     "output_type": "display_data"
    },
    {
     "data": {
      "text/plain": [
       "<Figure size 640x480 with 0 Axes>"
      ]
     },
     "metadata": {},
     "output_type": "display_data"
    },
    {
     "data": {
      "text/plain": [
       "<Figure size 640x480 with 0 Axes>"
      ]
     },
     "metadata": {},
     "output_type": "display_data"
    },
    {
     "data": {
      "text/plain": [
       "<Figure size 640x480 with 0 Axes>"
      ]
     },
     "metadata": {},
     "output_type": "display_data"
    },
    {
     "data": {
      "text/plain": [
       "<Figure size 640x480 with 0 Axes>"
      ]
     },
     "metadata": {},
     "output_type": "display_data"
    },
    {
     "data": {
      "text/plain": [
       "<Figure size 640x480 with 0 Axes>"
      ]
     },
     "metadata": {},
     "output_type": "display_data"
    },
    {
     "data": {
      "text/plain": [
       "<Figure size 640x480 with 0 Axes>"
      ]
     },
     "metadata": {},
     "output_type": "display_data"
    },
    {
     "data": {
      "text/plain": [
       "<Figure size 640x480 with 0 Axes>"
      ]
     },
     "metadata": {},
     "output_type": "display_data"
    },
    {
     "data": {
      "text/plain": [
       "<Figure size 640x480 with 0 Axes>"
      ]
     },
     "metadata": {},
     "output_type": "display_data"
    },
    {
     "data": {
      "text/plain": [
       "<Figure size 640x480 with 0 Axes>"
      ]
     },
     "metadata": {},
     "output_type": "display_data"
    },
    {
     "data": {
      "text/plain": [
       "<Figure size 640x480 with 0 Axes>"
      ]
     },
     "metadata": {},
     "output_type": "display_data"
    },
    {
     "data": {
      "text/plain": [
       "<Figure size 640x480 with 0 Axes>"
      ]
     },
     "metadata": {},
     "output_type": "display_data"
    },
    {
     "data": {
      "text/plain": [
       "<Figure size 640x480 with 0 Axes>"
      ]
     },
     "metadata": {},
     "output_type": "display_data"
    },
    {
     "data": {
      "text/plain": [
       "<Figure size 640x480 with 0 Axes>"
      ]
     },
     "metadata": {},
     "output_type": "display_data"
    },
    {
     "data": {
      "text/plain": [
       "<Figure size 640x480 with 0 Axes>"
      ]
     },
     "metadata": {},
     "output_type": "display_data"
    },
    {
     "data": {
      "text/plain": [
       "<Figure size 640x480 with 0 Axes>"
      ]
     },
     "metadata": {},
     "output_type": "display_data"
    },
    {
     "data": {
      "text/plain": [
       "<Figure size 640x480 with 0 Axes>"
      ]
     },
     "metadata": {},
     "output_type": "display_data"
    },
    {
     "data": {
      "text/plain": [
       "<Figure size 640x480 with 0 Axes>"
      ]
     },
     "metadata": {},
     "output_type": "display_data"
    },
    {
     "data": {
      "text/plain": [
       "<Figure size 640x480 with 0 Axes>"
      ]
     },
     "metadata": {},
     "output_type": "display_data"
    },
    {
     "data": {
      "text/plain": [
       "<Figure size 640x480 with 0 Axes>"
      ]
     },
     "metadata": {},
     "output_type": "display_data"
    },
    {
     "data": {
      "text/plain": [
       "<Figure size 640x480 with 0 Axes>"
      ]
     },
     "metadata": {},
     "output_type": "display_data"
    },
    {
     "data": {
      "text/plain": [
       "<Figure size 640x480 with 0 Axes>"
      ]
     },
     "metadata": {},
     "output_type": "display_data"
    },
    {
     "data": {
      "text/plain": [
       "<Figure size 640x480 with 0 Axes>"
      ]
     },
     "metadata": {},
     "output_type": "display_data"
    },
    {
     "data": {
      "text/plain": [
       "<Figure size 640x480 with 0 Axes>"
      ]
     },
     "metadata": {},
     "output_type": "display_data"
    },
    {
     "data": {
      "text/plain": [
       "<Figure size 640x480 with 0 Axes>"
      ]
     },
     "metadata": {},
     "output_type": "display_data"
    },
    {
     "data": {
      "text/plain": [
       "<Figure size 640x480 with 0 Axes>"
      ]
     },
     "metadata": {},
     "output_type": "display_data"
    },
    {
     "data": {
      "text/plain": [
       "<Figure size 640x480 with 0 Axes>"
      ]
     },
     "metadata": {},
     "output_type": "display_data"
    },
    {
     "data": {
      "text/plain": [
       "<Figure size 640x480 with 0 Axes>"
      ]
     },
     "metadata": {},
     "output_type": "display_data"
    },
    {
     "data": {
      "text/plain": [
       "<Figure size 640x480 with 0 Axes>"
      ]
     },
     "metadata": {},
     "output_type": "display_data"
    },
    {
     "data": {
      "text/plain": [
       "<Figure size 640x480 with 0 Axes>"
      ]
     },
     "metadata": {},
     "output_type": "display_data"
    },
    {
     "data": {
      "text/plain": [
       "<Figure size 640x480 with 0 Axes>"
      ]
     },
     "metadata": {},
     "output_type": "display_data"
    },
    {
     "data": {
      "text/plain": [
       "<Figure size 640x480 with 0 Axes>"
      ]
     },
     "metadata": {},
     "output_type": "display_data"
    },
    {
     "data": {
      "text/plain": [
       "<Figure size 640x480 with 0 Axes>"
      ]
     },
     "metadata": {},
     "output_type": "display_data"
    }
   ],
   "source": [
    "# 拟合并且保存图片\n",
    "import csv\n",
    "import cv2\n",
    "import numpy as np\n",
    "import matplotlib.pyplot as plt\n",
    "from scipy.optimize import curve_fit\n",
    "from matplotlib.patches import Circle\n",
    "import os\n",
    "# from scipy.optimize import curve_fit\n",
    "\n",
    "\n",
    "def circle(x, cx, cy, r):\n",
    "    return np.sqrt(r**2 - (x - cx)**2) + cy\n",
    "\n",
    "# 创建一个列表，用于存储圆心和半径\n",
    "circle_data = []\n",
    "error_data = []\n",
    "# 读取黑白图片\n",
    "input_folder = './p2-7_extracted_cropped_binary/p4_extracted/'\n",
    "output_folder = './fitted_extracted/fitted_p4/'\n",
    "if not os.path.exists(output_folder):\n",
    "    os.makedirs(output_folder)\n",
    "# os.path.join(output_path, 'fitted_'+filename)\n",
    "\n",
    "i=1\n",
    "\n",
    "for filename in os.listdir(input_folder):\n",
    "    print(i)\n",
    "    i=i+1\n",
    "\n",
    "    # 创建一个新的 Figure 对象\n",
    "    plt.figure()\n",
    "    image = cv2.imread(os.path.join(input_folder, filename), cv2.IMREAD_GRAYSCALE)\n",
    "    # image = cv2.imread('./cropped/cropped_p2-1_0015.bmp', cv2.IMREAD_GRAYSCALE)\n",
    "    width, length = image.shape\n",
    "    print(width)\n",
    "    \n",
    "    cropped_image = image\n",
    "\n",
    "    # 获取裁剪后图像的形状\n",
    "    rows, cols = cropped_image.shape\n",
    "\n",
    "    # 存储每列的第一个黑色点的坐标\n",
    "    first_black_pixels = []\n",
    "\n",
    "    # 遍历每一列\n",
    "    for col in range(cols):\n",
    "    # 找到当前列中第一个黑色点的行坐标\n",
    "        black_pixel_row = np.argmax(cropped_image[:, col] == 0)\n",
    "        \n",
    "        # 如果找到了黑色点，则记录坐标\n",
    "        if black_pixel_row > 0:  # 0 表示未找到黑色点\n",
    "            # 转换坐标为完整图像坐标\n",
    "            full_image_row =width - (0 + black_pixel_row)\n",
    "            first_black_pixels.append((0 + col, full_image_row))\n",
    "\n",
    "    # 将坐标转换为 NumPy 数组\n",
    "    first_black_pixels = np.array(first_black_pixels)\n",
    "    # print(first_black_pixels)\n",
    "\n",
    "    # 进行圆形拟合\n",
    "    # p0 = [np.mean(first_black_pixels[:, 0]), np.mean(first_black_pixels[:, 1]), 10.0]  # 初始猜测值\n",
    "    p0 = [np.mean(first_black_pixels[:, 0]), np.mean(first_black_pixels[:, 1])-200, 200.0]  # 初始猜测值\n",
    "    params, covariance = curve_fit(circle, first_black_pixels[:, 0], first_black_pixels[:, 1], p0=p0)\n",
    "\n",
    "\n",
    "    predicted_y = circle(first_black_pixels[:, 0], *params)\n",
    "\n",
    "    # 计算拟合误差\n",
    "    y_loss = np.sqrt(np.mean((first_black_pixels[:, 1] - predicted_y)**2))\n",
    "    print('y_loss:', y_loss)\n",
    "    r_squared = 1 - (np.sum((first_black_pixels[:, 1] - circle(first_black_pixels[:, 0], *params))**2) / np.sum((first_black_pixels[:, 1] - np.mean(first_black_pixels[:, 1]))**2))\n",
    "    print('r_squared:', r_squared)\n",
    "\n",
    "\n",
    "    error_data.append((round(y_loss, 3), round(r_squared, 3)))\n",
    "\n",
    "\n",
    "\n",
    "#     fit_errors_pix = np.sqrt(np.diag(covariance))\n",
    "#     # 提取拟合结果\n",
    "#     cx, cy, r = params\n",
    "\n",
    "#     # 生成拟合曲线的 x 值范围\n",
    "#     fit_x = np.linspace(min(first_black_pixels[:, 0]), max(first_black_pixels[:, 0]), 100)\n",
    "    \n",
    "#     # 计算拟合曲线的 y 值\n",
    "#     fit_y = circle(fit_x, cx, cy, r)\n",
    "\n",
    "#     # 显示图像\n",
    "\n",
    "#     plt.imshow(image, cmap='gray')\n",
    "\n",
    "#     # 在坐标轴上画出每列的第一个黑色点的位置\n",
    "#     plt.scatter(first_black_pixels[:, 0], width-first_black_pixels[:, 1], color='red', s=5)\n",
    "#     # 画出拟合圆\n",
    "#     # plt.plot(fit_x, fit_y, color='blue')\n",
    "#     circle_patch = Circle((cx, width-cy), r, color='purple', fill=False)\n",
    "#     plt.gca().add_patch(circle_patch)\n",
    "\n",
    "\n",
    "#     scale_factor = 41 / length  # 将369像素映射到29mm\n",
    "\n",
    "#     # 标记圆心位置\n",
    "#     plt.scatter(cx, width-cy, color='green', marker='x')\n",
    "\n",
    "#     p1= [1.2, 7.8]\n",
    "#     p1_scaled=[0,0]\n",
    "#     p1_scaled[0] = (p1[0]+13)/scale_factor\n",
    "#     p1_scaled[1] = width - (p1[1]+6)/scale_factor \n",
    "#     print( \"焊接位置/mm：\", p1[0]+13, p1[1]+6) \n",
    "\n",
    "#     print(p1_scaled)\n",
    "#     plt.scatter(p1_scaled[0], p1_scaled[1], color='red', marker='x')\n",
    "\n",
    "#     # # 显示图像、黑色像素位置和拟合圆\n",
    "#     # plt.axis('equal')\n",
    "#     # plt.show()\n",
    "#     output_filename = os.path.join(output_folder, 'fitted_'+filename.replace('bmp','jpg'))\n",
    "#     plt.savefig(output_filename)\n",
    "#     print(\"圆半径\",r*scale_factor,\"mm\")\n",
    "\n",
    "\n",
    "#     scaled_first_black_pixels = first_black_pixels * scale_factor\n",
    "#     # p0_scaled = [175 * scale_factor, 60 * scale_factor, 150.0 * scale_factor]  # 初始猜测值\n",
    "#     p0_scaled = [p * scale_factor for p in p0]\n",
    "#     params_scaled, covariance_scaled = curve_fit(circle, scaled_first_black_pixels[:, 0], scaled_first_black_pixels[:, 1], p0=p0_scaled)\n",
    "#     # 计算标准偏差作为拟合误差的估计\n",
    "#     fit_errors_mm = np.sqrt(np.diag(covariance_scaled))\n",
    "#     # print(f\"Circle center (cx_scaled/mm, cy_scaled/mm): ({ cx*scale_factor -13:.2f} ± {fit_errors[0]:.2f}, {cy*scale_factor - 6:.2f} ± {fit_errors[1]:.2f})\")\n",
    "#     # print(f\"Circle radius (r_scaled/mm): {r*scale_factor:.2f} ± {fit_errors[2]:.2f}\")\n",
    "\n",
    "#     print(f\"Circle center (cx_scaled/pix, cy_scaled/pix): ({(cx -170):.2f} ± {fit_errors_pix[0]:.2f}, {(580 - cy):.2f} ± {fit_errors_pix[1]:.2f})\")\n",
    "#     print(f\"Circle radius (r_scaled/pix): {r:.2f} ± {fit_errors_pix[2]:.2f}\")\n",
    "#     circle_data.append((round(cx , 3), round(580 - cy , 3), round(r, 3)))\n",
    "#     error_data.append((round(fit_errors_pix[0], 3), round(fit_errors_pix[1], 3), round(fit_errors_pix[2], 3)))\n",
    "\n",
    "\n",
    "\n",
    "# # 读取文件\n",
    "# # with open('predict.txt', 'r') as f:\n",
    "# with open('./Data/labels-240301-p1_p6.txt', 'r') as f:\n",
    "#     reader = csv.reader(f)\n",
    "#     data = list(reader)\n",
    "\n",
    "# # 找到第一个第四、五、六列为空的行的索引\n",
    "# start_index = next((i for i, row in enumerate(data) if all(x == '' for x in row[3:6])), len(data))\n",
    "\n",
    "# # 添加新的数据\n",
    "# # for i in range(start_index, start_index + len(circle_data[:200])):\n",
    "# #     if i < len(data):\n",
    "# #         data[i][3:6] = circle_data[i - start_index]\n",
    "# #     else:\n",
    "# #         data.append(circle_data[i - start_index] + [''] * (len(data[0]) - 6))\n",
    "\n",
    "# for i in range (400, 600):\n",
    "#     data[i][3:6] = circle_data[i - 400] \n",
    "\n",
    "# # 写回文件\n",
    "# # with open('predict.txt', 'w', newline='') as f:\n",
    "# with open('./Data/labels-240301-p1_p6.txt', 'w', newline='') as f:\n",
    "#     writer = csv.writer(f)\n",
    "#     writer.writerows(data)\n",
    "\n",
    "\n",
    "# cv2.imwrite(output_filename, image)"
   ]
  },
  {
   "cell_type": "code",
   "execution_count": 2,
   "metadata": {},
   "outputs": [
    {
     "name": "stdout",
     "output_type": "stream",
     "text": [
      "1200\n"
     ]
    }
   ],
   "source": [
    "with open('error.txt', 'r') as f:\n",
    "    reader = csv.reader(f)\n",
    "    error_txt = list(reader)\n",
    "print(len(error_txt))\n",
    "\n",
    "# for _ in range(1200 - len(error_txt)):\n",
    "#     error_txt.append([''] * 3)\n",
    "# print(len(error_txt))\n",
    "\n",
    "# # 添加新的数据\n",
    "for i in range(len(error_txt)):\n",
    "    # 如果原有的列数不足6列，用空字符串填充\n",
    "    while len(error_txt[i]) < 5:\n",
    "        error_txt[i].append('')\n",
    "\n",
    "for i in range (400, 600):\n",
    "    error_txt[i][0:2] = error_data[i - 400]\n",
    "    # 写回文件\n",
    "with open('error.txt', 'w', newline='') as f:\n",
    "    writer = csv.writer(f)\n",
    "    writer.writerows(error_txt)"
   ]
  }
 ],
 "metadata": {
  "kernelspec": {
   "display_name": "base",
   "language": "python",
   "name": "python3"
  },
  "language_info": {
   "codemirror_mode": {
    "name": "ipython",
    "version": 3
   },
   "file_extension": ".py",
   "mimetype": "text/x-python",
   "name": "python",
   "nbconvert_exporter": "python",
   "pygments_lexer": "ipython3",
   "version": "3.9.13"
  }
 },
 "nbformat": 4,
 "nbformat_minor": 2
}
