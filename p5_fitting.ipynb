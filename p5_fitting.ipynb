{
 "cells": [
  {
   "cell_type": "code",
   "execution_count": 1,
   "metadata": {},
   "outputs": [
    {
     "name": "stdout",
     "output_type": "stream",
     "text": [
      "1\n",
      "580\n",
      "y_loss: 2.651856019433685\n",
      "r_squared: 0.987988970874737\n",
      "2\n",
      "580\n",
      "y_loss: 2.7359853521868027\n",
      "r_squared: 0.9871214970083659\n",
      "3\n",
      "580\n",
      "y_loss: 2.6535780160182925\n",
      "r_squared: 0.9876265496053666\n",
      "4\n",
      "580\n",
      "y_loss: 2.3563213064463393\n",
      "r_squared: 0.989845779100239\n",
      "5\n",
      "580\n",
      "y_loss: 1.7715420719263173\n",
      "r_squared: 0.9940341284860235\n",
      "6\n",
      "580\n",
      "y_loss: 1.8592794919466\n",
      "r_squared: 0.9935192795918717\n",
      "7\n",
      "580\n",
      "y_loss: 2.182066090777141\n",
      "r_squared: 0.9912114253863966\n",
      "8\n",
      "580\n",
      "y_loss: 3.425900236532556\n",
      "r_squared: 0.9800664343586262\n",
      "9\n",
      "580\n",
      "y_loss: 4.038394505349104\n",
      "r_squared: 0.9741779417854668\n",
      "10\n",
      "580\n",
      "y_loss: 3.8463509146503223\n",
      "r_squared: 0.9765527772153605\n",
      "11\n",
      "580\n",
      "y_loss: 3.663952432328529\n",
      "r_squared: 0.9777344010752975\n",
      "12\n",
      "580\n",
      "y_loss: 3.883151370235016\n",
      "r_squared: 0.9751257620642423\n",
      "13\n",
      "580\n",
      "y_loss: 3.780315843838245\n",
      "r_squared: 0.9756972042244244\n",
      "14\n",
      "580\n",
      "y_loss: 3.804682656537501\n",
      "r_squared: 0.9747820601472434\n",
      "15\n",
      "580\n",
      "y_loss: 3.5752620292219235\n",
      "r_squared: 0.975753846543058\n",
      "16\n",
      "580\n",
      "y_loss: 4.054866623131489\n",
      "r_squared: 0.9673344510225211\n",
      "17\n",
      "580\n",
      "y_loss: 2.039662154097345\n",
      "r_squared: 0.9886391295877118\n",
      "18\n",
      "580\n",
      "y_loss: 2.0938456970967754\n",
      "r_squared: 0.9873261526151911\n",
      "19\n",
      "580\n",
      "y_loss: 2.2722174675336815\n",
      "r_squared: 0.9849369776696697\n",
      "20\n",
      "580\n",
      "y_loss: 2.325796488551953\n",
      "r_squared: 0.9838217626779135\n",
      "21\n",
      "580\n",
      "y_loss: 2.473667277028054\n",
      "r_squared: 0.9809897357058911\n",
      "22\n",
      "580\n",
      "y_loss: 2.9584373657874607\n",
      "r_squared: 0.9729107856431133\n",
      "23\n",
      "580\n",
      "y_loss: 4.188815572827834\n",
      "r_squared: 0.951776172405635\n",
      "24\n",
      "580\n",
      "y_loss: 2.9794686859310215\n",
      "r_squared: 0.9699535639756303\n",
      "25\n",
      "580\n",
      "y_loss: 3.0726229322168686\n",
      "r_squared: 0.966803283697017\n",
      "26\n",
      "580\n",
      "y_loss: 2.9850379060222356\n",
      "r_squared: 0.9676254395970448\n",
      "27\n",
      "580\n",
      "y_loss: 2.778746999722072\n",
      "r_squared: 0.9718522571481945\n",
      "28\n",
      "580\n",
      "y_loss: 2.6075580141058543\n",
      "r_squared: 0.9743230002653754\n",
      "29\n",
      "580\n",
      "y_loss: 2.6423429201170268\n",
      "r_squared: 0.9736056508460673\n",
      "30\n",
      "580\n",
      "y_loss: 3.503569265874349\n",
      "r_squared: 0.9610764176381165\n",
      "31\n",
      "580\n"
     ]
    },
    {
     "name": "stderr",
     "output_type": "stream",
     "text": [
      "C:\\Users\\Kevin\\AppData\\Local\\Temp\\ipykernel_36120\\1565726814.py:32: RuntimeWarning: More than 20 figures have been opened. Figures created through the pyplot interface (`matplotlib.pyplot.figure`) are retained until explicitly closed and may consume too much memory. (To control this warning, see the rcParam `figure.max_open_warning`). Consider using `matplotlib.pyplot.close()`.\n",
      "  plt.figure()\n"
     ]
    },
    {
     "name": "stdout",
     "output_type": "stream",
     "text": [
      "y_loss: 3.3529196688713383\n",
      "r_squared: 0.9613431104440601\n",
      "32\n",
      "580\n",
      "y_loss: 5.4342897911628345\n",
      "r_squared: 0.9253445796759426\n",
      "33\n",
      "580\n",
      "y_loss: 2.8541586256456726\n",
      "r_squared: 0.962960895878978\n",
      "34\n",
      "580\n",
      "y_loss: 3.046738589089635\n",
      "r_squared: 0.9562224984925018\n",
      "35\n",
      "580\n",
      "y_loss: 3.0769289103573034\n",
      "r_squared: 0.9545757120514486\n",
      "36\n",
      "580\n",
      "y_loss: 2.7070859030922727\n",
      "r_squared: 0.9624617640857042\n",
      "37\n",
      "580\n",
      "y_loss: 2.998504135878304\n",
      "r_squared: 0.9568666289351947\n",
      "38\n",
      "580\n",
      "y_loss: 2.528380987966411\n",
      "r_squared: 0.9664575388004323\n",
      "39\n",
      "580\n",
      "y_loss: 2.620405078626142\n",
      "r_squared: 0.9696440037093058\n",
      "40\n",
      "580\n",
      "y_loss: 3.25386148314991\n",
      "r_squared: 0.9631405070080151\n",
      "41\n",
      "580\n",
      "y_loss: 2.119711154127062\n",
      "r_squared: 0.9832954170832868\n",
      "42\n",
      "580\n",
      "y_loss: 1.7470162908443727\n",
      "r_squared: 0.9888103489688073\n",
      "43\n",
      "580\n",
      "y_loss: 1.2060935981058865\n",
      "r_squared: 0.9947990199855028\n",
      "44\n",
      "580\n",
      "y_loss: 1.723960828680622\n",
      "r_squared: 0.9906322948744255\n",
      "45\n",
      "580\n"
     ]
    },
    {
     "name": "stderr",
     "output_type": "stream",
     "text": [
      "C:\\Users\\Kevin\\AppData\\Local\\Temp\\ipykernel_36120\\1565726814.py:13: RuntimeWarning: invalid value encountered in sqrt\n",
      "  return np.sqrt(r**2 - (x - cx)**2) + cy\n"
     ]
    },
    {
     "name": "stdout",
     "output_type": "stream",
     "text": [
      "y_loss: 3.6680842801905715\n",
      "r_squared: 0.9746349238176437\n",
      "46\n",
      "580\n",
      "y_loss: 2.688508330951267\n",
      "r_squared: 0.9860249394805566\n",
      "47\n",
      "580\n",
      "y_loss: 2.5321027607286175\n",
      "r_squared: 0.9873557467357348\n",
      "48\n",
      "580\n",
      "y_loss: 1.5931841676255218\n",
      "r_squared: 0.994643662029971\n",
      "49\n",
      "580\n",
      "y_loss: 1.7167975584326172\n",
      "r_squared: 0.9932753386057889\n",
      "50\n",
      "580\n",
      "y_loss: 1.212325023784071\n",
      "r_squared: 0.9965162205235957\n",
      "51\n",
      "580\n",
      "y_loss: 1.5381659287513156\n",
      "r_squared: 0.9943442011420413\n",
      "52\n",
      "580\n",
      "y_loss: 1.9143221946098095\n",
      "r_squared: 0.9904879222631732\n",
      "53\n",
      "580\n",
      "y_loss: 1.895092581610253\n",
      "r_squared: 0.9899269129074573\n",
      "54\n",
      "580\n",
      "y_loss: 2.018944097469664\n",
      "r_squared: 0.9880086839733314\n",
      "55\n",
      "580\n",
      "y_loss: 2.3452554446491365\n",
      "r_squared: 0.9833305326664632\n",
      "56\n",
      "580\n",
      "y_loss: 2.481580678840283\n",
      "r_squared: 0.9808990133500829\n",
      "57\n",
      "580\n",
      "y_loss: 2.250275470651301\n",
      "r_squared: 0.9838795801808923\n",
      "58\n",
      "580\n",
      "y_loss: 2.319430640310075\n",
      "r_squared: 0.9829098739015012\n",
      "59\n",
      "580\n",
      "y_loss: 2.550532511013321\n",
      "r_squared: 0.9802045870178917\n",
      "60\n",
      "580\n",
      "y_loss: 2.788441566400873\n",
      "r_squared: 0.977630403283837\n",
      "61\n",
      "580\n",
      "y_loss: 2.8690330598578644\n",
      "r_squared: 0.9779031553229548\n",
      "62\n",
      "580\n",
      "y_loss: 2.9809235096886515\n",
      "r_squared: 0.9781683728456176\n",
      "63\n",
      "580\n",
      "y_loss: 2.1324479747197898\n",
      "r_squared: 0.9896307616751381\n",
      "64\n",
      "580\n",
      "y_loss: 1.377055147763214\n",
      "r_squared: 0.995747248978883\n",
      "65\n",
      "580\n",
      "y_loss: 1.6013103579580361\n",
      "r_squared: 0.9942661219612856\n",
      "66\n",
      "580\n",
      "y_loss: 2.790511251027678\n",
      "r_squared: 0.9786714522269581\n",
      "67\n",
      "580\n",
      "y_loss: 1.534924859395753\n",
      "r_squared: 0.9938359597236527\n",
      "68\n",
      "580\n",
      "y_loss: 1.1903780742081767\n",
      "r_squared: 0.9964440308752895\n",
      "69\n",
      "580\n",
      "y_loss: 2.128171529356407\n",
      "r_squared: 0.9873336878475478\n",
      "70\n",
      "580\n",
      "y_loss: 3.994667859853411\n",
      "r_squared: 0.9541602960565595\n",
      "71\n",
      "580\n",
      "y_loss: 2.5707684162198263\n",
      "r_squared: 0.9815917067240464\n",
      "72\n",
      "580\n",
      "y_loss: 3.346998323759364\n",
      "r_squared: 0.9679184663640886\n",
      "73\n",
      "580\n",
      "y_loss: 3.273307697637579\n",
      "r_squared: 0.9675697986167116\n",
      "74\n",
      "580\n",
      "y_loss: 3.4944906544233274\n",
      "r_squared: 0.960898207314601\n",
      "75\n",
      "580\n",
      "y_loss: 3.5479441930023348\n",
      "r_squared: 0.9615055805160119\n",
      "76\n",
      "580\n",
      "y_loss: 4.117169856095898\n",
      "r_squared: 0.9472695113040006\n",
      "77\n",
      "580\n",
      "y_loss: 3.8223521167149372\n",
      "r_squared: 0.9531739786545081\n",
      "78\n",
      "580\n",
      "y_loss: 3.8705622831449795\n",
      "r_squared: 0.9490291950123038\n",
      "79\n",
      "580\n",
      "y_loss: 3.7201197642442874\n",
      "r_squared: 0.9542855780514641\n",
      "80\n",
      "580\n",
      "y_loss: 3.7843809455925657\n",
      "r_squared: 0.951416369280709\n",
      "81\n",
      "580\n",
      "y_loss: 3.6005028038787437\n",
      "r_squared: 0.9547748550932932\n",
      "82\n",
      "580\n",
      "y_loss: 3.5584877163283832\n",
      "r_squared: 0.9569139964893489\n",
      "83\n",
      "580\n",
      "y_loss: 3.908020509168442\n",
      "r_squared: 0.9409855824992164\n",
      "84\n",
      "580\n",
      "y_loss: 3.6742664673251113\n",
      "r_squared: 0.9521706431572384\n",
      "85\n",
      "580\n",
      "y_loss: 3.423156898793655\n",
      "r_squared: 0.9562680641195841\n",
      "86\n",
      "580\n",
      "y_loss: 3.278954283882201\n",
      "r_squared: 0.957326759914772\n",
      "87\n",
      "580\n",
      "y_loss: 2.975848971639897\n",
      "r_squared: 0.9642070768977454\n",
      "88\n",
      "580\n",
      "y_loss: 2.8260757058141426\n",
      "r_squared: 0.9708639334412061\n",
      "89\n",
      "580\n",
      "y_loss: 2.546973649891629\n",
      "r_squared: 0.9763622096026662\n",
      "90\n",
      "580\n",
      "y_loss: 2.217606048402651\n",
      "r_squared: 0.9803987286223779\n",
      "91\n",
      "580\n",
      "y_loss: 1.8394501003760126\n",
      "r_squared: 0.9855740048605562\n",
      "92\n",
      "580\n",
      "y_loss: 2.0667880951582056\n",
      "r_squared: 0.981705481949692\n",
      "93\n",
      "580\n",
      "y_loss: 4.1891628317618625\n",
      "r_squared: 0.9281824720214582\n",
      "94\n",
      "580\n",
      "y_loss: 3.557241977362784\n",
      "r_squared: 0.9483833115586031\n",
      "95\n",
      "580\n",
      "y_loss: 3.39712666391522\n",
      "r_squared: 0.9441315797591026\n",
      "96\n",
      "580\n",
      "y_loss: 3.1558177420329434\n",
      "r_squared: 0.9545066976307162\n",
      "97\n",
      "580\n",
      "y_loss: 2.55700265465018\n",
      "r_squared: 0.9713130838950678\n",
      "98\n",
      "580\n",
      "y_loss: 1.9191638588046855\n",
      "r_squared: 0.9837464913024329\n",
      "99\n",
      "580\n",
      "y_loss: 1.6628967253189397\n",
      "r_squared: 0.9866615847023844\n",
      "100\n",
      "580\n",
      "y_loss: 2.838555246182959\n",
      "r_squared: 0.9623691339640625\n",
      "101\n",
      "580\n",
      "y_loss: 2.9919227882655557\n",
      "r_squared: 0.9578408134224646\n",
      "102\n",
      "580\n",
      "y_loss: 2.5331960943066267\n",
      "r_squared: 0.9680774176751314\n",
      "103\n",
      "580\n",
      "y_loss: 2.700312115656752\n",
      "r_squared: 0.9671695852542926\n",
      "104\n",
      "580\n",
      "y_loss: 1.673600741154914\n",
      "r_squared: 0.98694784488208\n",
      "105\n",
      "580\n",
      "y_loss: 1.7504870640064771\n",
      "r_squared: 0.9853115292018267\n",
      "106\n",
      "580\n",
      "y_loss: 1.5785379394447079\n",
      "r_squared: 0.986880713672618\n",
      "107\n",
      "580\n",
      "y_loss: 2.471368249080454\n",
      "r_squared: 0.9665466475367389\n",
      "108\n",
      "580\n",
      "y_loss: 2.5373177840122483\n",
      "r_squared: 0.9651834973544248\n",
      "109\n",
      "580\n",
      "y_loss: 2.1668029472818495\n",
      "r_squared: 0.9733999756176939\n",
      "110\n",
      "580\n",
      "y_loss: 2.078385846115616\n",
      "r_squared: 0.9763922655336289\n",
      "111\n",
      "580\n",
      "y_loss: 2.0389152148754808\n",
      "r_squared: 0.978091108186008\n",
      "112\n",
      "580\n",
      "y_loss: 1.9787431738843186\n",
      "r_squared: 0.9801398623181934\n",
      "113\n",
      "580\n",
      "y_loss: 1.7724735599796035\n",
      "r_squared: 0.9849126598348337\n",
      "114\n",
      "580\n",
      "y_loss: 1.379187445084001\n",
      "r_squared: 0.99049120201159\n",
      "115\n",
      "580\n",
      "y_loss: 1.4120863220640951\n",
      "r_squared: 0.9904535710853782\n",
      "116\n",
      "580\n",
      "y_loss: 2.7837096844465306\n",
      "r_squared: 0.962740077367539\n",
      "117\n",
      "580\n",
      "y_loss: 2.41106410527461\n",
      "r_squared: 0.9720465545310146\n",
      "118\n",
      "580\n",
      "y_loss: 2.589276400958404\n",
      "r_squared: 0.9690863883659915\n",
      "119\n",
      "580\n",
      "y_loss: 2.774909886424053\n",
      "r_squared: 0.9632164199732118\n",
      "120\n",
      "580\n",
      "y_loss: 3.1044882407373606\n",
      "r_squared: 0.9559694758364912\n",
      "121\n",
      "580\n",
      "y_loss: 2.8861345294157394\n",
      "r_squared: 0.9619144200417697\n",
      "122\n",
      "580\n",
      "y_loss: 2.679670977906576\n",
      "r_squared: 0.9682494934683843\n",
      "123\n",
      "580\n",
      "y_loss: 2.260462801527308\n",
      "r_squared: 0.9764276830425672\n",
      "124\n",
      "580\n",
      "y_loss: 1.9472619856327047\n",
      "r_squared: 0.9806844556621497\n",
      "125\n",
      "580\n",
      "y_loss: 2.073215250012524\n",
      "r_squared: 0.9753542847848676\n",
      "126\n",
      "580\n",
      "y_loss: 1.52834379213299\n",
      "r_squared: 0.9861956875032117\n",
      "127\n",
      "580\n",
      "y_loss: 1.6378252879106558\n",
      "r_squared: 0.9849396597771494\n",
      "128\n",
      "580\n",
      "y_loss: 1.7314800038682772\n",
      "r_squared: 0.9830922270623527\n",
      "129\n",
      "580\n",
      "y_loss: 1.6934563609840545\n",
      "r_squared: 0.9853499293046831\n",
      "130\n",
      "580\n",
      "y_loss: 1.759472642531577\n",
      "r_squared: 0.9840581584465744\n",
      "131\n",
      "580\n",
      "y_loss: 1.6774557218822792\n",
      "r_squared: 0.9861543230241496\n",
      "132\n",
      "580\n",
      "y_loss: 1.524879874219202\n",
      "r_squared: 0.9886997686058553\n",
      "133\n",
      "580\n",
      "y_loss: 1.4424753286582286\n",
      "r_squared: 0.990095833339616\n",
      "134\n",
      "580\n",
      "y_loss: 1.4817662019549593\n",
      "r_squared: 0.9884689040275964\n",
      "135\n",
      "580\n",
      "y_loss: 1.2336108820167673\n",
      "r_squared: 0.9908980904414348\n",
      "136\n",
      "580\n",
      "y_loss: 1.266105443955217\n",
      "r_squared: 0.9898715665964091\n",
      "137\n",
      "580\n",
      "y_loss: 1.2731533404488058\n",
      "r_squared: 0.9908843550630655\n",
      "138\n",
      "580\n",
      "y_loss: 1.1674890226974945\n",
      "r_squared: 0.9919247089211659\n",
      "139\n",
      "580\n",
      "y_loss: 1.210319269528594\n",
      "r_squared: 0.9915659372950368\n",
      "140\n",
      "580\n",
      "y_loss: 1.2218752396773356\n",
      "r_squared: 0.9909362873530262\n",
      "141\n",
      "580\n",
      "y_loss: 1.2849124257619235\n",
      "r_squared: 0.9905837067974027\n",
      "142\n",
      "580\n",
      "y_loss: 1.3192529395335177\n",
      "r_squared: 0.9898774737914917\n",
      "143\n",
      "580\n",
      "y_loss: 1.3328555681277288\n",
      "r_squared: 0.990734697569837\n",
      "144\n",
      "580\n",
      "y_loss: 1.2291222689258579\n",
      "r_squared: 0.9923152768040081\n",
      "145\n",
      "580\n",
      "y_loss: 1.3181467163647953\n",
      "r_squared: 0.9914138840245115\n",
      "146\n",
      "580\n",
      "y_loss: 1.4166829035078807\n",
      "r_squared: 0.9899441844387276\n",
      "147\n",
      "580\n",
      "y_loss: 1.6083269469523471\n",
      "r_squared: 0.98768049619099\n",
      "148\n",
      "580\n",
      "y_loss: 1.5530099758491338\n",
      "r_squared: 0.9880318527517452\n",
      "149\n",
      "580\n",
      "y_loss: 1.5597918575670835\n",
      "r_squared: 0.9870070878325043\n",
      "150\n",
      "580\n",
      "y_loss: 1.5373094067894735\n",
      "r_squared: 0.9874383120334426\n",
      "151\n",
      "580\n",
      "y_loss: 1.6174928357600864\n",
      "r_squared: 0.987162301859905\n",
      "152\n",
      "580\n",
      "y_loss: 1.6993610445858573\n",
      "r_squared: 0.9846184308511526\n",
      "153\n",
      "580\n",
      "y_loss: 1.8679502955990623\n",
      "r_squared: 0.985476563800837\n",
      "154\n",
      "580\n",
      "y_loss: 1.6765843825198734\n",
      "r_squared: 0.9880551589317655\n",
      "155\n",
      "580\n",
      "y_loss: 1.4936109437845246\n",
      "r_squared: 0.990550677735241\n",
      "156\n",
      "580\n",
      "y_loss: 2.1218994785798513\n",
      "r_squared: 0.9788803696717581\n",
      "157\n",
      "580\n",
      "y_loss: 2.184597849303128\n",
      "r_squared: 0.9775484887916792\n",
      "158\n",
      "580\n",
      "y_loss: 1.2338379568881042\n",
      "r_squared: 0.9924022228691098\n",
      "159\n",
      "580\n",
      "y_loss: 1.267658311062003\n",
      "r_squared: 0.9916758027480437\n",
      "160\n",
      "580\n",
      "y_loss: 1.2842213746918498\n",
      "r_squared: 0.9910667406940483\n",
      "161\n",
      "580\n",
      "y_loss: 1.4111427208883462\n",
      "r_squared: 0.9887418947271429\n",
      "162\n",
      "580\n",
      "y_loss: 1.733998539330009\n",
      "r_squared: 0.9839774647612648\n",
      "163\n",
      "580\n",
      "y_loss: 1.6473494595826534\n",
      "r_squared: 0.9861117753585363\n",
      "164\n",
      "580\n",
      "y_loss: 1.735754061916293\n",
      "r_squared: 0.9859856109373637\n",
      "165\n",
      "580\n",
      "y_loss: 1.1282825327395483\n",
      "r_squared: 0.9938718457994956\n",
      "166\n",
      "580\n",
      "y_loss: 1.0551846911128493\n",
      "r_squared: 0.9943489353329921\n",
      "167\n",
      "580\n",
      "y_loss: 1.1643673015968294\n",
      "r_squared: 0.9934711241604047\n",
      "168\n",
      "580\n",
      "y_loss: 1.3178915470858013\n",
      "r_squared: 0.991619763750874\n",
      "169\n",
      "580\n",
      "y_loss: 1.370704332107578\n",
      "r_squared: 0.9910855291271775\n",
      "170\n",
      "580\n",
      "y_loss: 1.4437700450269857\n",
      "r_squared: 0.9903051639123179\n",
      "171\n",
      "580\n",
      "y_loss: 1.4449808190884532\n",
      "r_squared: 0.990567419002161\n",
      "172\n",
      "580\n",
      "y_loss: 1.5566856149070682\n",
      "r_squared: 0.9890710067805667\n",
      "173\n",
      "580\n",
      "y_loss: 1.678392763529899\n",
      "r_squared: 0.9868251982576386\n",
      "174\n",
      "580\n",
      "y_loss: 1.608449580960842\n",
      "r_squared: 0.9876468498225455\n",
      "175\n",
      "580\n",
      "y_loss: 1.4250078196634977\n",
      "r_squared: 0.9904887169434606\n",
      "176\n",
      "580\n",
      "y_loss: 1.294921657382153\n",
      "r_squared: 0.9923628736814735\n",
      "177\n",
      "580\n",
      "y_loss: 0.9913904234483616\n",
      "r_squared: 0.9952968418970871\n",
      "178\n",
      "580\n",
      "y_loss: 1.0764611342292663\n",
      "r_squared: 0.9941335609673129\n",
      "179\n",
      "580\n",
      "y_loss: 1.423407067320641\n",
      "r_squared: 0.989582487055279\n",
      "180\n",
      "580\n",
      "y_loss: 1.1906593530917375\n",
      "r_squared: 0.9927095368171326\n",
      "181\n",
      "580\n",
      "y_loss: 1.3282844430335314\n",
      "r_squared: 0.9901205475980289\n",
      "182\n",
      "580\n",
      "y_loss: 1.3538308210890688\n",
      "r_squared: 0.9892663931411203\n",
      "183\n",
      "580\n",
      "y_loss: 1.5670188883598821\n",
      "r_squared: 0.9867850220864397\n",
      "184\n",
      "580\n",
      "y_loss: 2.0404695370894625\n",
      "r_squared: 0.9772445872772367\n",
      "185\n",
      "580\n",
      "y_loss: 1.5843620054754242\n",
      "r_squared: 0.9856270021968779\n",
      "186\n",
      "580\n",
      "y_loss: 1.320301084769172\n",
      "r_squared: 0.9899408113245453\n",
      "187\n",
      "580\n",
      "y_loss: 1.2380422636837816\n",
      "r_squared: 0.9907361926131469\n",
      "188\n",
      "580\n",
      "y_loss: 1.1165677026396108\n",
      "r_squared: 0.9932710865843342\n",
      "189\n",
      "580\n",
      "y_loss: 0.9984501398243761\n",
      "r_squared: 0.994441785454958\n",
      "190\n",
      "580\n",
      "y_loss: 0.9597950818761433\n",
      "r_squared: 0.9945710456855027\n",
      "191\n",
      "580\n",
      "y_loss: 0.8241642961069355\n",
      "r_squared: 0.9955105647442427\n",
      "192\n",
      "580\n",
      "y_loss: 1.0373752745082276\n",
      "r_squared: 0.9928213551964757\n",
      "193\n",
      "580\n",
      "y_loss: 1.0551025154507359\n",
      "r_squared: 0.992251347313942\n",
      "194\n",
      "580\n",
      "y_loss: 1.1330713244433508\n",
      "r_squared: 0.9916666772662657\n",
      "195\n",
      "580\n",
      "y_loss: 3.4221806600449187\n",
      "r_squared: 0.9201619935716298\n",
      "196\n",
      "580\n",
      "y_loss: 1.1193450844918325\n",
      "r_squared: 0.9911257415734498\n",
      "197\n",
      "580\n",
      "y_loss: 1.4417046863175789\n",
      "r_squared: 0.9860348885753377\n",
      "198\n",
      "580\n",
      "y_loss: 1.3293389251740768\n",
      "r_squared: 0.9887238259709433\n",
      "199\n",
      "580\n",
      "y_loss: 1.4404121669770675\n",
      "r_squared: 0.9883116126528516\n",
      "200\n",
      "580\n",
      "y_loss: 1.5898263184946309\n",
      "r_squared: 0.9862961357063109\n",
      "201\n",
      "580\n",
      "y_loss: 1.5498850444303016\n",
      "r_squared: 0.9884899659456013\n",
      "202\n",
      "580\n",
      "y_loss: 1.40445225998279\n",
      "r_squared: 0.9911746148420777\n",
      "203\n",
      "580\n",
      "y_loss: 1.353512670236594\n",
      "r_squared: 0.9926719434590664\n",
      "204\n",
      "580\n",
      "y_loss: 2.110506826788837\n",
      "r_squared: 0.9824161149981635\n",
      "205\n",
      "580\n",
      "y_loss: 2.754050873419417\n",
      "r_squared: 0.9750462542748985\n",
      "206\n",
      "580\n",
      "y_loss: 3.0134157848974503\n",
      "r_squared: 0.969772018623665\n",
      "207\n",
      "580\n",
      "y_loss: 4.943897811451654\n",
      "r_squared: 0.9213184810585486\n",
      "208\n",
      "580\n",
      "y_loss: 1.9268251161732977\n",
      "r_squared: 0.9820089445610373\n",
      "209\n",
      "580\n",
      "y_loss: 1.7111286673775647\n",
      "r_squared: 0.9849941589225814\n",
      "210\n",
      "580\n",
      "y_loss: 1.903857418282396\n",
      "r_squared: 0.981850505368799\n",
      "211\n",
      "580\n",
      "y_loss: 6.2687407003364415\n",
      "r_squared: 0.827265332053422\n",
      "212\n",
      "580\n",
      "y_loss: 2.478964249501494\n",
      "r_squared: 0.9695979824261552\n",
      "213\n",
      "580\n",
      "y_loss: 1.9226742161734038\n",
      "r_squared: 0.9801727458560745\n",
      "214\n",
      "580\n",
      "y_loss: 3.3550206859926326\n",
      "r_squared: 0.961902375550021\n",
      "215\n",
      "580\n",
      "y_loss: 7.210841353432164\n",
      "r_squared: 0.8872491600638818\n",
      "216\n",
      "580\n",
      "y_loss: 7.40720363516297\n",
      "r_squared: 0.8926573020569816\n",
      "217\n",
      "580\n",
      "y_loss: 7.0909873964275\n",
      "r_squared: 0.9001497838781856\n",
      "218\n",
      "580\n",
      "y_loss: 6.722836214997511\n",
      "r_squared: 0.9002976482498066\n",
      "219\n",
      "580\n",
      "y_loss: 5.99671704973192\n",
      "r_squared: 0.908405412215251\n",
      "220\n",
      "580\n",
      "y_loss: 6.156842489278954\n",
      "r_squared: 0.8822269442320227\n",
      "221\n",
      "580\n",
      "y_loss: 2.4328549806857\n",
      "r_squared: 0.9782027244162932\n",
      "222\n",
      "580\n",
      "y_loss: 6.648258629746093\n",
      "r_squared: 0.852161374491351\n",
      "223\n",
      "580\n",
      "y_loss: 4.049978490141632\n",
      "r_squared: 0.9410344749070154\n",
      "224\n",
      "580\n",
      "y_loss: 2.8137639443318134\n",
      "r_squared: 0.9720658773771169\n",
      "225\n",
      "580\n",
      "y_loss: 2.3613518102877156\n",
      "r_squared: 0.9807508319887396\n",
      "226\n",
      "580\n",
      "y_loss: 2.007566639509198\n",
      "r_squared: 0.9864215499921519\n",
      "227\n",
      "580\n",
      "y_loss: 3.350941990175872\n",
      "r_squared: 0.9708226494016587\n",
      "228\n",
      "580\n",
      "y_loss: 3.3197361665346774\n",
      "r_squared: 0.9717016702609926\n",
      "229\n",
      "580\n",
      "y_loss: 3.7584523277049207\n",
      "r_squared: 0.9665242531395559\n",
      "230\n",
      "580\n",
      "y_loss: 4.246064070682586\n",
      "r_squared: 0.9640543024790765\n",
      "231\n",
      "580\n",
      "y_loss: 4.084431132136086\n",
      "r_squared: 0.9686724885489236\n",
      "232\n",
      "580\n",
      "y_loss: 3.76731104079884\n",
      "r_squared: 0.969516787532179\n",
      "233\n",
      "580\n",
      "y_loss: 4.073032296025537\n",
      "r_squared: 0.9712787132438864\n",
      "234\n",
      "580\n",
      "y_loss: 3.6856108337851987\n",
      "r_squared: 0.9776454741936736\n",
      "235\n",
      "580\n",
      "y_loss: 3.279350006967486\n",
      "r_squared: 0.9838751411658119\n",
      "236\n",
      "580\n",
      "y_loss: 3.073385534993081\n",
      "r_squared: 0.9867637761645511\n",
      "237\n",
      "580\n",
      "y_loss: 5.796315968363024\n",
      "r_squared: 0.956071105451589\n",
      "238\n",
      "580\n",
      "y_loss: 7.394501560057756\n",
      "r_squared: 0.9437582246741282\n",
      "239\n",
      "580\n",
      "y_loss: 4.111534370710022\n",
      "r_squared: 0.943415429321657\n",
      "240\n",
      "580\n",
      "y_loss: 2.2287098488355843\n",
      "r_squared: 0.9910510432096696\n",
      "241\n",
      "580\n",
      "y_loss: 2.3460242658889743\n",
      "r_squared: 0.9906083717687706\n",
      "242\n",
      "580\n",
      "y_loss: 2.5911876605116375\n",
      "r_squared: 0.9890921967737702\n",
      "243\n",
      "580\n",
      "y_loss: 4.867897099309917\n",
      "r_squared: 0.9699534191297691\n",
      "244\n",
      "580\n",
      "y_loss: 2.529225960320106\n",
      "r_squared: 0.9905284187961046\n",
      "245\n",
      "580\n",
      "y_loss: 2.4533476132996666\n",
      "r_squared: 0.9917379411417185\n",
      "246\n",
      "580\n",
      "y_loss: 2.083830371137186\n",
      "r_squared: 0.9941837017405607\n",
      "247\n",
      "580\n",
      "y_loss: 2.8694663615919485\n",
      "r_squared: 0.9906772244860779\n",
      "248\n",
      "580\n",
      "y_loss: 2.242137161758157\n",
      "r_squared: 0.9930132828463537\n",
      "249\n",
      "580\n",
      "y_loss: 1.889375267967892\n",
      "r_squared: 0.9928125835468213\n",
      "250\n",
      "580\n",
      "y_loss: 1.5335062454856085\n",
      "r_squared: 0.9955542642090514\n",
      "251\n",
      "580\n",
      "y_loss: 1.378418721433347\n",
      "r_squared: 0.9957211755770055\n",
      "252\n",
      "580\n",
      "y_loss: 1.209517125149347\n",
      "r_squared: 0.9963703290025065\n",
      "253\n",
      "580\n",
      "y_loss: 2.3873194890964653\n",
      "r_squared: 0.9887191879911388\n",
      "254\n",
      "580\n",
      "y_loss: 1.2446935793724483\n",
      "r_squared: 0.9971444798886624\n",
      "255\n",
      "580\n",
      "y_loss: 1.3371639642768816\n",
      "r_squared: 0.9957489379949044\n",
      "256\n",
      "580\n",
      "y_loss: 4.631686626077436\n",
      "r_squared: 0.9731110978688211\n",
      "257\n",
      "580\n",
      "y_loss: 13.609160525113753\n",
      "r_squared: 0.8044586508622992\n",
      "258\n",
      "580\n",
      "y_loss: 9.07825855339143\n",
      "r_squared: 0.748677761239184\n"
     ]
    },
    {
     "data": {
      "text/plain": [
       "<Figure size 640x480 with 0 Axes>"
      ]
     },
     "metadata": {},
     "output_type": "display_data"
    },
    {
     "data": {
      "text/plain": [
       "<Figure size 640x480 with 0 Axes>"
      ]
     },
     "metadata": {},
     "output_type": "display_data"
    },
    {
     "data": {
      "text/plain": [
       "<Figure size 640x480 with 0 Axes>"
      ]
     },
     "metadata": {},
     "output_type": "display_data"
    },
    {
     "data": {
      "text/plain": [
       "<Figure size 640x480 with 0 Axes>"
      ]
     },
     "metadata": {},
     "output_type": "display_data"
    },
    {
     "data": {
      "text/plain": [
       "<Figure size 640x480 with 0 Axes>"
      ]
     },
     "metadata": {},
     "output_type": "display_data"
    },
    {
     "data": {
      "text/plain": [
       "<Figure size 640x480 with 0 Axes>"
      ]
     },
     "metadata": {},
     "output_type": "display_data"
    },
    {
     "data": {
      "text/plain": [
       "<Figure size 640x480 with 0 Axes>"
      ]
     },
     "metadata": {},
     "output_type": "display_data"
    },
    {
     "data": {
      "text/plain": [
       "<Figure size 640x480 with 0 Axes>"
      ]
     },
     "metadata": {},
     "output_type": "display_data"
    },
    {
     "data": {
      "text/plain": [
       "<Figure size 640x480 with 0 Axes>"
      ]
     },
     "metadata": {},
     "output_type": "display_data"
    },
    {
     "data": {
      "text/plain": [
       "<Figure size 640x480 with 0 Axes>"
      ]
     },
     "metadata": {},
     "output_type": "display_data"
    },
    {
     "data": {
      "text/plain": [
       "<Figure size 640x480 with 0 Axes>"
      ]
     },
     "metadata": {},
     "output_type": "display_data"
    },
    {
     "data": {
      "text/plain": [
       "<Figure size 640x480 with 0 Axes>"
      ]
     },
     "metadata": {},
     "output_type": "display_data"
    },
    {
     "data": {
      "text/plain": [
       "<Figure size 640x480 with 0 Axes>"
      ]
     },
     "metadata": {},
     "output_type": "display_data"
    },
    {
     "data": {
      "text/plain": [
       "<Figure size 640x480 with 0 Axes>"
      ]
     },
     "metadata": {},
     "output_type": "display_data"
    },
    {
     "data": {
      "text/plain": [
       "<Figure size 640x480 with 0 Axes>"
      ]
     },
     "metadata": {},
     "output_type": "display_data"
    },
    {
     "data": {
      "text/plain": [
       "<Figure size 640x480 with 0 Axes>"
      ]
     },
     "metadata": {},
     "output_type": "display_data"
    },
    {
     "data": {
      "text/plain": [
       "<Figure size 640x480 with 0 Axes>"
      ]
     },
     "metadata": {},
     "output_type": "display_data"
    },
    {
     "data": {
      "text/plain": [
       "<Figure size 640x480 with 0 Axes>"
      ]
     },
     "metadata": {},
     "output_type": "display_data"
    },
    {
     "data": {
      "text/plain": [
       "<Figure size 640x480 with 0 Axes>"
      ]
     },
     "metadata": {},
     "output_type": "display_data"
    },
    {
     "data": {
      "text/plain": [
       "<Figure size 640x480 with 0 Axes>"
      ]
     },
     "metadata": {},
     "output_type": "display_data"
    },
    {
     "data": {
      "text/plain": [
       "<Figure size 640x480 with 0 Axes>"
      ]
     },
     "metadata": {},
     "output_type": "display_data"
    },
    {
     "data": {
      "text/plain": [
       "<Figure size 640x480 with 0 Axes>"
      ]
     },
     "metadata": {},
     "output_type": "display_data"
    },
    {
     "data": {
      "text/plain": [
       "<Figure size 640x480 with 0 Axes>"
      ]
     },
     "metadata": {},
     "output_type": "display_data"
    },
    {
     "data": {
      "text/plain": [
       "<Figure size 640x480 with 0 Axes>"
      ]
     },
     "metadata": {},
     "output_type": "display_data"
    },
    {
     "data": {
      "text/plain": [
       "<Figure size 640x480 with 0 Axes>"
      ]
     },
     "metadata": {},
     "output_type": "display_data"
    },
    {
     "data": {
      "text/plain": [
       "<Figure size 640x480 with 0 Axes>"
      ]
     },
     "metadata": {},
     "output_type": "display_data"
    },
    {
     "data": {
      "text/plain": [
       "<Figure size 640x480 with 0 Axes>"
      ]
     },
     "metadata": {},
     "output_type": "display_data"
    },
    {
     "data": {
      "text/plain": [
       "<Figure size 640x480 with 0 Axes>"
      ]
     },
     "metadata": {},
     "output_type": "display_data"
    },
    {
     "data": {
      "text/plain": [
       "<Figure size 640x480 with 0 Axes>"
      ]
     },
     "metadata": {},
     "output_type": "display_data"
    },
    {
     "data": {
      "text/plain": [
       "<Figure size 640x480 with 0 Axes>"
      ]
     },
     "metadata": {},
     "output_type": "display_data"
    },
    {
     "data": {
      "text/plain": [
       "<Figure size 640x480 with 0 Axes>"
      ]
     },
     "metadata": {},
     "output_type": "display_data"
    },
    {
     "data": {
      "text/plain": [
       "<Figure size 640x480 with 0 Axes>"
      ]
     },
     "metadata": {},
     "output_type": "display_data"
    },
    {
     "data": {
      "text/plain": [
       "<Figure size 640x480 with 0 Axes>"
      ]
     },
     "metadata": {},
     "output_type": "display_data"
    },
    {
     "data": {
      "text/plain": [
       "<Figure size 640x480 with 0 Axes>"
      ]
     },
     "metadata": {},
     "output_type": "display_data"
    },
    {
     "data": {
      "text/plain": [
       "<Figure size 640x480 with 0 Axes>"
      ]
     },
     "metadata": {},
     "output_type": "display_data"
    },
    {
     "data": {
      "text/plain": [
       "<Figure size 640x480 with 0 Axes>"
      ]
     },
     "metadata": {},
     "output_type": "display_data"
    },
    {
     "data": {
      "text/plain": [
       "<Figure size 640x480 with 0 Axes>"
      ]
     },
     "metadata": {},
     "output_type": "display_data"
    },
    {
     "data": {
      "text/plain": [
       "<Figure size 640x480 with 0 Axes>"
      ]
     },
     "metadata": {},
     "output_type": "display_data"
    },
    {
     "data": {
      "text/plain": [
       "<Figure size 640x480 with 0 Axes>"
      ]
     },
     "metadata": {},
     "output_type": "display_data"
    },
    {
     "data": {
      "text/plain": [
       "<Figure size 640x480 with 0 Axes>"
      ]
     },
     "metadata": {},
     "output_type": "display_data"
    },
    {
     "data": {
      "text/plain": [
       "<Figure size 640x480 with 0 Axes>"
      ]
     },
     "metadata": {},
     "output_type": "display_data"
    },
    {
     "data": {
      "text/plain": [
       "<Figure size 640x480 with 0 Axes>"
      ]
     },
     "metadata": {},
     "output_type": "display_data"
    },
    {
     "data": {
      "text/plain": [
       "<Figure size 640x480 with 0 Axes>"
      ]
     },
     "metadata": {},
     "output_type": "display_data"
    },
    {
     "data": {
      "text/plain": [
       "<Figure size 640x480 with 0 Axes>"
      ]
     },
     "metadata": {},
     "output_type": "display_data"
    },
    {
     "data": {
      "text/plain": [
       "<Figure size 640x480 with 0 Axes>"
      ]
     },
     "metadata": {},
     "output_type": "display_data"
    },
    {
     "data": {
      "text/plain": [
       "<Figure size 640x480 with 0 Axes>"
      ]
     },
     "metadata": {},
     "output_type": "display_data"
    },
    {
     "data": {
      "text/plain": [
       "<Figure size 640x480 with 0 Axes>"
      ]
     },
     "metadata": {},
     "output_type": "display_data"
    },
    {
     "data": {
      "text/plain": [
       "<Figure size 640x480 with 0 Axes>"
      ]
     },
     "metadata": {},
     "output_type": "display_data"
    },
    {
     "data": {
      "text/plain": [
       "<Figure size 640x480 with 0 Axes>"
      ]
     },
     "metadata": {},
     "output_type": "display_data"
    },
    {
     "data": {
      "text/plain": [
       "<Figure size 640x480 with 0 Axes>"
      ]
     },
     "metadata": {},
     "output_type": "display_data"
    },
    {
     "data": {
      "text/plain": [
       "<Figure size 640x480 with 0 Axes>"
      ]
     },
     "metadata": {},
     "output_type": "display_data"
    },
    {
     "data": {
      "text/plain": [
       "<Figure size 640x480 with 0 Axes>"
      ]
     },
     "metadata": {},
     "output_type": "display_data"
    },
    {
     "data": {
      "text/plain": [
       "<Figure size 640x480 with 0 Axes>"
      ]
     },
     "metadata": {},
     "output_type": "display_data"
    },
    {
     "data": {
      "text/plain": [
       "<Figure size 640x480 with 0 Axes>"
      ]
     },
     "metadata": {},
     "output_type": "display_data"
    },
    {
     "data": {
      "text/plain": [
       "<Figure size 640x480 with 0 Axes>"
      ]
     },
     "metadata": {},
     "output_type": "display_data"
    },
    {
     "data": {
      "text/plain": [
       "<Figure size 640x480 with 0 Axes>"
      ]
     },
     "metadata": {},
     "output_type": "display_data"
    },
    {
     "data": {
      "text/plain": [
       "<Figure size 640x480 with 0 Axes>"
      ]
     },
     "metadata": {},
     "output_type": "display_data"
    },
    {
     "data": {
      "text/plain": [
       "<Figure size 640x480 with 0 Axes>"
      ]
     },
     "metadata": {},
     "output_type": "display_data"
    },
    {
     "data": {
      "text/plain": [
       "<Figure size 640x480 with 0 Axes>"
      ]
     },
     "metadata": {},
     "output_type": "display_data"
    },
    {
     "data": {
      "text/plain": [
       "<Figure size 640x480 with 0 Axes>"
      ]
     },
     "metadata": {},
     "output_type": "display_data"
    },
    {
     "data": {
      "text/plain": [
       "<Figure size 640x480 with 0 Axes>"
      ]
     },
     "metadata": {},
     "output_type": "display_data"
    },
    {
     "data": {
      "text/plain": [
       "<Figure size 640x480 with 0 Axes>"
      ]
     },
     "metadata": {},
     "output_type": "display_data"
    },
    {
     "data": {
      "text/plain": [
       "<Figure size 640x480 with 0 Axes>"
      ]
     },
     "metadata": {},
     "output_type": "display_data"
    },
    {
     "data": {
      "text/plain": [
       "<Figure size 640x480 with 0 Axes>"
      ]
     },
     "metadata": {},
     "output_type": "display_data"
    },
    {
     "data": {
      "text/plain": [
       "<Figure size 640x480 with 0 Axes>"
      ]
     },
     "metadata": {},
     "output_type": "display_data"
    },
    {
     "data": {
      "text/plain": [
       "<Figure size 640x480 with 0 Axes>"
      ]
     },
     "metadata": {},
     "output_type": "display_data"
    },
    {
     "data": {
      "text/plain": [
       "<Figure size 640x480 with 0 Axes>"
      ]
     },
     "metadata": {},
     "output_type": "display_data"
    },
    {
     "data": {
      "text/plain": [
       "<Figure size 640x480 with 0 Axes>"
      ]
     },
     "metadata": {},
     "output_type": "display_data"
    },
    {
     "data": {
      "text/plain": [
       "<Figure size 640x480 with 0 Axes>"
      ]
     },
     "metadata": {},
     "output_type": "display_data"
    },
    {
     "data": {
      "text/plain": [
       "<Figure size 640x480 with 0 Axes>"
      ]
     },
     "metadata": {},
     "output_type": "display_data"
    },
    {
     "data": {
      "text/plain": [
       "<Figure size 640x480 with 0 Axes>"
      ]
     },
     "metadata": {},
     "output_type": "display_data"
    },
    {
     "data": {
      "text/plain": [
       "<Figure size 640x480 with 0 Axes>"
      ]
     },
     "metadata": {},
     "output_type": "display_data"
    },
    {
     "data": {
      "text/plain": [
       "<Figure size 640x480 with 0 Axes>"
      ]
     },
     "metadata": {},
     "output_type": "display_data"
    },
    {
     "data": {
      "text/plain": [
       "<Figure size 640x480 with 0 Axes>"
      ]
     },
     "metadata": {},
     "output_type": "display_data"
    },
    {
     "data": {
      "text/plain": [
       "<Figure size 640x480 with 0 Axes>"
      ]
     },
     "metadata": {},
     "output_type": "display_data"
    },
    {
     "data": {
      "text/plain": [
       "<Figure size 640x480 with 0 Axes>"
      ]
     },
     "metadata": {},
     "output_type": "display_data"
    },
    {
     "data": {
      "text/plain": [
       "<Figure size 640x480 with 0 Axes>"
      ]
     },
     "metadata": {},
     "output_type": "display_data"
    },
    {
     "data": {
      "text/plain": [
       "<Figure size 640x480 with 0 Axes>"
      ]
     },
     "metadata": {},
     "output_type": "display_data"
    },
    {
     "data": {
      "text/plain": [
       "<Figure size 640x480 with 0 Axes>"
      ]
     },
     "metadata": {},
     "output_type": "display_data"
    },
    {
     "data": {
      "text/plain": [
       "<Figure size 640x480 with 0 Axes>"
      ]
     },
     "metadata": {},
     "output_type": "display_data"
    },
    {
     "data": {
      "text/plain": [
       "<Figure size 640x480 with 0 Axes>"
      ]
     },
     "metadata": {},
     "output_type": "display_data"
    },
    {
     "data": {
      "text/plain": [
       "<Figure size 640x480 with 0 Axes>"
      ]
     },
     "metadata": {},
     "output_type": "display_data"
    },
    {
     "data": {
      "text/plain": [
       "<Figure size 640x480 with 0 Axes>"
      ]
     },
     "metadata": {},
     "output_type": "display_data"
    },
    {
     "data": {
      "text/plain": [
       "<Figure size 640x480 with 0 Axes>"
      ]
     },
     "metadata": {},
     "output_type": "display_data"
    },
    {
     "data": {
      "text/plain": [
       "<Figure size 640x480 with 0 Axes>"
      ]
     },
     "metadata": {},
     "output_type": "display_data"
    },
    {
     "data": {
      "text/plain": [
       "<Figure size 640x480 with 0 Axes>"
      ]
     },
     "metadata": {},
     "output_type": "display_data"
    },
    {
     "data": {
      "text/plain": [
       "<Figure size 640x480 with 0 Axes>"
      ]
     },
     "metadata": {},
     "output_type": "display_data"
    },
    {
     "data": {
      "text/plain": [
       "<Figure size 640x480 with 0 Axes>"
      ]
     },
     "metadata": {},
     "output_type": "display_data"
    },
    {
     "data": {
      "text/plain": [
       "<Figure size 640x480 with 0 Axes>"
      ]
     },
     "metadata": {},
     "output_type": "display_data"
    },
    {
     "data": {
      "text/plain": [
       "<Figure size 640x480 with 0 Axes>"
      ]
     },
     "metadata": {},
     "output_type": "display_data"
    },
    {
     "data": {
      "text/plain": [
       "<Figure size 640x480 with 0 Axes>"
      ]
     },
     "metadata": {},
     "output_type": "display_data"
    },
    {
     "data": {
      "text/plain": [
       "<Figure size 640x480 with 0 Axes>"
      ]
     },
     "metadata": {},
     "output_type": "display_data"
    },
    {
     "data": {
      "text/plain": [
       "<Figure size 640x480 with 0 Axes>"
      ]
     },
     "metadata": {},
     "output_type": "display_data"
    },
    {
     "data": {
      "text/plain": [
       "<Figure size 640x480 with 0 Axes>"
      ]
     },
     "metadata": {},
     "output_type": "display_data"
    },
    {
     "data": {
      "text/plain": [
       "<Figure size 640x480 with 0 Axes>"
      ]
     },
     "metadata": {},
     "output_type": "display_data"
    },
    {
     "data": {
      "text/plain": [
       "<Figure size 640x480 with 0 Axes>"
      ]
     },
     "metadata": {},
     "output_type": "display_data"
    },
    {
     "data": {
      "text/plain": [
       "<Figure size 640x480 with 0 Axes>"
      ]
     },
     "metadata": {},
     "output_type": "display_data"
    },
    {
     "data": {
      "text/plain": [
       "<Figure size 640x480 with 0 Axes>"
      ]
     },
     "metadata": {},
     "output_type": "display_data"
    },
    {
     "data": {
      "text/plain": [
       "<Figure size 640x480 with 0 Axes>"
      ]
     },
     "metadata": {},
     "output_type": "display_data"
    },
    {
     "data": {
      "text/plain": [
       "<Figure size 640x480 with 0 Axes>"
      ]
     },
     "metadata": {},
     "output_type": "display_data"
    },
    {
     "data": {
      "text/plain": [
       "<Figure size 640x480 with 0 Axes>"
      ]
     },
     "metadata": {},
     "output_type": "display_data"
    },
    {
     "data": {
      "text/plain": [
       "<Figure size 640x480 with 0 Axes>"
      ]
     },
     "metadata": {},
     "output_type": "display_data"
    },
    {
     "data": {
      "text/plain": [
       "<Figure size 640x480 with 0 Axes>"
      ]
     },
     "metadata": {},
     "output_type": "display_data"
    },
    {
     "data": {
      "text/plain": [
       "<Figure size 640x480 with 0 Axes>"
      ]
     },
     "metadata": {},
     "output_type": "display_data"
    },
    {
     "data": {
      "text/plain": [
       "<Figure size 640x480 with 0 Axes>"
      ]
     },
     "metadata": {},
     "output_type": "display_data"
    },
    {
     "data": {
      "text/plain": [
       "<Figure size 640x480 with 0 Axes>"
      ]
     },
     "metadata": {},
     "output_type": "display_data"
    },
    {
     "data": {
      "text/plain": [
       "<Figure size 640x480 with 0 Axes>"
      ]
     },
     "metadata": {},
     "output_type": "display_data"
    },
    {
     "data": {
      "text/plain": [
       "<Figure size 640x480 with 0 Axes>"
      ]
     },
     "metadata": {},
     "output_type": "display_data"
    },
    {
     "data": {
      "text/plain": [
       "<Figure size 640x480 with 0 Axes>"
      ]
     },
     "metadata": {},
     "output_type": "display_data"
    },
    {
     "data": {
      "text/plain": [
       "<Figure size 640x480 with 0 Axes>"
      ]
     },
     "metadata": {},
     "output_type": "display_data"
    },
    {
     "data": {
      "text/plain": [
       "<Figure size 640x480 with 0 Axes>"
      ]
     },
     "metadata": {},
     "output_type": "display_data"
    },
    {
     "data": {
      "text/plain": [
       "<Figure size 640x480 with 0 Axes>"
      ]
     },
     "metadata": {},
     "output_type": "display_data"
    },
    {
     "data": {
      "text/plain": [
       "<Figure size 640x480 with 0 Axes>"
      ]
     },
     "metadata": {},
     "output_type": "display_data"
    },
    {
     "data": {
      "text/plain": [
       "<Figure size 640x480 with 0 Axes>"
      ]
     },
     "metadata": {},
     "output_type": "display_data"
    },
    {
     "data": {
      "text/plain": [
       "<Figure size 640x480 with 0 Axes>"
      ]
     },
     "metadata": {},
     "output_type": "display_data"
    },
    {
     "data": {
      "text/plain": [
       "<Figure size 640x480 with 0 Axes>"
      ]
     },
     "metadata": {},
     "output_type": "display_data"
    },
    {
     "data": {
      "text/plain": [
       "<Figure size 640x480 with 0 Axes>"
      ]
     },
     "metadata": {},
     "output_type": "display_data"
    },
    {
     "data": {
      "text/plain": [
       "<Figure size 640x480 with 0 Axes>"
      ]
     },
     "metadata": {},
     "output_type": "display_data"
    },
    {
     "data": {
      "text/plain": [
       "<Figure size 640x480 with 0 Axes>"
      ]
     },
     "metadata": {},
     "output_type": "display_data"
    },
    {
     "data": {
      "text/plain": [
       "<Figure size 640x480 with 0 Axes>"
      ]
     },
     "metadata": {},
     "output_type": "display_data"
    },
    {
     "data": {
      "text/plain": [
       "<Figure size 640x480 with 0 Axes>"
      ]
     },
     "metadata": {},
     "output_type": "display_data"
    },
    {
     "data": {
      "text/plain": [
       "<Figure size 640x480 with 0 Axes>"
      ]
     },
     "metadata": {},
     "output_type": "display_data"
    },
    {
     "data": {
      "text/plain": [
       "<Figure size 640x480 with 0 Axes>"
      ]
     },
     "metadata": {},
     "output_type": "display_data"
    },
    {
     "data": {
      "text/plain": [
       "<Figure size 640x480 with 0 Axes>"
      ]
     },
     "metadata": {},
     "output_type": "display_data"
    },
    {
     "data": {
      "text/plain": [
       "<Figure size 640x480 with 0 Axes>"
      ]
     },
     "metadata": {},
     "output_type": "display_data"
    },
    {
     "data": {
      "text/plain": [
       "<Figure size 640x480 with 0 Axes>"
      ]
     },
     "metadata": {},
     "output_type": "display_data"
    },
    {
     "data": {
      "text/plain": [
       "<Figure size 640x480 with 0 Axes>"
      ]
     },
     "metadata": {},
     "output_type": "display_data"
    },
    {
     "data": {
      "text/plain": [
       "<Figure size 640x480 with 0 Axes>"
      ]
     },
     "metadata": {},
     "output_type": "display_data"
    },
    {
     "data": {
      "text/plain": [
       "<Figure size 640x480 with 0 Axes>"
      ]
     },
     "metadata": {},
     "output_type": "display_data"
    },
    {
     "data": {
      "text/plain": [
       "<Figure size 640x480 with 0 Axes>"
      ]
     },
     "metadata": {},
     "output_type": "display_data"
    },
    {
     "data": {
      "text/plain": [
       "<Figure size 640x480 with 0 Axes>"
      ]
     },
     "metadata": {},
     "output_type": "display_data"
    },
    {
     "data": {
      "text/plain": [
       "<Figure size 640x480 with 0 Axes>"
      ]
     },
     "metadata": {},
     "output_type": "display_data"
    },
    {
     "data": {
      "text/plain": [
       "<Figure size 640x480 with 0 Axes>"
      ]
     },
     "metadata": {},
     "output_type": "display_data"
    },
    {
     "data": {
      "text/plain": [
       "<Figure size 640x480 with 0 Axes>"
      ]
     },
     "metadata": {},
     "output_type": "display_data"
    },
    {
     "data": {
      "text/plain": [
       "<Figure size 640x480 with 0 Axes>"
      ]
     },
     "metadata": {},
     "output_type": "display_data"
    },
    {
     "data": {
      "text/plain": [
       "<Figure size 640x480 with 0 Axes>"
      ]
     },
     "metadata": {},
     "output_type": "display_data"
    },
    {
     "data": {
      "text/plain": [
       "<Figure size 640x480 with 0 Axes>"
      ]
     },
     "metadata": {},
     "output_type": "display_data"
    },
    {
     "data": {
      "text/plain": [
       "<Figure size 640x480 with 0 Axes>"
      ]
     },
     "metadata": {},
     "output_type": "display_data"
    },
    {
     "data": {
      "text/plain": [
       "<Figure size 640x480 with 0 Axes>"
      ]
     },
     "metadata": {},
     "output_type": "display_data"
    },
    {
     "data": {
      "text/plain": [
       "<Figure size 640x480 with 0 Axes>"
      ]
     },
     "metadata": {},
     "output_type": "display_data"
    },
    {
     "data": {
      "text/plain": [
       "<Figure size 640x480 with 0 Axes>"
      ]
     },
     "metadata": {},
     "output_type": "display_data"
    },
    {
     "data": {
      "text/plain": [
       "<Figure size 640x480 with 0 Axes>"
      ]
     },
     "metadata": {},
     "output_type": "display_data"
    },
    {
     "data": {
      "text/plain": [
       "<Figure size 640x480 with 0 Axes>"
      ]
     },
     "metadata": {},
     "output_type": "display_data"
    },
    {
     "data": {
      "text/plain": [
       "<Figure size 640x480 with 0 Axes>"
      ]
     },
     "metadata": {},
     "output_type": "display_data"
    },
    {
     "data": {
      "text/plain": [
       "<Figure size 640x480 with 0 Axes>"
      ]
     },
     "metadata": {},
     "output_type": "display_data"
    },
    {
     "data": {
      "text/plain": [
       "<Figure size 640x480 with 0 Axes>"
      ]
     },
     "metadata": {},
     "output_type": "display_data"
    },
    {
     "data": {
      "text/plain": [
       "<Figure size 640x480 with 0 Axes>"
      ]
     },
     "metadata": {},
     "output_type": "display_data"
    },
    {
     "data": {
      "text/plain": [
       "<Figure size 640x480 with 0 Axes>"
      ]
     },
     "metadata": {},
     "output_type": "display_data"
    },
    {
     "data": {
      "text/plain": [
       "<Figure size 640x480 with 0 Axes>"
      ]
     },
     "metadata": {},
     "output_type": "display_data"
    },
    {
     "data": {
      "text/plain": [
       "<Figure size 640x480 with 0 Axes>"
      ]
     },
     "metadata": {},
     "output_type": "display_data"
    },
    {
     "data": {
      "text/plain": [
       "<Figure size 640x480 with 0 Axes>"
      ]
     },
     "metadata": {},
     "output_type": "display_data"
    },
    {
     "data": {
      "text/plain": [
       "<Figure size 640x480 with 0 Axes>"
      ]
     },
     "metadata": {},
     "output_type": "display_data"
    },
    {
     "data": {
      "text/plain": [
       "<Figure size 640x480 with 0 Axes>"
      ]
     },
     "metadata": {},
     "output_type": "display_data"
    },
    {
     "data": {
      "text/plain": [
       "<Figure size 640x480 with 0 Axes>"
      ]
     },
     "metadata": {},
     "output_type": "display_data"
    },
    {
     "data": {
      "text/plain": [
       "<Figure size 640x480 with 0 Axes>"
      ]
     },
     "metadata": {},
     "output_type": "display_data"
    },
    {
     "data": {
      "text/plain": [
       "<Figure size 640x480 with 0 Axes>"
      ]
     },
     "metadata": {},
     "output_type": "display_data"
    },
    {
     "data": {
      "text/plain": [
       "<Figure size 640x480 with 0 Axes>"
      ]
     },
     "metadata": {},
     "output_type": "display_data"
    },
    {
     "data": {
      "text/plain": [
       "<Figure size 640x480 with 0 Axes>"
      ]
     },
     "metadata": {},
     "output_type": "display_data"
    },
    {
     "data": {
      "text/plain": [
       "<Figure size 640x480 with 0 Axes>"
      ]
     },
     "metadata": {},
     "output_type": "display_data"
    },
    {
     "data": {
      "text/plain": [
       "<Figure size 640x480 with 0 Axes>"
      ]
     },
     "metadata": {},
     "output_type": "display_data"
    },
    {
     "data": {
      "text/plain": [
       "<Figure size 640x480 with 0 Axes>"
      ]
     },
     "metadata": {},
     "output_type": "display_data"
    },
    {
     "data": {
      "text/plain": [
       "<Figure size 640x480 with 0 Axes>"
      ]
     },
     "metadata": {},
     "output_type": "display_data"
    },
    {
     "data": {
      "text/plain": [
       "<Figure size 640x480 with 0 Axes>"
      ]
     },
     "metadata": {},
     "output_type": "display_data"
    },
    {
     "data": {
      "text/plain": [
       "<Figure size 640x480 with 0 Axes>"
      ]
     },
     "metadata": {},
     "output_type": "display_data"
    },
    {
     "data": {
      "text/plain": [
       "<Figure size 640x480 with 0 Axes>"
      ]
     },
     "metadata": {},
     "output_type": "display_data"
    },
    {
     "data": {
      "text/plain": [
       "<Figure size 640x480 with 0 Axes>"
      ]
     },
     "metadata": {},
     "output_type": "display_data"
    },
    {
     "data": {
      "text/plain": [
       "<Figure size 640x480 with 0 Axes>"
      ]
     },
     "metadata": {},
     "output_type": "display_data"
    },
    {
     "data": {
      "text/plain": [
       "<Figure size 640x480 with 0 Axes>"
      ]
     },
     "metadata": {},
     "output_type": "display_data"
    },
    {
     "data": {
      "text/plain": [
       "<Figure size 640x480 with 0 Axes>"
      ]
     },
     "metadata": {},
     "output_type": "display_data"
    },
    {
     "data": {
      "text/plain": [
       "<Figure size 640x480 with 0 Axes>"
      ]
     },
     "metadata": {},
     "output_type": "display_data"
    },
    {
     "data": {
      "text/plain": [
       "<Figure size 640x480 with 0 Axes>"
      ]
     },
     "metadata": {},
     "output_type": "display_data"
    },
    {
     "data": {
      "text/plain": [
       "<Figure size 640x480 with 0 Axes>"
      ]
     },
     "metadata": {},
     "output_type": "display_data"
    },
    {
     "data": {
      "text/plain": [
       "<Figure size 640x480 with 0 Axes>"
      ]
     },
     "metadata": {},
     "output_type": "display_data"
    },
    {
     "data": {
      "text/plain": [
       "<Figure size 640x480 with 0 Axes>"
      ]
     },
     "metadata": {},
     "output_type": "display_data"
    },
    {
     "data": {
      "text/plain": [
       "<Figure size 640x480 with 0 Axes>"
      ]
     },
     "metadata": {},
     "output_type": "display_data"
    },
    {
     "data": {
      "text/plain": [
       "<Figure size 640x480 with 0 Axes>"
      ]
     },
     "metadata": {},
     "output_type": "display_data"
    },
    {
     "data": {
      "text/plain": [
       "<Figure size 640x480 with 0 Axes>"
      ]
     },
     "metadata": {},
     "output_type": "display_data"
    },
    {
     "data": {
      "text/plain": [
       "<Figure size 640x480 with 0 Axes>"
      ]
     },
     "metadata": {},
     "output_type": "display_data"
    },
    {
     "data": {
      "text/plain": [
       "<Figure size 640x480 with 0 Axes>"
      ]
     },
     "metadata": {},
     "output_type": "display_data"
    },
    {
     "data": {
      "text/plain": [
       "<Figure size 640x480 with 0 Axes>"
      ]
     },
     "metadata": {},
     "output_type": "display_data"
    },
    {
     "data": {
      "text/plain": [
       "<Figure size 640x480 with 0 Axes>"
      ]
     },
     "metadata": {},
     "output_type": "display_data"
    },
    {
     "data": {
      "text/plain": [
       "<Figure size 640x480 with 0 Axes>"
      ]
     },
     "metadata": {},
     "output_type": "display_data"
    },
    {
     "data": {
      "text/plain": [
       "<Figure size 640x480 with 0 Axes>"
      ]
     },
     "metadata": {},
     "output_type": "display_data"
    },
    {
     "data": {
      "text/plain": [
       "<Figure size 640x480 with 0 Axes>"
      ]
     },
     "metadata": {},
     "output_type": "display_data"
    },
    {
     "data": {
      "text/plain": [
       "<Figure size 640x480 with 0 Axes>"
      ]
     },
     "metadata": {},
     "output_type": "display_data"
    },
    {
     "data": {
      "text/plain": [
       "<Figure size 640x480 with 0 Axes>"
      ]
     },
     "metadata": {},
     "output_type": "display_data"
    },
    {
     "data": {
      "text/plain": [
       "<Figure size 640x480 with 0 Axes>"
      ]
     },
     "metadata": {},
     "output_type": "display_data"
    },
    {
     "data": {
      "text/plain": [
       "<Figure size 640x480 with 0 Axes>"
      ]
     },
     "metadata": {},
     "output_type": "display_data"
    },
    {
     "data": {
      "text/plain": [
       "<Figure size 640x480 with 0 Axes>"
      ]
     },
     "metadata": {},
     "output_type": "display_data"
    },
    {
     "data": {
      "text/plain": [
       "<Figure size 640x480 with 0 Axes>"
      ]
     },
     "metadata": {},
     "output_type": "display_data"
    },
    {
     "data": {
      "text/plain": [
       "<Figure size 640x480 with 0 Axes>"
      ]
     },
     "metadata": {},
     "output_type": "display_data"
    },
    {
     "data": {
      "text/plain": [
       "<Figure size 640x480 with 0 Axes>"
      ]
     },
     "metadata": {},
     "output_type": "display_data"
    },
    {
     "data": {
      "text/plain": [
       "<Figure size 640x480 with 0 Axes>"
      ]
     },
     "metadata": {},
     "output_type": "display_data"
    },
    {
     "data": {
      "text/plain": [
       "<Figure size 640x480 with 0 Axes>"
      ]
     },
     "metadata": {},
     "output_type": "display_data"
    },
    {
     "data": {
      "text/plain": [
       "<Figure size 640x480 with 0 Axes>"
      ]
     },
     "metadata": {},
     "output_type": "display_data"
    },
    {
     "data": {
      "text/plain": [
       "<Figure size 640x480 with 0 Axes>"
      ]
     },
     "metadata": {},
     "output_type": "display_data"
    },
    {
     "data": {
      "text/plain": [
       "<Figure size 640x480 with 0 Axes>"
      ]
     },
     "metadata": {},
     "output_type": "display_data"
    },
    {
     "data": {
      "text/plain": [
       "<Figure size 640x480 with 0 Axes>"
      ]
     },
     "metadata": {},
     "output_type": "display_data"
    },
    {
     "data": {
      "text/plain": [
       "<Figure size 640x480 with 0 Axes>"
      ]
     },
     "metadata": {},
     "output_type": "display_data"
    },
    {
     "data": {
      "text/plain": [
       "<Figure size 640x480 with 0 Axes>"
      ]
     },
     "metadata": {},
     "output_type": "display_data"
    },
    {
     "data": {
      "text/plain": [
       "<Figure size 640x480 with 0 Axes>"
      ]
     },
     "metadata": {},
     "output_type": "display_data"
    },
    {
     "data": {
      "text/plain": [
       "<Figure size 640x480 with 0 Axes>"
      ]
     },
     "metadata": {},
     "output_type": "display_data"
    },
    {
     "data": {
      "text/plain": [
       "<Figure size 640x480 with 0 Axes>"
      ]
     },
     "metadata": {},
     "output_type": "display_data"
    },
    {
     "data": {
      "text/plain": [
       "<Figure size 640x480 with 0 Axes>"
      ]
     },
     "metadata": {},
     "output_type": "display_data"
    },
    {
     "data": {
      "text/plain": [
       "<Figure size 640x480 with 0 Axes>"
      ]
     },
     "metadata": {},
     "output_type": "display_data"
    },
    {
     "data": {
      "text/plain": [
       "<Figure size 640x480 with 0 Axes>"
      ]
     },
     "metadata": {},
     "output_type": "display_data"
    },
    {
     "data": {
      "text/plain": [
       "<Figure size 640x480 with 0 Axes>"
      ]
     },
     "metadata": {},
     "output_type": "display_data"
    },
    {
     "data": {
      "text/plain": [
       "<Figure size 640x480 with 0 Axes>"
      ]
     },
     "metadata": {},
     "output_type": "display_data"
    },
    {
     "data": {
      "text/plain": [
       "<Figure size 640x480 with 0 Axes>"
      ]
     },
     "metadata": {},
     "output_type": "display_data"
    },
    {
     "data": {
      "text/plain": [
       "<Figure size 640x480 with 0 Axes>"
      ]
     },
     "metadata": {},
     "output_type": "display_data"
    },
    {
     "data": {
      "text/plain": [
       "<Figure size 640x480 with 0 Axes>"
      ]
     },
     "metadata": {},
     "output_type": "display_data"
    },
    {
     "data": {
      "text/plain": [
       "<Figure size 640x480 with 0 Axes>"
      ]
     },
     "metadata": {},
     "output_type": "display_data"
    },
    {
     "data": {
      "text/plain": [
       "<Figure size 640x480 with 0 Axes>"
      ]
     },
     "metadata": {},
     "output_type": "display_data"
    },
    {
     "data": {
      "text/plain": [
       "<Figure size 640x480 with 0 Axes>"
      ]
     },
     "metadata": {},
     "output_type": "display_data"
    },
    {
     "data": {
      "text/plain": [
       "<Figure size 640x480 with 0 Axes>"
      ]
     },
     "metadata": {},
     "output_type": "display_data"
    },
    {
     "data": {
      "text/plain": [
       "<Figure size 640x480 with 0 Axes>"
      ]
     },
     "metadata": {},
     "output_type": "display_data"
    },
    {
     "data": {
      "text/plain": [
       "<Figure size 640x480 with 0 Axes>"
      ]
     },
     "metadata": {},
     "output_type": "display_data"
    },
    {
     "data": {
      "text/plain": [
       "<Figure size 640x480 with 0 Axes>"
      ]
     },
     "metadata": {},
     "output_type": "display_data"
    },
    {
     "data": {
      "text/plain": [
       "<Figure size 640x480 with 0 Axes>"
      ]
     },
     "metadata": {},
     "output_type": "display_data"
    },
    {
     "data": {
      "text/plain": [
       "<Figure size 640x480 with 0 Axes>"
      ]
     },
     "metadata": {},
     "output_type": "display_data"
    },
    {
     "data": {
      "text/plain": [
       "<Figure size 640x480 with 0 Axes>"
      ]
     },
     "metadata": {},
     "output_type": "display_data"
    },
    {
     "data": {
      "text/plain": [
       "<Figure size 640x480 with 0 Axes>"
      ]
     },
     "metadata": {},
     "output_type": "display_data"
    },
    {
     "data": {
      "text/plain": [
       "<Figure size 640x480 with 0 Axes>"
      ]
     },
     "metadata": {},
     "output_type": "display_data"
    },
    {
     "data": {
      "text/plain": [
       "<Figure size 640x480 with 0 Axes>"
      ]
     },
     "metadata": {},
     "output_type": "display_data"
    },
    {
     "data": {
      "text/plain": [
       "<Figure size 640x480 with 0 Axes>"
      ]
     },
     "metadata": {},
     "output_type": "display_data"
    },
    {
     "data": {
      "text/plain": [
       "<Figure size 640x480 with 0 Axes>"
      ]
     },
     "metadata": {},
     "output_type": "display_data"
    },
    {
     "data": {
      "text/plain": [
       "<Figure size 640x480 with 0 Axes>"
      ]
     },
     "metadata": {},
     "output_type": "display_data"
    },
    {
     "data": {
      "text/plain": [
       "<Figure size 640x480 with 0 Axes>"
      ]
     },
     "metadata": {},
     "output_type": "display_data"
    },
    {
     "data": {
      "text/plain": [
       "<Figure size 640x480 with 0 Axes>"
      ]
     },
     "metadata": {},
     "output_type": "display_data"
    },
    {
     "data": {
      "text/plain": [
       "<Figure size 640x480 with 0 Axes>"
      ]
     },
     "metadata": {},
     "output_type": "display_data"
    },
    {
     "data": {
      "text/plain": [
       "<Figure size 640x480 with 0 Axes>"
      ]
     },
     "metadata": {},
     "output_type": "display_data"
    },
    {
     "data": {
      "text/plain": [
       "<Figure size 640x480 with 0 Axes>"
      ]
     },
     "metadata": {},
     "output_type": "display_data"
    },
    {
     "data": {
      "text/plain": [
       "<Figure size 640x480 with 0 Axes>"
      ]
     },
     "metadata": {},
     "output_type": "display_data"
    },
    {
     "data": {
      "text/plain": [
       "<Figure size 640x480 with 0 Axes>"
      ]
     },
     "metadata": {},
     "output_type": "display_data"
    },
    {
     "data": {
      "text/plain": [
       "<Figure size 640x480 with 0 Axes>"
      ]
     },
     "metadata": {},
     "output_type": "display_data"
    },
    {
     "data": {
      "text/plain": [
       "<Figure size 640x480 with 0 Axes>"
      ]
     },
     "metadata": {},
     "output_type": "display_data"
    },
    {
     "data": {
      "text/plain": [
       "<Figure size 640x480 with 0 Axes>"
      ]
     },
     "metadata": {},
     "output_type": "display_data"
    },
    {
     "data": {
      "text/plain": [
       "<Figure size 640x480 with 0 Axes>"
      ]
     },
     "metadata": {},
     "output_type": "display_data"
    },
    {
     "data": {
      "text/plain": [
       "<Figure size 640x480 with 0 Axes>"
      ]
     },
     "metadata": {},
     "output_type": "display_data"
    },
    {
     "data": {
      "text/plain": [
       "<Figure size 640x480 with 0 Axes>"
      ]
     },
     "metadata": {},
     "output_type": "display_data"
    },
    {
     "data": {
      "text/plain": [
       "<Figure size 640x480 with 0 Axes>"
      ]
     },
     "metadata": {},
     "output_type": "display_data"
    },
    {
     "data": {
      "text/plain": [
       "<Figure size 640x480 with 0 Axes>"
      ]
     },
     "metadata": {},
     "output_type": "display_data"
    },
    {
     "data": {
      "text/plain": [
       "<Figure size 640x480 with 0 Axes>"
      ]
     },
     "metadata": {},
     "output_type": "display_data"
    },
    {
     "data": {
      "text/plain": [
       "<Figure size 640x480 with 0 Axes>"
      ]
     },
     "metadata": {},
     "output_type": "display_data"
    },
    {
     "data": {
      "text/plain": [
       "<Figure size 640x480 with 0 Axes>"
      ]
     },
     "metadata": {},
     "output_type": "display_data"
    },
    {
     "data": {
      "text/plain": [
       "<Figure size 640x480 with 0 Axes>"
      ]
     },
     "metadata": {},
     "output_type": "display_data"
    },
    {
     "data": {
      "text/plain": [
       "<Figure size 640x480 with 0 Axes>"
      ]
     },
     "metadata": {},
     "output_type": "display_data"
    },
    {
     "data": {
      "text/plain": [
       "<Figure size 640x480 with 0 Axes>"
      ]
     },
     "metadata": {},
     "output_type": "display_data"
    },
    {
     "data": {
      "text/plain": [
       "<Figure size 640x480 with 0 Axes>"
      ]
     },
     "metadata": {},
     "output_type": "display_data"
    },
    {
     "data": {
      "text/plain": [
       "<Figure size 640x480 with 0 Axes>"
      ]
     },
     "metadata": {},
     "output_type": "display_data"
    },
    {
     "data": {
      "text/plain": [
       "<Figure size 640x480 with 0 Axes>"
      ]
     },
     "metadata": {},
     "output_type": "display_data"
    },
    {
     "data": {
      "text/plain": [
       "<Figure size 640x480 with 0 Axes>"
      ]
     },
     "metadata": {},
     "output_type": "display_data"
    },
    {
     "data": {
      "text/plain": [
       "<Figure size 640x480 with 0 Axes>"
      ]
     },
     "metadata": {},
     "output_type": "display_data"
    },
    {
     "data": {
      "text/plain": [
       "<Figure size 640x480 with 0 Axes>"
      ]
     },
     "metadata": {},
     "output_type": "display_data"
    },
    {
     "data": {
      "text/plain": [
       "<Figure size 640x480 with 0 Axes>"
      ]
     },
     "metadata": {},
     "output_type": "display_data"
    },
    {
     "data": {
      "text/plain": [
       "<Figure size 640x480 with 0 Axes>"
      ]
     },
     "metadata": {},
     "output_type": "display_data"
    },
    {
     "data": {
      "text/plain": [
       "<Figure size 640x480 with 0 Axes>"
      ]
     },
     "metadata": {},
     "output_type": "display_data"
    },
    {
     "data": {
      "text/plain": [
       "<Figure size 640x480 with 0 Axes>"
      ]
     },
     "metadata": {},
     "output_type": "display_data"
    }
   ],
   "source": [
    "# 拟合并且保存图片\n",
    "import csv\n",
    "import cv2\n",
    "import numpy as np\n",
    "import matplotlib.pyplot as plt\n",
    "from scipy.optimize import curve_fit\n",
    "from matplotlib.patches import Circle\n",
    "import os\n",
    "# from scipy.optimize import curve_fit\n",
    "\n",
    "\n",
    "def circle(x, cx, cy, r):\n",
    "    return np.sqrt(r**2 - (x - cx)**2) + cy\n",
    "\n",
    "# 创建一个列表，用于存储圆心和半径\n",
    "circle_data = []\n",
    "error_data = []\n",
    "# 读取黑白图片\n",
    "input_folder = './p2-7_extracted_cropped_binary/p5_extracted/'\n",
    "output_folder = './fitted_extracted/fitted_p5/'\n",
    "if not os.path.exists(output_folder):\n",
    "    os.makedirs(output_folder)\n",
    "# os.path.join(output_path, 'fitted_'+filename)\n",
    "\n",
    "i=1\n",
    "\n",
    "for filename in os.listdir(input_folder):\n",
    "    print(i)\n",
    "    i=i+1\n",
    "\n",
    "    # 创建一个新的 Figure 对象\n",
    "    plt.figure()\n",
    "    image = cv2.imread(os.path.join(input_folder, filename), cv2.IMREAD_GRAYSCALE)\n",
    "    # image = cv2.imread('./cropped/cropped_p2-1_0015.bmp', cv2.IMREAD_GRAYSCALE)\n",
    "    width, length = image.shape\n",
    "    print(width)\n",
    "    \n",
    "    cropped_image = image\n",
    "\n",
    "    # 获取裁剪后图像的形状\n",
    "    rows, cols = cropped_image.shape\n",
    "\n",
    "    # 存储每列的第一个黑色点的坐标\n",
    "    first_black_pixels = []\n",
    "\n",
    "    # 遍历每一列\n",
    "    for col in range(cols):\n",
    "    # 找到当前列中第一个黑色点的行坐标\n",
    "        black_pixel_row = np.argmax(cropped_image[:, col] == 0)\n",
    "        \n",
    "        # 如果找到了黑色点，则记录坐标\n",
    "        if black_pixel_row > 0:  # 0 表示未找到黑色点\n",
    "            # 转换坐标为完整图像坐标\n",
    "            full_image_row =width - (0 + black_pixel_row)\n",
    "            first_black_pixels.append((0 + col, full_image_row))\n",
    "\n",
    "    # 将坐标转换为 NumPy 数组\n",
    "    first_black_pixels = np.array(first_black_pixels)\n",
    "    # print(first_black_pixels)\n",
    "\n",
    "    # 进行圆形拟合\n",
    "    # p0 = [np.mean(first_black_pixels[:, 0]), np.mean(first_black_pixels[:, 1]), 10.0]  # 初始猜测值\n",
    "    p0 = [np.mean(first_black_pixels[:, 0]), np.mean(first_black_pixels[:, 1])-200, 200.0]  # 初始猜测值\n",
    "    params, covariance = curve_fit(circle, first_black_pixels[:, 0], first_black_pixels[:, 1], p0=p0)\n",
    "\n",
    "    predicted_y = circle(first_black_pixels[:, 0], *params)\n",
    "\n",
    "    # 计算拟合误差\n",
    "    y_loss = np.sqrt(np.mean((first_black_pixels[:, 1] - predicted_y)**2))\n",
    "    print('y_loss:', y_loss)\n",
    "    r_squared = 1 - (np.sum((first_black_pixels[:, 1] - circle(first_black_pixels[:, 0], *params))**2) / np.sum((first_black_pixels[:, 1] - np.mean(first_black_pixels[:, 1]))**2))\n",
    "    print('r_squared:', r_squared)\n",
    "\n",
    "\n",
    "    error_data.append((round(y_loss, 3), round(r_squared, 3)))\n",
    "#     fit_errors_pix = np.sqrt(np.diag(covariance))\n",
    "#     # 提取拟合结果\n",
    "#     cx, cy, r = params\n",
    "\n",
    "#     # 生成拟合曲线的 x 值范围\n",
    "#     fit_x = np.linspace(min(first_black_pixels[:, 0]), max(first_black_pixels[:, 0]), 100)\n",
    "    \n",
    "#     # 计算拟合曲线的 y 值\n",
    "#     fit_y = circle(fit_x, cx, cy, r)\n",
    "\n",
    "#     # 显示图像\n",
    "\n",
    "#     plt.imshow(image, cmap='gray')\n",
    "\n",
    "#     # 在坐标轴上画出每列的第一个黑色点的位置\n",
    "#     plt.scatter(first_black_pixels[:, 0], width-first_black_pixels[:, 1], color='red', s=5)\n",
    "#     # 画出拟合圆\n",
    "#     # plt.plot(fit_x, fit_y, color='blue')\n",
    "#     circle_patch = Circle((cx, width-cy), r, color='purple', fill=False)\n",
    "#     plt.gca().add_patch(circle_patch)\n",
    "\n",
    "\n",
    "#     scale_factor = 41 / length  # 将369像素映射到29mm\n",
    "\n",
    "#     # 标记圆心位置\n",
    "#     plt.scatter(cx, width-cy, color='green', marker='x')\n",
    "\n",
    "#     p1= [1.2, 7.8]\n",
    "#     p1_scaled=[0,0]\n",
    "#     p1_scaled[0] = (p1[0]+13)/scale_factor\n",
    "#     p1_scaled[1] = width - (p1[1]+6)/scale_factor \n",
    "#     print( \"焊接位置/mm：\", p1[0]+13, p1[1]+6) \n",
    "\n",
    "#     print(p1_scaled)\n",
    "#     plt.scatter(p1_scaled[0], p1_scaled[1], color='red', marker='x')\n",
    "\n",
    "#     # # 显示图像、黑色像素位置和拟合圆\n",
    "#     # plt.axis('equal')\n",
    "#     # plt.show()\n",
    "#     output_filename = os.path.join(output_folder, 'fitted_'+filename.replace('bmp','jpg'))\n",
    "#     plt.savefig(output_filename)\n",
    "#     print(\"圆半径\",r*scale_factor,\"mm\")\n",
    "\n",
    "\n",
    "#     scaled_first_black_pixels = first_black_pixels * scale_factor\n",
    "#     # p0_scaled = [175 * scale_factor, 60 * scale_factor, 150.0 * scale_factor]  # 初始猜测值\n",
    "#     p0_scaled = [p * scale_factor for p in p0]\n",
    "#     params_scaled, covariance_scaled = curve_fit(circle, scaled_first_black_pixels[:, 0], scaled_first_black_pixels[:, 1], p0=p0_scaled)\n",
    "#     # 计算标准偏差作为拟合误差的估计\n",
    "#     fit_errors_mm = np.sqrt(np.diag(covariance_scaled))\n",
    "#     # print(f\"Circle center (cx_scaled/mm, cy_scaled/mm): ({ cx*scale_factor -13:.2f} ± {fit_errors[0]:.2f}, {cy*scale_factor - 6:.2f} ± {fit_errors[1]:.2f})\")\n",
    "#     # print(f\"Circle radius (r_scaled/mm): {r*scale_factor:.2f} ± {fit_errors[2]:.2f}\")\n",
    "\n",
    "#     print(f\"Circle center (cx_scaled/pix, cy_scaled/pix): ({(cx -170):.2f} ± {fit_errors_pix[0]:.2f}, {(580 - cy):.2f} ± {fit_errors_pix[1]:.2f})\")\n",
    "#     print(f\"Circle radius (r_scaled/pix): {r:.2f} ± {fit_errors_pix[2]:.2f}\")\n",
    "#     circle_data.append((round(cx , 3), round(580 - cy , 3), round(r, 3)))\n",
    "#     error_data.append((round(fit_errors_pix[0], 3), round(fit_errors_pix[1], 3), round(fit_errors_pix[2], 3)))\n",
    "\n",
    "\n",
    "\n",
    "# # 读取文件\n",
    "# # with open('predict.txt', 'r') as f:\n",
    "# with open('./Data/labels-240301-p1_p6.txt', 'r') as f:\n",
    "#     reader = csv.reader(f)\n",
    "#     data = list(reader)\n",
    "\n",
    "# # 找到第一个第四、五、六列为空的行的索引\n",
    "# start_index = next((i for i, row in enumerate(data) if all(x == '' for x in row[3:6])), len(data))\n",
    "\n",
    "# # 添加新的数据\n",
    "# # for i in range(start_index, start_index + len(circle_data[:200])):\n",
    "# #     if i < len(data):\n",
    "# #         data[i][3:6] = circle_data[i - start_index]\n",
    "# #     else:\n",
    "# #         data.append(circle_data[i - start_index] + [''] * (len(data[0]) - 6))\n",
    "\n",
    "# for i in range (600, 800):\n",
    "#     data[i][3:6] = circle_data[i - 600] \n",
    "\n",
    "# # 写回文件\n",
    "# # with open('predict.txt', 'w', newline='') as f:\n",
    "# with open('./Data/labels-240301-p1_p6.txt', 'w', newline='') as f:\n",
    "#     writer = csv.writer(f)\n",
    "#     writer.writerows(data)\n",
    "\n",
    "\n",
    "# cv2.imwrite(output_filename, image)"
   ]
  },
  {
   "cell_type": "code",
   "execution_count": 2,
   "metadata": {},
   "outputs": [
    {
     "name": "stdout",
     "output_type": "stream",
     "text": [
      "1200\n"
     ]
    }
   ],
   "source": [
    "with open('error.txt', 'r') as f:\n",
    "    reader = csv.reader(f)\n",
    "    error_txt = list(reader)\n",
    "print(len(error_txt))\n",
    "\n",
    "# for _ in range(1200 - len(error_txt)):\n",
    "#     error_txt.append([''] * 3)\n",
    "# print(len(error_txt))\n",
    "\n",
    "# # 添加新的数据\n",
    "for i in range(len(error_txt)):\n",
    "    # 如果原有的列数不足6列，用空字符串填充\n",
    "    while len(error_txt[i]) < 5:\n",
    "        error_txt[i].append('')\n",
    "\n",
    "for i in range (600, 800):\n",
    "    error_txt[i][0:2] = error_data[i - 600]\n",
    "    # 写回文件\n",
    "with open('error.txt', 'w', newline='') as f:\n",
    "    writer = csv.writer(f)\n",
    "    writer.writerows(error_txt)"
   ]
  }
 ],
 "metadata": {
  "kernelspec": {
   "display_name": "base",
   "language": "python",
   "name": "python3"
  },
  "language_info": {
   "codemirror_mode": {
    "name": "ipython",
    "version": 3
   },
   "file_extension": ".py",
   "mimetype": "text/x-python",
   "name": "python",
   "nbconvert_exporter": "python",
   "pygments_lexer": "ipython3",
   "version": "3.9.13"
  }
 },
 "nbformat": 4,
 "nbformat_minor": 2
}
