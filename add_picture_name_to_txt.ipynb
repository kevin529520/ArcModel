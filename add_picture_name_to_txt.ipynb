{
 "cells": [
  {
   "cell_type": "code",
   "execution_count": 2,
   "metadata": {},
   "outputs": [],
   "source": [
    "import os\n",
    "\n",
    "# with open('predict.txt', 'a') as f:\n",
    "with open('./Data/labels-240301-p1_p6.txt', 'a') as f:\n",
    "    # f.write(\"pos_added_cropped_p0-1_0001.bmp\"+ '\\n')\n",
    "\n",
    "    for i in range(1,7):\n",
    "        # 字符串格式化   \n",
    "        # folder_path = \"./p{}\".format(i)  # 文件夹路径\n",
    "        # folder_path = f\"./cropped/cropped_p{i}\"  # 文件夹路径\n",
    "        folder_path = f\"./cropped_binary_resized_mirror/cropped_binary_resized_mirror_p{i}\"  # 文件夹路径\n",
    "        file_extension = \".bmp\"  # 文件扩展名\n",
    "\n",
    "\n",
    "        # Get the list of files in the folder\n",
    "        files = os.listdir(folder_path)\n",
    "\n",
    "\n",
    "\n",
    "        # Read the first 200 files in the folder\n",
    "        for filename in files[:200]:\n",
    "            \n",
    "        # 遍历文件夹中的所有文件，修改文件名\n",
    "        # for filename in os.listdir(folder_path):\n",
    "            \n",
    "            # 把filename保存到txt文档的第一列\n",
    "            with open('./Data/labels-240301-p1_p6.txt', 'a') as f:\n",
    "                if i==1:\n",
    "                    for _ in range(200):\n",
    "                        f.write(filename + '\\n')\n",
    "                    # f.write(filename + '\\n')   \n",
    "                else:\n",
    "                    f.write(filename + '\\n')  "
   ]
  },
  {
   "cell_type": "code",
   "execution_count": 8,
   "metadata": {},
   "outputs": [],
   "source": [
    "import csv\n",
    "\n",
    "# 创建一个列表，包含你想添加的值\n",
    "second_column_values = [0]*1 + [1.2]*63 + [2.5]*63 + [9.2]*63\n",
    "third_column_values = [3]*1 + [7.8]*63 + [11.8]*63 + [13.8]*63\n",
    "# 读取文件\n",
    "with open('predict.txt', 'r') as f:\n",
    "    reader = csv.reader(f)\n",
    "    data = list(reader)\n",
    "\n",
    "# 添加新的列\n",
    "for i in range(len(data)):\n",
    "    data[i].append(second_column_values[i])\n",
    "    data[i].append(third_column_values[i])\n",
    "# 写回文件\n",
    "with open('predict.txt', 'w', newline='') as f:\n",
    "    writer = csv.writer(f)\n",
    "    writer.writerows(data)"
   ]
  }
 ],
 "metadata": {
  "kernelspec": {
   "display_name": "base",
   "language": "python",
   "name": "python3"
  },
  "language_info": {
   "codemirror_mode": {
    "name": "ipython",
    "version": 3
   },
   "file_extension": ".py",
   "mimetype": "text/x-python",
   "name": "python",
   "nbconvert_exporter": "python",
   "pygments_lexer": "ipython3",
   "version": "3.9.13"
  },
  "orig_nbformat": 4
 },
 "nbformat": 4,
 "nbformat_minor": 2
}
